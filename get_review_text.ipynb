{
 "cells": [
  {
   "cell_type": "code",
   "execution_count": 48,
   "metadata": {
    "collapsed": true
   },
   "outputs": [],
   "source": [
    "import pandas as pd\n",
    "import sqlite3 \n",
    "import urllib\n",
    "from bs4 import BeautifulSoup \n",
    "import sqlite3 \n",
    "import time\n",
    "from urllib.request import Request, urlopen\n",
    "from IPython.display import clear_output"
   ]
  },
  {
   "cell_type": "code",
   "execution_count": 49,
   "metadata": {},
   "outputs": [
    {
     "name": "stdout",
     "output_type": "stream",
     "text": [
      "Progress Bar Loaded\n"
     ]
    }
   ],
   "source": [
    "# Load package for progress bar\n",
    "%run \"progress_bar.py\"\n",
    "print ('Progress Bar Loaded')"
   ]
  },
  {
   "cell_type": "code",
   "execution_count": 50,
   "metadata": {
    "collapsed": true
   },
   "outputs": [],
   "source": [
    "con = sqlite3.connect(\"pitchfork-data.db\")\n",
    "links_table = pd.read_sql_query(\"SELECT album, artist, score, link from album_table\", con)"
   ]
  },
  {
   "cell_type": "code",
   "execution_count": 51,
   "metadata": {},
   "outputs": [
    {
     "data": {
      "text/plain": [
       "'http://www.pitchfork.com/reviews/albums/22950-last-place/'"
      ]
     },
     "execution_count": 51,
     "metadata": {},
     "output_type": "execute_result"
    }
   ],
   "source": [
    "links_table[\"link\"][0]"
   ]
  },
  {
   "cell_type": "code",
   "execution_count": 68,
   "metadata": {},
   "outputs": [
    {
     "data": {
      "text/plain": [
       "'http://www.pitchfork.com/reviews/albums/22950-last-place/'"
      ]
     },
     "execution_count": 68,
     "metadata": {},
     "output_type": "execute_result"
    }
   ],
   "source": [
    "links_table[\"link\"][0]"
   ]
  },
  {
   "cell_type": "code",
   "execution_count": null,
   "metadata": {},
   "outputs": [
    {
     "name": "stdout",
     "output_type": "stream",
     "text": [
      "Author: Ryan Dombal \n",
      "Score: 7.6 \n",
      "Link: http://www.pitchfork.com/reviews/albums/22926-sick-scenes/ \n",
      "Delay: 1.05 \n",
      "Iterator: 24\n"
     ]
    }
   ],
   "source": [
    "iterator = 0 #Set iterator to measure progress\n",
    "con = sqlite3.connect(\"pitchfork-data.db\") #create connection\n",
    "\n",
    "for link in log_progress(links_table[\"link\"], every=1):\n",
    "    t0 = time.time()\n",
    "    headers = {\n",
    "        'User-Agent': 'Mozilla/5.0 (Windows NT 6.1) AppleWebKit/537.36 (KHTML, like Gecko) Chrome/41.0.2228.0 Safari/537.36',\n",
    "    }\n",
    "    req = Request(link, headers = headers)\n",
    "    webpage = urlopen(req).read()\n",
    "    response_delay = time.time() - t0\n",
    "    time.sleep(2*response_delay)  # wait Nx longer than it took them to respond\n",
    "    soup = BeautifulSoup(webpage, \"lxml\") #same as above\n",
    "    #Pull in the components we are interested in\n",
    "    score_soup = soup.findAll('div', {\"class\":\"score-circle\"}) #Score\n",
    "    abstract_soup = soup.findAll('div', {\"class\":\"review-detail__abstract\"})\n",
    "    review_soup = soup.findAll('div', {\"class\":\"contents dropcap\"})\n",
    "    author_name_soup = soup.findAll('a', {\"class\":\"authors-detail__display-name\"})\n",
    "    author_type_soup = soup.findAll('span', {\"class\":\"authors-detail__title\"})\n",
    "    #Loop each subset of the soup to grab the relevant info\n",
    "    for score_value in score_soup:\n",
    "        score = score_value.text\n",
    "    for abstract in abstract_soup:\n",
    "        abstract_text = abstract.text\n",
    "    for review in review_soup:\n",
    "        review_text = review.text\n",
    "    for author in author_name_soup:\n",
    "        author_name = author.text\n",
    "    for author in author_type_soup:\n",
    "        author_type = author.text\n",
    "    clear_output()\n",
    "    print (\"Author:\", author_name,\n",
    "           \"\\nScore:\", score,\n",
    "           \"\\nLink:\", link, \n",
    "           \"\\nDelay:\", round(response_delay, 2), \n",
    "           \"\\nIterator:\", iterator)\n",
    "    #Create the table\n",
    "    table = pd.DataFrame({'author': author_name, \n",
    "                          'author_type'  : author_type,\n",
    "                          'score' : score,\n",
    "                          'abstract': abstract_text,\n",
    "                          'review' : review_text,\n",
    "                          'link' : link},\n",
    "                          index=[0])\n",
    "    table.to_sql(\"review_text\",\n",
    "                 con,if_exists = \"append\", \n",
    "                                     index = False)\n",
    "    iterator= iterator + 1\n",
    "\n",
    "con.close() "
   ]
  },
  {
   "cell_type": "code",
   "execution_count": 71,
   "metadata": {
    "collapsed": true
   },
   "outputs": [],
   "source": [
    "\n"
   ]
  },
  {
   "cell_type": "code",
   "execution_count": null,
   "metadata": {
    "collapsed": true
   },
   "outputs": [],
   "source": []
  }
 ],
 "metadata": {
  "kernelspec": {
   "display_name": "Python 3",
   "language": "python",
   "name": "python3"
  },
  "language_info": {
   "codemirror_mode": {
    "name": "ipython",
    "version": 3
   },
   "file_extension": ".py",
   "mimetype": "text/x-python",
   "name": "python",
   "nbconvert_exporter": "python",
   "pygments_lexer": "ipython3",
   "version": "3.6.0"
  },
  "widgets": {
   "state": {
    "b69e933febf84b73971ebccd4e447802": {
     "views": [
      {
       "cell_index": 5
      }
     ]
    }
   },
   "version": "1.2.0"
  }
 },
 "nbformat": 4,
 "nbformat_minor": 2
}
