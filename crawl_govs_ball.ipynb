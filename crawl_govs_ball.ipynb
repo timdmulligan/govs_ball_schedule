{
 "cells": [
  {
   "cell_type": "markdown",
   "metadata": {},
   "source": [
    "## Creating the Optimal Gov's Ball Scedule"
   ]
  },
  {
   "cell_type": "code",
   "execution_count": 1,
   "metadata": {
    "collapsed": true
   },
   "outputs": [],
   "source": [
    "#Bring in the neccessary libraries \n",
    "import pandas as pd\n",
    "from io import StringIO\n",
    "import urllib\n",
    "from bs4 import BeautifulSoup \n",
    "import sqlite3 \n",
    "import time\n",
    "import numpy \n",
    "import signal\n",
    "from urllib.request import Request, urlopen\n",
    "from IPython.display import clear_output\n",
    "import numpy as np\n",
    "from scipy.stats import linregress\n"
   ]
  },
  {
   "cell_type": "code",
   "execution_count": 2,
   "metadata": {
    "collapsed": false
   },
   "outputs": [
    {
     "name": "stdout",
     "output_type": "stream",
     "text": [
      "Progress Bar Loaded\n"
     ]
    }
   ],
   "source": [
    "# Load package for progress bar\n",
    "%run \"progress_bar.py\"\n",
    "print ('Progress Bar Loaded')"
   ]
  },
  {
   "cell_type": "markdown",
   "metadata": {},
   "source": [
    "### Get Gov's Ball Artist Info"
   ]
  },
  {
   "cell_type": "markdown",
   "metadata": {},
   "source": [
    "Could also look at Bonaroo and Lollapolloozas schedules"
   ]
  },
  {
   "cell_type": "code",
   "execution_count": null,
   "metadata": {
    "collapsed": false
   },
   "outputs": [],
   "source": [
    "#Grab the artist info from the Gov's ball website\n",
    "with urllib.request.urlopen(\"https://www.governorsballmusicfestival.com/lineup/interactive-lineup/\") as url:\n",
    "    s = url.read()\n",
    "soup = BeautifulSoup(s, \"lxml\")\n"
   ]
  },
  {
   "cell_type": "code",
   "execution_count": null,
   "metadata": {
    "collapsed": false
   },
   "outputs": [],
   "source": [
    "info = soup.findAll('div', {\"class\":\"c-lineup__artist\"})\n",
    "#Put those names in a list, then a dataframe\n",
    "govs_ball_data = pd.DataFrame([])\n",
    "for i in info:\n",
    "    artist = i.attrs['data-title']\n",
    "    date = i.attrs[\"data-day-titles\"]\n",
    "    govs_ball_data = govs_ball_data.append(pd.DataFrame({'artist': artist, #Create the table\n",
    "                                                         'date'  : date},\n",
    "                                                  index=[0]),\n",
    "                                     ignore_index=True)\n",
    "govs_ball_data.head()"
   ]
  },
  {
   "cell_type": "code",
   "execution_count": null,
   "metadata": {
    "collapsed": false
   },
   "outputs": [],
   "source": [
    "govs_ball_data[\"day\"] = ((govs_ball_data[\"date\"].str.slice(-5, -4)).astype(int) -1).astype(str)\n",
    "govs_ball_data[\"date\"] = govs_ball_data[\"date\"].str.slice(2, -2)\n",
    "govs_ball_data[\"festival\"] = \"Governor's Ball\"\n",
    "govs_ball_data.head()"
   ]
  },
  {
   "cell_type": "markdown",
   "metadata": {},
   "source": [
    "### Get Schedule by Hour"
   ]
  },
  {
   "cell_type": "code",
   "execution_count": null,
   "metadata": {
    "collapsed": false
   },
   "outputs": [],
   "source": [
    "artist_time = pd.DataFrame([])\n",
    "\n",
    "for i in log_progress(govs_ball_data.artist, every=1):\n",
    "    artist = i.lower().replace(\" \", \"-\").replace(u'ü', 'u')\n",
    "    artist2 = i\n",
    "    link = ('https://www.governorsballmusicfestival.com/artist/' + artist + \"/\") #create the link\n",
    "    req = Request(link, headers={ 'User-Agent': 'Firefox/24.0' })\n",
    "    webpage = urlopen(req).read()\n",
    "    soup = BeautifulSoup(webpage, \"lxml\") #create the soup\n",
    "    info_time = soup.findAll('p', {\"class\":\"u-m0\"})\n",
    "    info_stage = soup.findAll('p', {\"class\":\"u-mt0\"})\n",
    "    for div in info_time:\n",
    "        text = div.text\n",
    "        time = text.replace(\" \", \"\").replace('\\n', '')[7:]\n",
    "    for div in info_stage:\n",
    "        stage = div.text \n",
    "    artist_time = artist_time.append(pd.DataFrame({'time': time,\n",
    "                                                   'artist' : artist2,\n",
    "                                                   'stage' : stage}, #Create the table\n",
    "                                     index=[0]))\n",
    "        \n",
    "govs_ball_data = govs_ball_data.merge(artist_time, on = \"artist\")"
   ]
  },
  {
   "cell_type": "code",
   "execution_count": null,
   "metadata": {
    "collapsed": false
   },
   "outputs": [],
   "source": [
    "govs_ball_data.head()"
   ]
  },
  {
   "cell_type": "markdown",
   "metadata": {},
   "source": [
    "### Repeat that process for Lolla and Bonnaroo"
   ]
  },
  {
   "cell_type": "code",
   "execution_count": null,
   "metadata": {
    "collapsed": false
   },
   "outputs": [],
   "source": [
    "#Grab the artist info from the Lollapalooza website\n",
    "with urllib.request.urlopen(\"https://www.lollapalooza.com/lineup/interactive-lineup/\") as url:\n",
    "    s = url.read()\n",
    "soup = BeautifulSoup(s, \"lxml\")\n",
    "\n",
    "info = soup.findAll('div', {\"class\":\"c-lineup__artist\"})\n",
    "#Put those names in a list, then a dataframe\n",
    "lolla_data = pd.DataFrame([])\n",
    "for i in info:\n",
    "    artist = i.attrs['data-title']\n",
    "    date = i.attrs[\"data-day-titles\"]\n",
    "    lolla_data = lolla_data.append(pd.DataFrame({'artist': artist, #Create the table\n",
    "                                                         'date'  : date},\n",
    "                                                  index=[0]),\n",
    "                                     ignore_index=True)\n",
    "    \n",
    "#Clean up the date information\n",
    "lolla_data[\"day\"] = np.where(lolla_data[\"date\"].str.contains(\"Thursday\"), \"1\",\n",
    "                            np.where(lolla_data[\"date\"].str.contains(\"Friday\"), \"2\",\n",
    "                                    np.where(lolla_data[\"date\"].str.contains(\"Saturday\"), \"3\", \"4\")))\n",
    "\n",
    "lolla_data[\"date\"] = lolla_data[\"date\"].str.slice(2, -2)\n",
    "lolla_data[\"date\"] = lolla_data[\"date\"].str.replace(\"\\\\\", \"\")\n",
    "lolla_data[\"date\"] = lolla_data[\"date\"].str.replace(\"8/6\", \"August 6th\")\n",
    "lolla_data[\"date\"] = lolla_data[\"date\"].str.replace(\"8/5\", \"August 5th\")\n",
    "lolla_data[\"date\"] = lolla_data[\"date\"].str.replace(\"8/4\", \"August 4th\")\n",
    "lolla_data[\"date\"] = lolla_data[\"date\"].str.replace(\"8/3\", \"August 3th\")\n",
    "lolla_data[\"festival\"] = \"Lollapalooza\"\n",
    "lolla_data.head()"
   ]
  },
  {
   "cell_type": "code",
   "execution_count": null,
   "metadata": {
    "collapsed": false
   },
   "outputs": [],
   "source": [
    "artist_time = pd.DataFrame([])\n",
    "\n",
    "for i in log_progress(lolla_data.artist, every=1):\n",
    "    artist = i.lower().replace(\" \", \"-\").replace(u'ü', 'u').replace(u'ī', 'i').replace(u'ī', 'i').replace(\"’\", '').replace(\"é\", 'e').replace(\"ä\", 'a')\n",
    "    if artist == \"$uicideboy$\":\n",
    "        artist = i.lower().replace(\" \", \"-\").replace(\"$\", \"s\")\n",
    "    if i in [\"JoJo & The Pinecones\", 'Lard Dog & The Band of Shy']:\n",
    "        artist = i.lower().replace(\" \", \"-\").replace(\"&\", \"and\")\n",
    "    artist2 = i\n",
    "    link = ('https://www.lollapalooza.com/artist/' + artist + \"/\") #create the link\n",
    "    req = Request(link, headers={ 'User-Agent': 'Firefox/24.0' })\n",
    "    webpage = urlopen(req).read()\n",
    "    soup = BeautifulSoup(webpage, \"lxml\") #create the soup\n",
    "    info_time = soup.findAll('p', {\"class\":\"u-m0\"})\n",
    "    info_stage = soup.findAll('p', {\"class\":\"u-mt0\"})\n",
    "    for div in info_time:\n",
    "        text = div.text\n",
    "        time = text.replace(\" \", \"\").replace('\\n', '')[7:]\n",
    "    for div in info_stage:\n",
    "        stage = div.text \n",
    "    artist_time = artist_time.append(pd.DataFrame({'time': time,\n",
    "                                                   'artist' : artist2,\n",
    "                                                   'stage' : stage}, #Create the table\n",
    "                                     index=[0]))\n",
    "    \n",
    "lolla_data = lolla_data.merge(artist_time, on = \"artist\")"
   ]
  },
  {
   "cell_type": "code",
   "execution_count": null,
   "metadata": {
    "collapsed": false
   },
   "outputs": [],
   "source": [
    "#Grab the artist info from the  Bonnaroo website\n",
    "with urllib.request.urlopen(\"https://www.bonnaroo.com/lineup/interactive/\") as url:\n",
    "    s = url.read()\n",
    "soup = BeautifulSoup(s, \"lxml\")\n",
    "\n",
    "info = soup.findAll('div', {\"class\":\"c-lineup__artist\"})\n",
    "#Put those names in a list, then a dataframe\n",
    "bonnaroo_data = pd.DataFrame([])\n",
    "for i in info:\n",
    "    artist = i.attrs['data-title']\n",
    "    date = i.attrs[\"data-day-titles\"]\n",
    "    bonnaroo_data = bonnaroo_data.append(pd.DataFrame({'artist': artist, #Create the table\n",
    "                                                         'date'  : date},\n",
    "                                                  index=[0]),\n",
    "                                     ignore_index=True)\n",
    "    \n",
    "bonnaroo_data[\"day\"] = np.where(bonnaroo_data[\"date\"].str.contains(\"Friday\"), \"1\",\n",
    "                                np.where(bonnaroo_data[\"date\"].str.contains(\"Saturday\"), \"2\", \"3\"))\n",
    "bonnaroo_data[\"date\"] = bonnaroo_data[\"date\"].str.slice(2, -2)\n",
    "bonnaroo_data[\"date\"] = bonnaroo_data[\"date\"].str.replace(\"\\\\\", \"\")\n",
    "bonnaroo_data[\"date\"] = bonnaroo_data[\"date\"].str.replace(\"6/9\", \"June 9th\")\n",
    "bonnaroo_data[\"date\"] = bonnaroo_data[\"date\"].str.replace(\"6/10\", \"June 10th\")\n",
    "bonnaroo_data[\"date\"] = bonnaroo_data[\"date\"].str.replace(\"6/11\", \"June 11th\")\n",
    "bonnaroo_data[\"festival\"] = \"Bonnaroo\"\n",
    "bonnaroo_data.head()"
   ]
  },
  {
   "cell_type": "code",
   "execution_count": null,
   "metadata": {
    "collapsed": false
   },
   "outputs": [],
   "source": [
    "artist_time = pd.DataFrame([])\n",
    "\n",
    "for i in log_progress(bonnaroo_data.artist, every=1):\n",
    "    artist = i.lower().replace(\" \", \"-\").replace(u'ü', 'u').replace(u'ī', 'i').replace(u'ī', 'i').replace(\"’\", '').replace(\"é\", 'e').replace(\"ä\", 'a')\n",
    "    if artist == \"$uicideboy$\":\n",
    "        artist = i.lower().replace(\" \", \"-\").replace(\"$\", \"s\")\n",
    "    if i == \"JoJo & The Pinecones\":\n",
    "        artist = i.lower().replace(\" \", \"-\").replace(\"&\", \"and\")\n",
    "    if i == 'Shpongle (Simon Posford Presents The Shpongletron)':\n",
    "        artist = \"shpongle\"\n",
    "    if i == \"Bluegrass Situation Roots Superjam Hosted By Ed Helms & Friends\":\n",
    "        artist = \"bluegrass-situation-superjam-hosted-by-ed-helms-friends\"\n",
    "    if i == 'Angélique Kidjo’s Remain in Light':\n",
    "        artist = \"angelique-kidjo\"\n",
    "    if i == 'Natasha Leggero & Moshe Kasher\\u200b':\n",
    "        artist = \"natasha-leggero-moshe-kasher\"\n",
    "    if i == '“INGRID GOES WEST” Sneak Screening w/ Aubrey Plaza, Matt Spicer & David Smith':\n",
    "        artist = \"ingrid-goes-west\"    \n",
    "    if i == 'U TALKIN’ U2 TO ME? – WITH ADAM SCOTT AND SCOTT AUKERMAN – LIVE PODCAST TAPING':\n",
    "        artist = \"u-talkin-u2-to-me\"  \n",
    "    if i == '“NAPOLEON DYNAMITE” – WITH JON HEDER (NAPOLEON HIMSELF!) LIVE IN PERSON':\n",
    "        artist = \"napoleon-dynamite\"\n",
    "    if i == '“POOTIE TANG” – WITH LANCE CROUTHER (POOTIE HIMSELF!) LIVE IN PERSON':\n",
    "        artist = \"pootie-tang\"        \n",
    "    if i == '“DONNIE DARKO” – WITH WRITER/DIRECTOR RICHARD KELLY LIVE IN PERSON':\n",
    "        artist = \"donnie-darko\" \n",
    "    if i == '“TRAPPED IN THE CLOSET” SING-ALONG, PRESENTED BY BIRTH.MOVIES.DEATH.':\n",
    "        artist = \"trapped-in-the-closet\" \n",
    "    if i == '“SPACEBALLS” 30TH ANNIVERSARY MOVIE PARTY, PRESENTED BY BIRTH.MOVIES.DEATH.':\n",
    "        artist = \"spaceballs\"   \n",
    "    if i == '“THE PRINCESS BRIDE” 30TH ANNIVERSARY MOVIE PARTY, PRESENTED BY BIRTH.MOVIES.DEATH.':\n",
    "        artist = \"the-princess-bride\"    \n",
    "    \n",
    "        \n",
    "        \n",
    "    artist2 = i\n",
    "    link = ('https://www.bonnaroo.com/artist/' + artist + \"/\") #create the link\n",
    "    req = Request(link, headers={ 'User-Agent': 'Firefox/24.0' })\n",
    "    webpage = urlopen(req).read()\n",
    "    soup = BeautifulSoup(webpage, \"lxml\") #create the soup\n",
    "    info_time = soup.findAll('p', {\"class\":\"u-m0\"})\n",
    "    info_stage = soup.findAll('p', {\"class\":\"u-mt0\"})\n",
    "    for div in info_time:\n",
    "        text = div.text\n",
    "        time = text.replace(\" \", \"\").replace('\\n', '')[7:]\n",
    "    for div in info_stage:\n",
    "        stage = div.text \n",
    "    artist_time = artist_time.append(pd.DataFrame({'time': time,\n",
    "                                                   'artist' : artist2,\n",
    "                                                   'stage' : stage}, #Create the table\n",
    "                                     index=[0]))\n",
    "        \n",
    "bonnaroo_data = bonnaroo_data.merge(artist_time, on = \"artist\")"
   ]
  },
  {
   "cell_type": "markdown",
   "metadata": {},
   "source": [
    "#### Add Names to a SQLite Database"
   ]
  },
  {
   "cell_type": "code",
   "execution_count": null,
   "metadata": {
    "collapsed": false
   },
   "outputs": [],
   "source": [
    "#Create Connection\n",
    "con = sqlite3.connect(\"pitchfork-data.db\")\n",
    "govs_ball_data.to_sql(\"govs_ball_data\", con,if_exists='replace')\n",
    "lolla_data.to_sql(\"lolla_data\", con,if_exists='replace')\n",
    "bonnaroo_data.to_sql(\"bonaroo_data\", con,if_exists='replace')\n",
    "all_festivals = govs_ball_data.append(lolla_data).append(bonnaroo_data)\n",
    "all_festivals.to_sql(\"all_festivals\", con,if_exists='replace')\n",
    "con.close() #close db connection"
   ]
  },
  {
   "cell_type": "markdown",
   "metadata": {
    "collapsed": true
   },
   "source": [
    "## Pitchfork Crawler"
   ]
  },
  {
   "cell_type": "markdown",
   "metadata": {
    "collapsed": true
   },
   "source": [
    "The crawling happens in two distinct stages. In Stage 1, the code loops throught the reviews page on pitchfork.com to find links to all the reviews. Stage 2 goes to each link and pull various bits of information. There's lots more to pull, but this is a solid starting place. "
   ]
  },
  {
   "cell_type": "markdown",
   "metadata": {},
   "source": [
    "### Stage 1: "
   ]
  },
  {
   "cell_type": "code",
   "execution_count": 3,
   "metadata": {
    "collapsed": false,
    "scrolled": true
   },
   "outputs": [
    {
     "name": "stdout",
     "output_type": "stream",
     "text": [
      "10\n"
     ]
    }
   ],
   "source": [
    "#Stage 1\n",
    "con = sqlite3.connect(\"pitchfork-data.db\") #connect to db\n",
    "\n",
    "for i in log_progress(range(0,11), every=1): \n",
    "    #Use the range function to decide how many pages you want to go through\n",
    "    #In this case, I'm going through the latest 100 reviews (12 per page)\n",
    "    page_no = str(i)\n",
    "    link = ('http://pitchfork.com/reviews/albums/?page=' + page_no) #create the link\n",
    "    t0 = time.time()\n",
    "    req = Request(link, headers={ 'User-Agent': 'Firefox/24.0' })\n",
    "    webpage = urlopen(req).read()\n",
    "    response_delay = time.time() - t0\n",
    "    time.sleep(10*response_delay)  # wait 10x longer than it took them to respond\n",
    "    soup = BeautifulSoup(webpage, \"lxml\") #create the soup\n",
    "    info = soup.findAll('a', {\"class\":\"album-link\"}) #pull the album link\n",
    "    for j in info:\n",
    "            link = pd.DataFrame({'link': j.attrs['href']}, #Create the table\n",
    "                         index=[0]).to_sql(\"link_table\",\n",
    "                                           con,\n",
    "                                           if_exists = \"append\")\n",
    "    clear_output() #clear ouput before rewriting progress\n",
    "    print (i)\n",
    "\n",
    "con.close() #close db connection"
   ]
  },
  {
   "cell_type": "markdown",
   "metadata": {},
   "source": [
    "### Stage 2:"
   ]
  },
  {
   "cell_type": "code",
   "execution_count": 5,
   "metadata": {
    "collapsed": false
   },
   "outputs": [
    {
     "name": "stdout",
     "output_type": "stream",
     "text": [
      "Tara Jane O’Neil ,  Tara Jane O’Neil 0.36875009536743164 105\n"
     ]
    }
   ],
   "source": [
    "BASE_URL = 'http://www.pitchfork.com'\n",
    "con = sqlite3.connect(\"pitchfork-data.db\")\n",
    "links_table = pd.read_sql_query(\"SELECT DISTINCT * from link_table\", con)\n",
    "links = links_table[\"link\"]\n",
    "iterator = 0\n",
    "\n",
    "class Timeout(Exception):  # handles timeout errors (e.g., server request is taking too long)\n",
    "    pass\n",
    "\n",
    "for i in log_progress(links[-106:], every=1):\n",
    "    link = BASE_URL + i\n",
    "    t0 = time.time()\n",
    "    req = Request(link, headers={ 'User-Agent': 'Firefox/24.0' })\n",
    "    webpage = urlopen(req).read()\n",
    "    response_delay = time.time() - t0\n",
    "    time.sleep(4*response_delay)  # wait Nx longer than it took them to respond\n",
    "    soup = BeautifulSoup(webpage, \"lxml\") #same as above\n",
    "    artist_info = soup.findAll('ul', {\"class\":\"artist-links artist-list\"}) #Artist Name\n",
    "    album_info = soup.findAll('h1', {\"class\":\"review-title\"}) #Album Name\n",
    "    score_info = soup.findAll('div', {\"class\":\"score-circle\"}) #Score\n",
    "    pub_info = soup.findAll('span', {\"class\":\"pub-date\"}) # Publication Date\n",
    "    genre_info = soup.findAll('ul', {\"class\":\"genre-list before\"}) #Genre\n",
    "    for j in artist_info:\n",
    "        artist = j.text\n",
    "    for k in album_info:\n",
    "        album = k.text\n",
    "    for l in score_info:\n",
    "        score = l.text\n",
    "    for m in pub_info:\n",
    "        pub_date = m.text\n",
    "    for n in genre_info:\n",
    "        genre = n.text\n",
    "    clear_output()\n",
    "    print (artist, \", \", album, response_delay, iterator)\n",
    "    pd.DataFrame({'artist': artist, #Create the table\n",
    "                  'album'  : album,\n",
    "                  'score' : score,\n",
    "                  'pub_date' : pub_date,\n",
    "                  'genre' : genre,\n",
    "                  'link' : link},\n",
    "                 index=[0]).to_sql(\"album_table\",\n",
    "                                   con,\n",
    "                                   if_exists = \"append\")\n",
    "    iterator= iterator +1\n",
    "\n",
    "con.close() "
   ]
  },
  {
   "cell_type": "markdown",
   "metadata": {
    "collapsed": true
   },
   "source": [
    "# Data Management"
   ]
  },
  {
   "cell_type": "code",
   "execution_count": 6,
   "metadata": {
    "collapsed": false
   },
   "outputs": [],
   "source": [
    "con = sqlite3.connect(\"pitchfork-data.db\")\n",
    "#Pull the table we just wrote back it\n",
    "album_table = pd.read_sql_query(\"SELECT * from album_table\", con)\n",
    "#Drop any duplicates that may have happened\n",
    "album_table = album_table.drop_duplicates()\n",
    "#Delete the index\n",
    "del album_table[\"index\"]\n",
    "#reupload as album_table_clean\n",
    "album_table.to_sql(\"album_table_clean\", con, if_exists = \"replace\")"
   ]
  },
  {
   "cell_type": "markdown",
   "metadata": {},
   "source": [
    "## Spotify API"
   ]
  },
  {
   "cell_type": "code",
   "execution_count": 13,
   "metadata": {
    "collapsed": false
   },
   "outputs": [],
   "source": [
    "import spotipy\n",
    "import sys\n",
    "import json\n",
    "#Feed the Gov's Ball Artists into Spotify\n",
    "spotify = spotipy.Spotify()#Create spotify object from spotipy \n",
    "spotify_data = pd.read_sql_query(\"SELECT DISTINCT artist from album_table_clean\", con)"
   ]
  },
  {
   "cell_type": "code",
   "execution_count": 18,
   "metadata": {
    "collapsed": false
   },
   "outputs": [],
   "source": [
    "count = 0\n",
    "for name in log_progress(spotify_data[7342:], every = 1):\n",
    "    try:\n",
    "        search = spotify.search(q='artist:' + name, type='artist') #Search and grab the first result\n",
    "        spot_name = pd.read_json(json.dumps(search[\"artists\"]))[\"items\"][0][\"name\"] #Name for reference\n",
    "        popularity = pd.read_json(json.dumps(search[\"artists\"]))[\"items\"][0][\"popularity\"] #Popularity Metric\n",
    "        genre = pd.read_json(json.dumps(search[\"artists\"]))[\"items\"][0][\"genres\"] #Genre list\n",
    "        followers = pd.read_json(json.dumps(search[\"artists\"]))[\"items\"][0][\"followers\"][\"total\"] #Social Followers\n",
    "        if len(genre) > 0:\n",
    "            genre = \"/\".join(genre)\n",
    "        else:\n",
    "            genre = \"Unknown\"\n",
    "        #Add that dat to the gov's ball table\n",
    "        spotify_data.loc[spotify_data['artist'] == name, 'followers'] = followers\n",
    "        spotify_data.loc[spotify_data['artist'] == name, 'genre'] = genre\n",
    "        spotify_data.loc[spotify_data['artist'] == name, 'popularity'] = popularity\n",
    "        count = count+1\n",
    "    except Exception:\n",
    "        pass"
   ]
  },
  {
   "cell_type": "code",
   "execution_count": 19,
   "metadata": {
    "collapsed": false
   },
   "outputs": [
    {
     "ename": "NameError",
     "evalue": "name 'search' is not defined",
     "output_type": "error",
     "traceback": [
      "\u001b[0;31m------------------------------------------------------------------\u001b[0m",
      "\u001b[0;31mNameError\u001b[0m                        Traceback (most recent call last)",
      "\u001b[0;32m<ipython-input-19-9c4fc45b8e6a>\u001b[0m in \u001b[0;36m<module>\u001b[0;34m()\u001b[0m\n\u001b[0;32m----> 1\u001b[0;31m \u001b[0msearch\u001b[0m\u001b[0;34m\u001b[0m\u001b[0m\n\u001b[0m",
      "\u001b[0;31mNameError\u001b[0m: name 'search' is not defined"
     ]
    }
   ],
   "source": [
    "search"
   ]
  },
  {
   "cell_type": "code",
   "execution_count": null,
   "metadata": {
    "collapsed": false
   },
   "outputs": [],
   "source": [
    "spotify_data = spotify_data[~spotify_data.followers.isnull()]\n",
    "spotify_data[\"artist\"] = spotify_data[\"artist\"].str.upper()\n",
    "spotify_data.head()"
   ]
  },
  {
   "cell_type": "code",
   "execution_count": null,
   "metadata": {
    "collapsed": true
   },
   "outputs": [],
   "source": [
    "#reupload as artist_spotify_data\n",
    "con = sqlite3.connect(\"pitchfork-data.db\")\n",
    "spotify_data.to_sql(\"artist_spotify_data\", con, if_exists = \"replace\")"
   ]
  },
  {
   "cell_type": "markdown",
   "metadata": {},
   "source": [
    "#### Cleaning Some Data"
   ]
  },
  {
   "cell_type": "code",
   "execution_count": 154,
   "metadata": {
    "collapsed": false
   },
   "outputs": [],
   "source": [
    "con = sqlite3.connect(\"pitchfork-data.db\")\n",
    "album_table = pd.read_sql_query(\"SELECT * from album_table_clean\", con)\n",
    "album_table[\"artist\"] = album_table[\"artist\"].str.upper()"
   ]
  },
  {
   "cell_type": "code",
   "execution_count": 155,
   "metadata": {
    "collapsed": false
   },
   "outputs": [],
   "source": [
    "artists = album_table[\"artist\"].drop_duplicates()"
   ]
  },
  {
   "cell_type": "code",
   "execution_count": 156,
   "metadata": {
    "collapsed": false
   },
   "outputs": [
    {
     "data": {
      "text/html": [
       "<div>\n",
       "<table border=\"1\" class=\"dataframe\">\n",
       "  <thead>\n",
       "    <tr style=\"text-align: right;\">\n",
       "      <th></th>\n",
       "      <th>artist</th>\n",
       "      <th>day</th>\n",
       "      <th>date</th>\n",
       "      <th>festival</th>\n",
       "      <th>stage</th>\n",
       "      <th>time</th>\n",
       "    </tr>\n",
       "  </thead>\n",
       "  <tbody>\n",
       "    <tr>\n",
       "      <th>0</th>\n",
       "      <td>TOOL</td>\n",
       "      <td>3</td>\n",
       "      <td>Sunday, June 4th</td>\n",
       "      <td>Governor's Ball</td>\n",
       "      <td>Gov Ball NYC</td>\n",
       "      <td>9:15pm-11:00pm</td>\n",
       "    </tr>\n",
       "    <tr>\n",
       "      <th>1</th>\n",
       "      <td>CHANCE THE RAPPER</td>\n",
       "      <td>1</td>\n",
       "      <td>Friday, June 2nd</td>\n",
       "      <td>Governor's Ball</td>\n",
       "      <td>Gov Ball NYC</td>\n",
       "      <td>9:45pm-11:00pm</td>\n",
       "    </tr>\n",
       "    <tr>\n",
       "      <th>2</th>\n",
       "      <td>PHOENIX</td>\n",
       "      <td>2</td>\n",
       "      <td>Saturday, June 3rd</td>\n",
       "      <td>Governor's Ball</td>\n",
       "      <td>Gov Ball NYC</td>\n",
       "      <td>9:15pm-11:00pm</td>\n",
       "    </tr>\n",
       "    <tr>\n",
       "      <th>3</th>\n",
       "      <td>CHILDISH GAMBINO</td>\n",
       "      <td>2</td>\n",
       "      <td>Saturday, June 3rd</td>\n",
       "      <td>Governor's Ball</td>\n",
       "      <td>Honda</td>\n",
       "      <td>9:15pm-11:00pm</td>\n",
       "    </tr>\n",
       "    <tr>\n",
       "      <th>4</th>\n",
       "      <td>LORDE</td>\n",
       "      <td>1</td>\n",
       "      <td>Friday, June 2nd</td>\n",
       "      <td>Governor's Ball</td>\n",
       "      <td>Gov Ball NYC</td>\n",
       "      <td>7:30pm-8:45pm</td>\n",
       "    </tr>\n",
       "  </tbody>\n",
       "</table>\n",
       "</div>"
      ],
      "text/plain": [
       "              artist day                date         festival         stage  \\\n",
       "0               TOOL   3    Sunday, June 4th  Governor's Ball  Gov Ball NYC   \n",
       "1  CHANCE THE RAPPER   1    Friday, June 2nd  Governor's Ball  Gov Ball NYC   \n",
       "2            PHOENIX   2  Saturday, June 3rd  Governor's Ball  Gov Ball NYC   \n",
       "3   CHILDISH GAMBINO   2  Saturday, June 3rd  Governor's Ball         Honda   \n",
       "4              LORDE   1    Friday, June 2nd  Governor's Ball  Gov Ball NYC   \n",
       "\n",
       "             time  \n",
       "0  9:15pm-11:00pm  \n",
       "1  9:45pm-11:00pm  \n",
       "2  9:15pm-11:00pm  \n",
       "3  9:15pm-11:00pm  \n",
       "4   7:30pm-8:45pm  "
      ]
     },
     "execution_count": 156,
     "metadata": {},
     "output_type": "execute_result"
    }
   ],
   "source": [
    "fest_data = pd.read_sql_query(\"\"\"SELECT UPPER(artist) AS \"artist\", day, date, festival, stage, time from all_festivals\"\"\", con)\n",
    "fest_data.head()\n"
   ]
  },
  {
   "cell_type": "code",
   "execution_count": 157,
   "metadata": {
    "collapsed": false
   },
   "outputs": [],
   "source": [
    "fest_data[\"artist\"] = np.where(fest_data[\"artist\"] == \"CHARLES BRADLEY & HIS EXTRAORDINAIRES\",\n",
    "                            \"CHARLES BRADLEY\",\n",
    "                            fest_data[\"artist\"])\n",
    "fest_data[\"artist\"] = np.where(fest_data[\"artist\"] == \"MARK RONSON VS KEVIN PARKER\",\n",
    "                            \"MARK RONSON\",\n",
    "                            fest_data[\"artist\"])\n",
    "fest_data[\"start_time\"],fest_data[\"end_time\"]= fest_data[\"time\"].str.split(\"-\", 1).str\n",
    "fest_data[\"start_time_dt\"] = pd.to_datetime(fest_data[\"start_time\"])\n",
    "fest_data[\"end_time_dt\"] = pd.to_datetime(fest_data[\"end_time\"])\n",
    "#x number of artists missing"
   ]
  },
  {
   "cell_type": "code",
   "execution_count": 158,
   "metadata": {
    "collapsed": false
   },
   "outputs": [
    {
     "name": "stdout",
     "output_type": "stream",
     "text": [
      "293 artists without pitchfork data\n"
     ]
    }
   ],
   "source": [
    "print (fest_data[~(fest_data.artist.isin(artists))].shape[0], \"artists without pitchfork data\")"
   ]
  },
  {
   "cell_type": "code",
   "execution_count": 159,
   "metadata": {
    "collapsed": false
   },
   "outputs": [],
   "source": [
    "#reupload as govs_ball_enriched\n",
    "#del fest_data[\"index\"]\n",
    "con = sqlite3.connect(\"pitchfork-data.db\")\n",
    "fest_data.to_sql(\"fest_data\", con, if_exists = \"replace\")"
   ]
  },
  {
   "cell_type": "markdown",
   "metadata": {},
   "source": [
    "### Merge in Pitchfork Reviews With Fest Data"
   ]
  },
  {
   "cell_type": "code",
   "execution_count": 160,
   "metadata": {
    "collapsed": false
   },
   "outputs": [],
   "source": [
    "query_pitchfork = \"\"\"\n",
    "        SELECT DISTINCT f.artist, f.festival,\n",
    "               p.album, p.score, p.genre \n",
    "        FROM fest_data f \n",
    "        INNER JOIN album_table_clean p \n",
    "        ON (upper(p.artist) = f.artist)\n",
    "        \"\"\""
   ]
  },
  {
   "cell_type": "code",
   "execution_count": 161,
   "metadata": {
    "collapsed": false
   },
   "outputs": [
    {
     "data": {
      "text/html": [
       "<div>\n",
       "<table border=\"1\" class=\"dataframe\">\n",
       "  <thead>\n",
       "    <tr style=\"text-align: right;\">\n",
       "      <th></th>\n",
       "      <th>artist</th>\n",
       "      <th>festival</th>\n",
       "      <th>album</th>\n",
       "      <th>score</th>\n",
       "      <th>genre</th>\n",
       "    </tr>\n",
       "  </thead>\n",
       "  <tbody>\n",
       "    <tr>\n",
       "      <th>0</th>\n",
       "      <td>STORMZY</td>\n",
       "      <td>Governor's Ball</td>\n",
       "      <td>Gang Signs &amp; Prayer</td>\n",
       "      <td>7.6</td>\n",
       "      <td>Rap</td>\n",
       "    </tr>\n",
       "  </tbody>\n",
       "</table>\n",
       "</div>"
      ],
      "text/plain": [
       "    artist         festival                album  score genre\n",
       "0  STORMZY  Governor's Ball  Gang Signs & Prayer    7.6   Rap"
      ]
     },
     "execution_count": 161,
     "metadata": {},
     "output_type": "execute_result"
    }
   ],
   "source": [
    "con = sqlite3.connect(\"pitchfork-data.db\")\n",
    "pitch_gov = pd.read_sql_query(query_pitchfork, con)\n",
    "pitch_gov[\"score\"] = pitch_gov[\"score\"].astype(float)\n",
    "pitch_gov.head(1)"
   ]
  },
  {
   "cell_type": "code",
   "execution_count": 162,
   "metadata": {
    "collapsed": false
   },
   "outputs": [
    {
     "data": {
      "text/html": [
       "<div>\n",
       "<table border=\"1\" class=\"dataframe\">\n",
       "  <thead>\n",
       "    <tr style=\"text-align: right;\">\n",
       "      <th></th>\n",
       "      <th>artist</th>\n",
       "      <th>genre</th>\n",
       "      <th>festival</th>\n",
       "      <th>mean</th>\n",
       "      <th>max</th>\n",
       "      <th>min</th>\n",
       "      <th>count</th>\n",
       "    </tr>\n",
       "  </thead>\n",
       "  <tbody>\n",
       "    <tr>\n",
       "      <th>0</th>\n",
       "      <td>A$AP FERG</td>\n",
       "      <td>Rap</td>\n",
       "      <td>Governor's Ball</td>\n",
       "      <td>7.066667</td>\n",
       "      <td>7.5</td>\n",
       "      <td>6.4</td>\n",
       "      <td>3</td>\n",
       "    </tr>\n",
       "  </tbody>\n",
       "</table>\n",
       "</div>"
      ],
      "text/plain": [
       "      artist genre         festival      mean  max  min  count\n",
       "0  A$AP FERG   Rap  Governor's Ball  7.066667  7.5  6.4      3"
      ]
     },
     "execution_count": 162,
     "metadata": {},
     "output_type": "execute_result"
    }
   ],
   "source": [
    "score_metrics = pitch_gov.groupby([\"artist\",\n",
    "                                   \"genre\",\n",
    "                                   \"festival\"])[\"score\"].agg(['mean',\n",
    "                                                              \"max\",\n",
    "                                                              \"min\",\n",
    "                                                              'count' ]).reset_index()\n",
    "score_metrics.head(1)"
   ]
  },
  {
   "cell_type": "code",
   "execution_count": 163,
   "metadata": {
    "collapsed": false
   },
   "outputs": [
    {
     "data": {
      "text/plain": [
       "(136, 7)"
      ]
     },
     "execution_count": 163,
     "metadata": {},
     "output_type": "execute_result"
    }
   ],
   "source": [
    "score_metrics.columns = [[\"artist\",\n",
    "                          \"pf_genre\",\n",
    "                          \"festival\",\n",
    "                          \"pf_mean\", \n",
    "                          \"pf_max\", \n",
    "                          \"pf_min\",\n",
    "                          \"pf_count\"]]\n",
    "\n",
    "score_metrics = round(score_metrics,1)\n",
    "score_metrics.shape"
   ]
  },
  {
   "cell_type": "code",
   "execution_count": 164,
   "metadata": {
    "collapsed": false
   },
   "outputs": [],
   "source": [
    "con = sqlite3.connect(\"pitchfork-data.db\")\n",
    "fd = pd.read_sql_query(\"SELECT * FROM artist_spotify_data\", con)\n",
    "fde = score_metrics.merge(fd, on = \"artist\", how = \"left\")\n",
    "fde[\"genre\"] = np.where(fde[\"pf_genre\"].isnull(), fde[\"genre\"], fde[\"pf_genre\"])\n",
    "del fde[\"pf_genre\"]\n",
    "#Clean up Genre Row\n",
    "fde[\"genre\"] = np.where(fde[\"genre\"].isin([\"Rap\", \"Pop/R&B\", \"Rock\", \"Electronic\", \"Metal\"]),\n",
    "                  fde[\"genre\"],\n",
    "                  np.where(fde[\"genre\"].str.contains(\"hip hop\"),\n",
    "                     \"Rap\",\n",
    "                     np.where(fde[\"genre\"].str.contains(\"RockElectronic\"),\n",
    "                        \"Rock\",\n",
    "                        np.where(fde[\"genre\"].str.contains(\"rock\"),\n",
    "                           \"Rock\",\n",
    "                           np.where(fde[\"genre\"].str.contains(\"pop\"),\n",
    "                              \"Pop/R&B\",\n",
    "                              np.where(fde[\"genre\"].str.contains(\"electronic\"),\n",
    "                                 \"Electronic\",\n",
    "                                 np.where(fde[\"genre\"].str.contains(\"electronic\"),\n",
    "                                    \"Electronic\",\n",
    "                                          np.where(fde[\"genre\"].str.contains(\"comedy\"),\n",
    "                                                \"Comedy\",\n",
    "                                    \"Rock\"))))))))\n",
    "\n",
    "fde[\"genre\"] = np.where(fde[\"genre\"].isin([\"Rock\"]),\n",
    "                        \"Rock/Indie\",\n",
    "                        fde[\"genre\"])\n",
    "con.close()"
   ]
  },
  {
   "cell_type": "code",
   "execution_count": 165,
   "metadata": {
    "collapsed": false
   },
   "outputs": [],
   "source": [
    "fde[\"popularity_rank_fest\"] = fde.groupby([\"festival\"])[\"popularity\"].rank(ascending = False)\n",
    "fde[\"fan_base_rank_fest\"] = fde.groupby([\"festival\"])[\"followers\"].rank(ascending = False)\n",
    "fde[\"critical_metric\"] = fde[\"pf_mean\"]+fde[\"pf_count\"] #Bump up artisits who have been reviewed several times\n",
    "fde[\"critical_rank_fest\"] = fde.groupby([\"festival\"])[\"critical_metric\"].rank(ascending = False, )\n",
    "fde[\"critical_rank_fest\"] = np.where(fde[\"critical_rank_fest\"].isnull(),\n",
    "                                    fde[\"critical_rank_fest\"].mean(),\n",
    "                                    fde[\"critical_rank_fest\"])"
   ]
  },
  {
   "cell_type": "code",
   "execution_count": 166,
   "metadata": {
    "collapsed": false
   },
   "outputs": [
    {
     "data": {
      "text/html": [
       "<div>\n",
       "<table border=\"1\" class=\"dataframe\">\n",
       "  <thead>\n",
       "    <tr style=\"text-align: right;\">\n",
       "      <th></th>\n",
       "      <th>artist</th>\n",
       "      <th>festival</th>\n",
       "      <th>pf_mean</th>\n",
       "      <th>pf_max</th>\n",
       "      <th>pf_min</th>\n",
       "      <th>pf_count</th>\n",
       "      <th>index</th>\n",
       "      <th>followers</th>\n",
       "      <th>genre</th>\n",
       "      <th>popularity</th>\n",
       "      <th>popularity_rank_fest</th>\n",
       "      <th>fan_base_rank_fest</th>\n",
       "      <th>critical_metric</th>\n",
       "      <th>critical_rank_fest</th>\n",
       "      <th>total_ranking_score_fest</th>\n",
       "      <th>total_rank_fest</th>\n",
       "    </tr>\n",
       "  </thead>\n",
       "  <tbody>\n",
       "    <tr>\n",
       "      <th>133</th>\n",
       "      <td>WIZ KHALIFA</td>\n",
       "      <td>Lollapalooza</td>\n",
       "      <td>6.0</td>\n",
       "      <td>7.2</td>\n",
       "      <td>4.8</td>\n",
       "      <td>6</td>\n",
       "      <td>1226</td>\n",
       "      <td>4389509.0</td>\n",
       "      <td>Rap</td>\n",
       "      <td>87.0</td>\n",
       "      <td>3.0</td>\n",
       "      <td>1.0</td>\n",
       "      <td>12.0</td>\n",
       "      <td>10.0</td>\n",
       "      <td>23.0</td>\n",
       "      <td>1.0</td>\n",
       "    </tr>\n",
       "    <tr>\n",
       "      <th>132</th>\n",
       "      <td>WIZ KHALIFA</td>\n",
       "      <td>Governor's Ball</td>\n",
       "      <td>6.0</td>\n",
       "      <td>7.2</td>\n",
       "      <td>4.8</td>\n",
       "      <td>6</td>\n",
       "      <td>1226</td>\n",
       "      <td>4389509.0</td>\n",
       "      <td>Rap</td>\n",
       "      <td>87.0</td>\n",
       "      <td>1.0</td>\n",
       "      <td>1.0</td>\n",
       "      <td>12.0</td>\n",
       "      <td>7.0</td>\n",
       "      <td>20.0</td>\n",
       "      <td>1.0</td>\n",
       "    </tr>\n",
       "    <tr>\n",
       "      <th>116</th>\n",
       "      <td>THE WEEKND</td>\n",
       "      <td>Bonnaroo</td>\n",
       "      <td>7.6</td>\n",
       "      <td>8.5</td>\n",
       "      <td>6.2</td>\n",
       "      <td>7</td>\n",
       "      <td>292</td>\n",
       "      <td>5689483.0</td>\n",
       "      <td>Pop/R&amp;B</td>\n",
       "      <td>93.0</td>\n",
       "      <td>1.0</td>\n",
       "      <td>1.0</td>\n",
       "      <td>14.6</td>\n",
       "      <td>2.0</td>\n",
       "      <td>17.6</td>\n",
       "      <td>1.0</td>\n",
       "    </tr>\n",
       "    <tr>\n",
       "      <th>82</th>\n",
       "      <td>PHOENIX</td>\n",
       "      <td>Governor's Ball</td>\n",
       "      <td>7.2</td>\n",
       "      <td>8.5</td>\n",
       "      <td>6.0</td>\n",
       "      <td>6</td>\n",
       "      <td>3436</td>\n",
       "      <td>1062577.0</td>\n",
       "      <td>Rock/Indie</td>\n",
       "      <td>67.0</td>\n",
       "      <td>20.5</td>\n",
       "      <td>6.0</td>\n",
       "      <td>13.2</td>\n",
       "      <td>2.0</td>\n",
       "      <td>21.2</td>\n",
       "      <td>2.0</td>\n",
       "    </tr>\n",
       "    <tr>\n",
       "      <th>118</th>\n",
       "      <td>THE XX</td>\n",
       "      <td>Lollapalooza</td>\n",
       "      <td>8.2</td>\n",
       "      <td>8.7</td>\n",
       "      <td>7.5</td>\n",
       "      <td>3</td>\n",
       "      <td>194</td>\n",
       "      <td>2418828.0</td>\n",
       "      <td>Rock/Indie</td>\n",
       "      <td>76.0</td>\n",
       "      <td>14.5</td>\n",
       "      <td>3.0</td>\n",
       "      <td>11.2</td>\n",
       "      <td>14.0</td>\n",
       "      <td>28.2</td>\n",
       "      <td>2.0</td>\n",
       "    </tr>\n",
       "  </tbody>\n",
       "</table>\n",
       "</div>"
      ],
      "text/plain": [
       "          artist         festival  pf_mean  pf_max  pf_min  pf_count  index  \\\n",
       "133  WIZ KHALIFA     Lollapalooza      6.0     7.2     4.8         6   1226   \n",
       "132  WIZ KHALIFA  Governor's Ball      6.0     7.2     4.8         6   1226   \n",
       "116   THE WEEKND         Bonnaroo      7.6     8.5     6.2         7    292   \n",
       "82       PHOENIX  Governor's Ball      7.2     8.5     6.0         6   3436   \n",
       "118       THE XX     Lollapalooza      8.2     8.7     7.5         3    194   \n",
       "\n",
       "     followers       genre  popularity  popularity_rank_fest  \\\n",
       "133  4389509.0         Rap        87.0                   3.0   \n",
       "132  4389509.0         Rap        87.0                   1.0   \n",
       "116  5689483.0     Pop/R&B        93.0                   1.0   \n",
       "82   1062577.0  Rock/Indie        67.0                  20.5   \n",
       "118  2418828.0  Rock/Indie        76.0                  14.5   \n",
       "\n",
       "     fan_base_rank_fest  critical_metric  critical_rank_fest  \\\n",
       "133                 1.0             12.0                10.0   \n",
       "132                 1.0             12.0                 7.0   \n",
       "116                 1.0             14.6                 2.0   \n",
       "82                  6.0             13.2                 2.0   \n",
       "118                 3.0             11.2                14.0   \n",
       "\n",
       "     total_ranking_score_fest  total_rank_fest  \n",
       "133                      23.0              1.0  \n",
       "132                      20.0              1.0  \n",
       "116                      17.6              1.0  \n",
       "82                       21.2              2.0  \n",
       "118                      28.2              2.0  "
      ]
     },
     "execution_count": 166,
     "metadata": {},
     "output_type": "execute_result"
    }
   ],
   "source": [
    "fde[\"total_ranking_score_fest\"] = fde.iloc[:,-3:].sum(axis = 1)\n",
    "fde[\"total_rank_fest\"] = fde.groupby([\"festival\"])[\"total_ranking_score_fest\"].rank(ascending = True)\n",
    "fde.sort_values(\"total_rank_fest\").head()"
   ]
  },
  {
   "cell_type": "code",
   "execution_count": 167,
   "metadata": {
    "collapsed": false
   },
   "outputs": [],
   "source": [
    "fde = fde.merge(fest_data, on = [\"artist\", \"festival\"], how = \"left\")"
   ]
  },
  {
   "cell_type": "code",
   "execution_count": 168,
   "metadata": {
    "collapsed": false
   },
   "outputs": [],
   "source": [
    "con = sqlite3.connect(\"pitchfork-data.db\")\n",
    "#del fde[\"index\"]\n",
    "fde.to_sql(\"fest_data_enriched\", con, if_exists = \"replace\")\n",
    "con.close()"
   ]
  },
  {
   "cell_type": "markdown",
   "metadata": {},
   "source": [
    "## Ad Hoc Questions"
   ]
  },
  {
   "cell_type": "code",
   "execution_count": 405,
   "metadata": {
    "collapsed": false
   },
   "outputs": [],
   "source": [
    "gb = fest_data[(fest_data[\"festival\"] == \"Governor's Ball\") &\n",
    "               (fest_data[\"day\"] == \"1\")].sort_values(\"start_time_dt\")\n",
    "\n",
    "table = pd.DataFrame(index=gb[\"artist\"].tolist(), columns=gb[\"artist\"].tolist())\n",
    "for i in gb[\"artist\"].tolist():\n",
    "    for j in gb[\"artist\"].tolist():\n",
    "        time_1 = gb[gb[\"artist\"] == i][\"start_time_dt\"].reset_index(drop = True)\n",
    "        time_2 = gb[gb[\"artist\"] == i][\"end_time_dt\"].reset_index(drop = True)\n",
    "        time_3 = gb[gb[\"artist\"] == j][\"start_time_dt\"].reset_index(drop = True)\n",
    "        time_4 = gb[gb[\"artist\"] == j][\"end_time_dt\"].reset_index(drop = True)\n",
    "        test = (time_2 > time_3) & (time_1 < time_4) \n",
    "        if test[0]:\n",
    "            table.loc[i,j] = 1\n",
    "        else:\n",
    "            table.loc[i,j] = 0\n",
    "            "
   ]
  },
  {
   "cell_type": "code",
   "execution_count": 414,
   "metadata": {
    "collapsed": false
   },
   "outputs": [],
   "source": [
    "overlap = pd.DataFrame([])\n",
    "\n",
    "for fest in fest_data[\"festival\"].drop_duplicates():\n",
    "    data1 = fest_data[fest_data[\"festival\"] == fest]\n",
    "    for day in data1[\"day\"].drop_duplicates():\n",
    "        data = data1[data1[\"day\"] == day]\n",
    "        for i in data[\"artist\"].tolist():\n",
    "            for j in data[data[\"artist\"] != i][\"artist\"].tolist():\n",
    "                time_1 = data[data[\"artist\"] == i][\"start_time_dt\"].reset_index(drop = True)\n",
    "                time_2 = data[data[\"artist\"] == i][\"end_time_dt\"].reset_index(drop = True)\n",
    "                time_3 = data[data[\"artist\"] == j][\"start_time_dt\"].reset_index(drop = True)\n",
    "                time_4 = data[data[\"artist\"] == j][\"end_time_dt\"].reset_index(drop = True)\n",
    "                test = (time_2 > time_3) & (time_1 < time_4) & (i != j)\n",
    "                if test[0]:\n",
    "                    overlap = overlap.append(\n",
    "                        pd.DataFrame({'artist1': i,\n",
    "                                      'artist2': j,\n",
    "                                      'fest' : fest,\n",
    "                                      'day' : day},\n",
    "                         index=[0]))"
   ]
  },
  {
   "cell_type": "code",
   "execution_count": 415,
   "metadata": {
    "collapsed": false
   },
   "outputs": [
    {
     "data": {
      "text/html": [
       "<div>\n",
       "<table border=\"1\" class=\"dataframe\">\n",
       "  <thead>\n",
       "    <tr style=\"text-align: right;\">\n",
       "      <th></th>\n",
       "      <th>artist1</th>\n",
       "      <th>artist2</th>\n",
       "      <th>day</th>\n",
       "      <th>fest</th>\n",
       "    </tr>\n",
       "  </thead>\n",
       "  <tbody>\n",
       "    <tr>\n",
       "      <th>0</th>\n",
       "      <td>TOOL</td>\n",
       "      <td>WIZ KHALIFA</td>\n",
       "      <td>3</td>\n",
       "      <td>Governor's Ball</td>\n",
       "    </tr>\n",
       "    <tr>\n",
       "      <th>0</th>\n",
       "      <td>WIZ KHALIFA</td>\n",
       "      <td>TOOL</td>\n",
       "      <td>3</td>\n",
       "      <td>Governor's Ball</td>\n",
       "    </tr>\n",
       "    <tr>\n",
       "      <th>0</th>\n",
       "      <td>LOGIC</td>\n",
       "      <td>AIR</td>\n",
       "      <td>3</td>\n",
       "      <td>Governor's Ball</td>\n",
       "    </tr>\n",
       "    <tr>\n",
       "      <th>0</th>\n",
       "      <td>CAGE THE ELEPHANT</td>\n",
       "      <td>PHANTOGRAM</td>\n",
       "      <td>3</td>\n",
       "      <td>Governor's Ball</td>\n",
       "    </tr>\n",
       "    <tr>\n",
       "      <th>0</th>\n",
       "      <td>AIR</td>\n",
       "      <td>LOGIC</td>\n",
       "      <td>3</td>\n",
       "      <td>Governor's Ball</td>\n",
       "    </tr>\n",
       "    <tr>\n",
       "      <th>0</th>\n",
       "      <td>THE AVALANCHES</td>\n",
       "      <td>FRANZ FERDINAND</td>\n",
       "      <td>3</td>\n",
       "      <td>Governor's Ball</td>\n",
       "    </tr>\n",
       "    <tr>\n",
       "      <th>0</th>\n",
       "      <td>PHANTOGRAM</td>\n",
       "      <td>CAGE THE ELEPHANT</td>\n",
       "      <td>3</td>\n",
       "      <td>Governor's Ball</td>\n",
       "    </tr>\n",
       "    <tr>\n",
       "      <th>0</th>\n",
       "      <td>FRANZ FERDINAND</td>\n",
       "      <td>THE AVALANCHES</td>\n",
       "      <td>3</td>\n",
       "      <td>Governor's Ball</td>\n",
       "    </tr>\n",
       "    <tr>\n",
       "      <th>0</th>\n",
       "      <td>MAC DEMARCO</td>\n",
       "      <td>ROYAL BLOOD</td>\n",
       "      <td>3</td>\n",
       "      <td>Governor's Ball</td>\n",
       "    </tr>\n",
       "    <tr>\n",
       "      <th>0</th>\n",
       "      <td>PARQUET COURTS</td>\n",
       "      <td>GRYFFIN</td>\n",
       "      <td>3</td>\n",
       "      <td>Governor's Ball</td>\n",
       "    </tr>\n",
       "    <tr>\n",
       "      <th>0</th>\n",
       "      <td>ROYAL BLOOD</td>\n",
       "      <td>MAC DEMARCO</td>\n",
       "      <td>3</td>\n",
       "      <td>Governor's Ball</td>\n",
       "    </tr>\n",
       "    <tr>\n",
       "      <th>0</th>\n",
       "      <td>WARPAINT</td>\n",
       "      <td>SKEPTA</td>\n",
       "      <td>3</td>\n",
       "      <td>Governor's Ball</td>\n",
       "    </tr>\n",
       "    <tr>\n",
       "      <th>0</th>\n",
       "      <td>SKEPTA</td>\n",
       "      <td>WARPAINT</td>\n",
       "      <td>3</td>\n",
       "      <td>Governor's Ball</td>\n",
       "    </tr>\n",
       "    <tr>\n",
       "      <th>0</th>\n",
       "      <td>GRYFFIN</td>\n",
       "      <td>PARQUET COURTS</td>\n",
       "      <td>3</td>\n",
       "      <td>Governor's Ball</td>\n",
       "    </tr>\n",
       "    <tr>\n",
       "      <th>0</th>\n",
       "      <td>EDEN</td>\n",
       "      <td>ZANE LOWE</td>\n",
       "      <td>3</td>\n",
       "      <td>Governor's Ball</td>\n",
       "    </tr>\n",
       "    <tr>\n",
       "      <th>0</th>\n",
       "      <td>ZANE LOWE</td>\n",
       "      <td>EDEN</td>\n",
       "      <td>3</td>\n",
       "      <td>Governor's Ball</td>\n",
       "    </tr>\n",
       "    <tr>\n",
       "      <th>0</th>\n",
       "      <td>THE ORWELLS</td>\n",
       "      <td>SAINT JHN</td>\n",
       "      <td>3</td>\n",
       "      <td>Governor's Ball</td>\n",
       "    </tr>\n",
       "    <tr>\n",
       "      <th>0</th>\n",
       "      <td>SAINT JHN</td>\n",
       "      <td>THE ORWELLS</td>\n",
       "      <td>3</td>\n",
       "      <td>Governor's Ball</td>\n",
       "    </tr>\n",
       "    <tr>\n",
       "      <th>0</th>\n",
       "      <td>KAIYDO</td>\n",
       "      <td>MONDO COZMO</td>\n",
       "      <td>3</td>\n",
       "      <td>Governor's Ball</td>\n",
       "    </tr>\n",
       "    <tr>\n",
       "      <th>0</th>\n",
       "      <td>BARNS COURTNEY</td>\n",
       "      <td>RON GALLO</td>\n",
       "      <td>3</td>\n",
       "      <td>Governor's Ball</td>\n",
       "    </tr>\n",
       "    <tr>\n",
       "      <th>0</th>\n",
       "      <td>RON GALLO</td>\n",
       "      <td>BARNS COURTNEY</td>\n",
       "      <td>3</td>\n",
       "      <td>Governor's Ball</td>\n",
       "    </tr>\n",
       "    <tr>\n",
       "      <th>0</th>\n",
       "      <td>MONDO COZMO</td>\n",
       "      <td>KAIYDO</td>\n",
       "      <td>3</td>\n",
       "      <td>Governor's Ball</td>\n",
       "    </tr>\n",
       "    <tr>\n",
       "      <th>0</th>\n",
       "      <td>CHANCE THE RAPPER</td>\n",
       "      <td>FLUME</td>\n",
       "      <td>1</td>\n",
       "      <td>Governor's Ball</td>\n",
       "    </tr>\n",
       "    <tr>\n",
       "      <th>0</th>\n",
       "      <td>LORDE</td>\n",
       "      <td>BEACH HOUSE</td>\n",
       "      <td>1</td>\n",
       "      <td>Governor's Ball</td>\n",
       "    </tr>\n",
       "    <tr>\n",
       "      <th>0</th>\n",
       "      <td>LORDE</td>\n",
       "      <td>SCHOOLBOY Q</td>\n",
       "      <td>1</td>\n",
       "      <td>Governor's Ball</td>\n",
       "    </tr>\n",
       "    <tr>\n",
       "      <th>0</th>\n",
       "      <td>FLUME</td>\n",
       "      <td>CHANCE THE RAPPER</td>\n",
       "      <td>1</td>\n",
       "      <td>Governor's Ball</td>\n",
       "    </tr>\n",
       "    <tr>\n",
       "      <th>0</th>\n",
       "      <td>FLUME</td>\n",
       "      <td>MAJID JORDAN</td>\n",
       "      <td>1</td>\n",
       "      <td>Governor's Ball</td>\n",
       "    </tr>\n",
       "    <tr>\n",
       "      <th>0</th>\n",
       "      <td>BEACH HOUSE</td>\n",
       "      <td>LORDE</td>\n",
       "      <td>1</td>\n",
       "      <td>Governor's Ball</td>\n",
       "    </tr>\n",
       "    <tr>\n",
       "      <th>0</th>\n",
       "      <td>SCHOOLBOY Q</td>\n",
       "      <td>LORDE</td>\n",
       "      <td>1</td>\n",
       "      <td>Governor's Ball</td>\n",
       "    </tr>\n",
       "    <tr>\n",
       "      <th>0</th>\n",
       "      <td>SCHOOLBOY Q</td>\n",
       "      <td>SPECIAL GUEST NANCY WHANG DJ SET</td>\n",
       "      <td>1</td>\n",
       "      <td>Governor's Ball</td>\n",
       "    </tr>\n",
       "    <tr>\n",
       "      <th>...</th>\n",
       "      <td>...</td>\n",
       "      <td>...</td>\n",
       "      <td>...</td>\n",
       "      <td>...</td>\n",
       "    </tr>\n",
       "    <tr>\n",
       "      <th>0</th>\n",
       "      <td>MORGAN MILLER</td>\n",
       "      <td>ELLA VOS</td>\n",
       "      <td>3</td>\n",
       "      <td>Bonnaroo</td>\n",
       "    </tr>\n",
       "    <tr>\n",
       "      <th>0</th>\n",
       "      <td>MORGAN MILLER</td>\n",
       "      <td>TWO FEET</td>\n",
       "      <td>3</td>\n",
       "      <td>Bonnaroo</td>\n",
       "    </tr>\n",
       "    <tr>\n",
       "      <th>0</th>\n",
       "      <td>MORGAN MILLER</td>\n",
       "      <td>TIM GUNTER</td>\n",
       "      <td>3</td>\n",
       "      <td>Bonnaroo</td>\n",
       "    </tr>\n",
       "    <tr>\n",
       "      <th>0</th>\n",
       "      <td>MORGAN MILLER</td>\n",
       "      <td>“POOTIE TANG” – WITH LANCE CROUTHER (POOTIE HI...</td>\n",
       "      <td>3</td>\n",
       "      <td>Bonnaroo</td>\n",
       "    </tr>\n",
       "    <tr>\n",
       "      <th>0</th>\n",
       "      <td>“INGRID GOES WEST” SNEAK SCREENING W/ AUBREY P...</td>\n",
       "      <td>TANK AND THE BANGAS</td>\n",
       "      <td>3</td>\n",
       "      <td>Bonnaroo</td>\n",
       "    </tr>\n",
       "    <tr>\n",
       "      <th>0</th>\n",
       "      <td>“INGRID GOES WEST” SNEAK SCREENING W/ AUBREY P...</td>\n",
       "      <td>BACKUP PLANET</td>\n",
       "      <td>3</td>\n",
       "      <td>Bonnaroo</td>\n",
       "    </tr>\n",
       "    <tr>\n",
       "      <th>0</th>\n",
       "      <td>“POOTIE TANG” – WITH LANCE CROUTHER (POOTIE HI...</td>\n",
       "      <td>LORDE</td>\n",
       "      <td>3</td>\n",
       "      <td>Bonnaroo</td>\n",
       "    </tr>\n",
       "    <tr>\n",
       "      <th>0</th>\n",
       "      <td>“POOTIE TANG” – WITH LANCE CROUTHER (POOTIE HI...</td>\n",
       "      <td>CRYSTAL CASTLES</td>\n",
       "      <td>3</td>\n",
       "      <td>Bonnaroo</td>\n",
       "    </tr>\n",
       "    <tr>\n",
       "      <th>0</th>\n",
       "      <td>“POOTIE TANG” – WITH LANCE CROUTHER (POOTIE HI...</td>\n",
       "      <td>MILKY CHANCE</td>\n",
       "      <td>3</td>\n",
       "      <td>Bonnaroo</td>\n",
       "    </tr>\n",
       "    <tr>\n",
       "      <th>0</th>\n",
       "      <td>“POOTIE TANG” – WITH LANCE CROUTHER (POOTIE HI...</td>\n",
       "      <td>SKEPTA</td>\n",
       "      <td>3</td>\n",
       "      <td>Bonnaroo</td>\n",
       "    </tr>\n",
       "    <tr>\n",
       "      <th>0</th>\n",
       "      <td>“POOTIE TANG” – WITH LANCE CROUTHER (POOTIE HI...</td>\n",
       "      <td>BORGORE</td>\n",
       "      <td>3</td>\n",
       "      <td>Bonnaroo</td>\n",
       "    </tr>\n",
       "    <tr>\n",
       "      <th>0</th>\n",
       "      <td>“POOTIE TANG” – WITH LANCE CROUTHER (POOTIE HI...</td>\n",
       "      <td>FLATBUSH ZOMBIES</td>\n",
       "      <td>3</td>\n",
       "      <td>Bonnaroo</td>\n",
       "    </tr>\n",
       "    <tr>\n",
       "      <th>0</th>\n",
       "      <td>“POOTIE TANG” – WITH LANCE CROUTHER (POOTIE HI...</td>\n",
       "      <td>GREENSKY BLUEGRASS</td>\n",
       "      <td>3</td>\n",
       "      <td>Bonnaroo</td>\n",
       "    </tr>\n",
       "    <tr>\n",
       "      <th>0</th>\n",
       "      <td>“POOTIE TANG” – WITH LANCE CROUTHER (POOTIE HI...</td>\n",
       "      <td>GOLDFISH</td>\n",
       "      <td>3</td>\n",
       "      <td>Bonnaroo</td>\n",
       "    </tr>\n",
       "    <tr>\n",
       "      <th>0</th>\n",
       "      <td>“POOTIE TANG” – WITH LANCE CROUTHER (POOTIE HI...</td>\n",
       "      <td>THE ORWELLS</td>\n",
       "      <td>3</td>\n",
       "      <td>Bonnaroo</td>\n",
       "    </tr>\n",
       "    <tr>\n",
       "      <th>0</th>\n",
       "      <td>“POOTIE TANG” – WITH LANCE CROUTHER (POOTIE HI...</td>\n",
       "      <td>JULY TALK</td>\n",
       "      <td>3</td>\n",
       "      <td>Bonnaroo</td>\n",
       "    </tr>\n",
       "    <tr>\n",
       "      <th>0</th>\n",
       "      <td>“POOTIE TANG” – WITH LANCE CROUTHER (POOTIE HI...</td>\n",
       "      <td>TWIDDLE</td>\n",
       "      <td>3</td>\n",
       "      <td>Bonnaroo</td>\n",
       "    </tr>\n",
       "    <tr>\n",
       "      <th>0</th>\n",
       "      <td>“POOTIE TANG” – WITH LANCE CROUTHER (POOTIE HI...</td>\n",
       "      <td>COREY HARPER</td>\n",
       "      <td>3</td>\n",
       "      <td>Bonnaroo</td>\n",
       "    </tr>\n",
       "    <tr>\n",
       "      <th>0</th>\n",
       "      <td>“POOTIE TANG” – WITH LANCE CROUTHER (POOTIE HI...</td>\n",
       "      <td>ELLA VOS</td>\n",
       "      <td>3</td>\n",
       "      <td>Bonnaroo</td>\n",
       "    </tr>\n",
       "    <tr>\n",
       "      <th>0</th>\n",
       "      <td>“POOTIE TANG” – WITH LANCE CROUTHER (POOTIE HI...</td>\n",
       "      <td>JAMES HERSEY</td>\n",
       "      <td>3</td>\n",
       "      <td>Bonnaroo</td>\n",
       "    </tr>\n",
       "    <tr>\n",
       "      <th>0</th>\n",
       "      <td>“POOTIE TANG” – WITH LANCE CROUTHER (POOTIE HI...</td>\n",
       "      <td>MT. JOY</td>\n",
       "      <td>3</td>\n",
       "      <td>Bonnaroo</td>\n",
       "    </tr>\n",
       "    <tr>\n",
       "      <th>0</th>\n",
       "      <td>“POOTIE TANG” – WITH LANCE CROUTHER (POOTIE HI...</td>\n",
       "      <td>NJOMZA</td>\n",
       "      <td>3</td>\n",
       "      <td>Bonnaroo</td>\n",
       "    </tr>\n",
       "    <tr>\n",
       "      <th>0</th>\n",
       "      <td>“POOTIE TANG” – WITH LANCE CROUTHER (POOTIE HI...</td>\n",
       "      <td>TWO FEET</td>\n",
       "      <td>3</td>\n",
       "      <td>Bonnaroo</td>\n",
       "    </tr>\n",
       "    <tr>\n",
       "      <th>0</th>\n",
       "      <td>“POOTIE TANG” – WITH LANCE CROUTHER (POOTIE HI...</td>\n",
       "      <td>TIM GUNTER</td>\n",
       "      <td>3</td>\n",
       "      <td>Bonnaroo</td>\n",
       "    </tr>\n",
       "    <tr>\n",
       "      <th>0</th>\n",
       "      <td>“POOTIE TANG” – WITH LANCE CROUTHER (POOTIE HI...</td>\n",
       "      <td>MORGAN MILLER</td>\n",
       "      <td>3</td>\n",
       "      <td>Bonnaroo</td>\n",
       "    </tr>\n",
       "    <tr>\n",
       "      <th>0</th>\n",
       "      <td>“SPACEBALLS” 30TH ANNIVERSARY MOVIE PARTY, PRE...</td>\n",
       "      <td>FLUME</td>\n",
       "      <td>3</td>\n",
       "      <td>Bonnaroo</td>\n",
       "    </tr>\n",
       "    <tr>\n",
       "      <th>0</th>\n",
       "      <td>“SPACEBALLS” 30TH ANNIVERSARY MOVIE PARTY, PRE...</td>\n",
       "      <td>MARSHMELLO</td>\n",
       "      <td>3</td>\n",
       "      <td>Bonnaroo</td>\n",
       "    </tr>\n",
       "    <tr>\n",
       "      <th>0</th>\n",
       "      <td>“SPACEBALLS” 30TH ANNIVERSARY MOVIE PARTY, PRE...</td>\n",
       "      <td>SUPERJAM</td>\n",
       "      <td>3</td>\n",
       "      <td>Bonnaroo</td>\n",
       "    </tr>\n",
       "    <tr>\n",
       "      <th>0</th>\n",
       "      <td>“SPACEBALLS” 30TH ANNIVERSARY MOVIE PARTY, PRE...</td>\n",
       "      <td>SHPONGLE (SIMON POSFORD PRESENTS THE SHPONGLET...</td>\n",
       "      <td>3</td>\n",
       "      <td>Bonnaroo</td>\n",
       "    </tr>\n",
       "    <tr>\n",
       "      <th>0</th>\n",
       "      <td>“SPACEBALLS” 30TH ANNIVERSARY MOVIE PARTY, PRE...</td>\n",
       "      <td>SNAILS</td>\n",
       "      <td>3</td>\n",
       "      <td>Bonnaroo</td>\n",
       "    </tr>\n",
       "  </tbody>\n",
       "</table>\n",
       "<p>2354 rows × 4 columns</p>\n",
       "</div>"
      ],
      "text/plain": [
       "                                              artist1  \\\n",
       "0                                                TOOL   \n",
       "0                                         WIZ KHALIFA   \n",
       "0                                               LOGIC   \n",
       "0                                   CAGE THE ELEPHANT   \n",
       "0                                                 AIR   \n",
       "0                                      THE AVALANCHES   \n",
       "0                                          PHANTOGRAM   \n",
       "0                                     FRANZ FERDINAND   \n",
       "0                                         MAC DEMARCO   \n",
       "0                                      PARQUET COURTS   \n",
       "0                                         ROYAL BLOOD   \n",
       "0                                            WARPAINT   \n",
       "0                                              SKEPTA   \n",
       "0                                             GRYFFIN   \n",
       "0                                                EDEN   \n",
       "0                                           ZANE LOWE   \n",
       "0                                         THE ORWELLS   \n",
       "0                                           SAINT JHN   \n",
       "0                                              KAIYDO   \n",
       "0                                      BARNS COURTNEY   \n",
       "0                                           RON GALLO   \n",
       "0                                         MONDO COZMO   \n",
       "0                                   CHANCE THE RAPPER   \n",
       "0                                               LORDE   \n",
       "0                                               LORDE   \n",
       "0                                               FLUME   \n",
       "0                                               FLUME   \n",
       "0                                         BEACH HOUSE   \n",
       "0                                         SCHOOLBOY Q   \n",
       "0                                         SCHOOLBOY Q   \n",
       "..                                                ...   \n",
       "0                                       MORGAN MILLER   \n",
       "0                                       MORGAN MILLER   \n",
       "0                                       MORGAN MILLER   \n",
       "0                                       MORGAN MILLER   \n",
       "0   “INGRID GOES WEST” SNEAK SCREENING W/ AUBREY P...   \n",
       "0   “INGRID GOES WEST” SNEAK SCREENING W/ AUBREY P...   \n",
       "0   “POOTIE TANG” – WITH LANCE CROUTHER (POOTIE HI...   \n",
       "0   “POOTIE TANG” – WITH LANCE CROUTHER (POOTIE HI...   \n",
       "0   “POOTIE TANG” – WITH LANCE CROUTHER (POOTIE HI...   \n",
       "0   “POOTIE TANG” – WITH LANCE CROUTHER (POOTIE HI...   \n",
       "0   “POOTIE TANG” – WITH LANCE CROUTHER (POOTIE HI...   \n",
       "0   “POOTIE TANG” – WITH LANCE CROUTHER (POOTIE HI...   \n",
       "0   “POOTIE TANG” – WITH LANCE CROUTHER (POOTIE HI...   \n",
       "0   “POOTIE TANG” – WITH LANCE CROUTHER (POOTIE HI...   \n",
       "0   “POOTIE TANG” – WITH LANCE CROUTHER (POOTIE HI...   \n",
       "0   “POOTIE TANG” – WITH LANCE CROUTHER (POOTIE HI...   \n",
       "0   “POOTIE TANG” – WITH LANCE CROUTHER (POOTIE HI...   \n",
       "0   “POOTIE TANG” – WITH LANCE CROUTHER (POOTIE HI...   \n",
       "0   “POOTIE TANG” – WITH LANCE CROUTHER (POOTIE HI...   \n",
       "0   “POOTIE TANG” – WITH LANCE CROUTHER (POOTIE HI...   \n",
       "0   “POOTIE TANG” – WITH LANCE CROUTHER (POOTIE HI...   \n",
       "0   “POOTIE TANG” – WITH LANCE CROUTHER (POOTIE HI...   \n",
       "0   “POOTIE TANG” – WITH LANCE CROUTHER (POOTIE HI...   \n",
       "0   “POOTIE TANG” – WITH LANCE CROUTHER (POOTIE HI...   \n",
       "0   “POOTIE TANG” – WITH LANCE CROUTHER (POOTIE HI...   \n",
       "0   “SPACEBALLS” 30TH ANNIVERSARY MOVIE PARTY, PRE...   \n",
       "0   “SPACEBALLS” 30TH ANNIVERSARY MOVIE PARTY, PRE...   \n",
       "0   “SPACEBALLS” 30TH ANNIVERSARY MOVIE PARTY, PRE...   \n",
       "0   “SPACEBALLS” 30TH ANNIVERSARY MOVIE PARTY, PRE...   \n",
       "0   “SPACEBALLS” 30TH ANNIVERSARY MOVIE PARTY, PRE...   \n",
       "\n",
       "                                              artist2 day             fest  \n",
       "0                                         WIZ KHALIFA   3  Governor's Ball  \n",
       "0                                                TOOL   3  Governor's Ball  \n",
       "0                                                 AIR   3  Governor's Ball  \n",
       "0                                          PHANTOGRAM   3  Governor's Ball  \n",
       "0                                               LOGIC   3  Governor's Ball  \n",
       "0                                     FRANZ FERDINAND   3  Governor's Ball  \n",
       "0                                   CAGE THE ELEPHANT   3  Governor's Ball  \n",
       "0                                      THE AVALANCHES   3  Governor's Ball  \n",
       "0                                         ROYAL BLOOD   3  Governor's Ball  \n",
       "0                                             GRYFFIN   3  Governor's Ball  \n",
       "0                                         MAC DEMARCO   3  Governor's Ball  \n",
       "0                                              SKEPTA   3  Governor's Ball  \n",
       "0                                            WARPAINT   3  Governor's Ball  \n",
       "0                                      PARQUET COURTS   3  Governor's Ball  \n",
       "0                                           ZANE LOWE   3  Governor's Ball  \n",
       "0                                                EDEN   3  Governor's Ball  \n",
       "0                                           SAINT JHN   3  Governor's Ball  \n",
       "0                                         THE ORWELLS   3  Governor's Ball  \n",
       "0                                         MONDO COZMO   3  Governor's Ball  \n",
       "0                                           RON GALLO   3  Governor's Ball  \n",
       "0                                      BARNS COURTNEY   3  Governor's Ball  \n",
       "0                                              KAIYDO   3  Governor's Ball  \n",
       "0                                               FLUME   1  Governor's Ball  \n",
       "0                                         BEACH HOUSE   1  Governor's Ball  \n",
       "0                                         SCHOOLBOY Q   1  Governor's Ball  \n",
       "0                                   CHANCE THE RAPPER   1  Governor's Ball  \n",
       "0                                        MAJID JORDAN   1  Governor's Ball  \n",
       "0                                               LORDE   1  Governor's Ball  \n",
       "0                                               LORDE   1  Governor's Ball  \n",
       "0                    SPECIAL GUEST NANCY WHANG DJ SET   1  Governor's Ball  \n",
       "..                                                ...  ..              ...  \n",
       "0                                            ELLA VOS   3         Bonnaroo  \n",
       "0                                            TWO FEET   3         Bonnaroo  \n",
       "0                                          TIM GUNTER   3         Bonnaroo  \n",
       "0   “POOTIE TANG” – WITH LANCE CROUTHER (POOTIE HI...   3         Bonnaroo  \n",
       "0                                 TANK AND THE BANGAS   3         Bonnaroo  \n",
       "0                                       BACKUP PLANET   3         Bonnaroo  \n",
       "0                                               LORDE   3         Bonnaroo  \n",
       "0                                     CRYSTAL CASTLES   3         Bonnaroo  \n",
       "0                                        MILKY CHANCE   3         Bonnaroo  \n",
       "0                                              SKEPTA   3         Bonnaroo  \n",
       "0                                             BORGORE   3         Bonnaroo  \n",
       "0                                    FLATBUSH ZOMBIES   3         Bonnaroo  \n",
       "0                                  GREENSKY BLUEGRASS   3         Bonnaroo  \n",
       "0                                            GOLDFISH   3         Bonnaroo  \n",
       "0                                         THE ORWELLS   3         Bonnaroo  \n",
       "0                                           JULY TALK   3         Bonnaroo  \n",
       "0                                             TWIDDLE   3         Bonnaroo  \n",
       "0                                        COREY HARPER   3         Bonnaroo  \n",
       "0                                            ELLA VOS   3         Bonnaroo  \n",
       "0                                        JAMES HERSEY   3         Bonnaroo  \n",
       "0                                             MT. JOY   3         Bonnaroo  \n",
       "0                                              NJOMZA   3         Bonnaroo  \n",
       "0                                            TWO FEET   3         Bonnaroo  \n",
       "0                                          TIM GUNTER   3         Bonnaroo  \n",
       "0                                       MORGAN MILLER   3         Bonnaroo  \n",
       "0                                               FLUME   3         Bonnaroo  \n",
       "0                                          MARSHMELLO   3         Bonnaroo  \n",
       "0                                            SUPERJAM   3         Bonnaroo  \n",
       "0   SHPONGLE (SIMON POSFORD PRESENTS THE SHPONGLET...   3         Bonnaroo  \n",
       "0                                              SNAILS   3         Bonnaroo  \n",
       "\n",
       "[2354 rows x 4 columns]"
      ]
     },
     "execution_count": 415,
     "metadata": {},
     "output_type": "execute_result"
    }
   ],
   "source": [
    "overlap"
   ]
  },
  {
   "cell_type": "code",
   "execution_count": null,
   "metadata": {
    "collapsed": true
   },
   "outputs": [],
   "source": [
    "#### con = sqlite3.connect(\"pitchfork-data.db\")\n",
    "\n",
    "album_table = pd.read_sql_query(\"\"\"SELECT upper(artist) as artist,\n",
    "                                          count(album) as count, \n",
    "                                          avg(score) as score\n",
    "                                    FROM album_table_clean\n",
    "                                    GROUP BY artist\"\"\", con)\n",
    "album_table[\"score\"] = album_table[\"score\"].astype(float)\n",
    "album_table.head()"
   ]
  },
  {
   "cell_type": "code",
   "execution_count": 41,
   "metadata": {
    "collapsed": false
   },
   "outputs": [
    {
     "data": {
      "text/html": [
       "<div>\n",
       "<table border=\"1\" class=\"dataframe\">\n",
       "  <thead>\n",
       "    <tr style=\"text-align: right;\">\n",
       "      <th></th>\n",
       "      <th>artist</th>\n",
       "      <th>count</th>\n",
       "      <th>score</th>\n",
       "      <th>index</th>\n",
       "      <th>followers</th>\n",
       "      <th>genre</th>\n",
       "      <th>popularity</th>\n",
       "    </tr>\n",
       "  </thead>\n",
       "  <tbody>\n",
       "    <tr>\n",
       "      <th>2</th>\n",
       "      <td>+/-</td>\n",
       "      <td>3</td>\n",
       "      <td>6.366667</td>\n",
       "      <td>5699.0</td>\n",
       "      <td>1074520.0</td>\n",
       "      <td>classic funk rock/dance pop/funk/funk rock/qui...</td>\n",
       "      <td>74.0</td>\n",
       "    </tr>\n",
       "    <tr>\n",
       "      <th>3</th>\n",
       "      <td>...AND YOU WILL KNOW US BY THE TRAIL OF DEAD</td>\n",
       "      <td>7</td>\n",
       "      <td>6.414286</td>\n",
       "      <td>2318.0</td>\n",
       "      <td>23433.0</td>\n",
       "      <td>alternative rock/dance-punk/garage rock/indie ...</td>\n",
       "      <td>38.0</td>\n",
       "    </tr>\n",
       "    <tr>\n",
       "      <th>4</th>\n",
       "      <td>1,2,3</td>\n",
       "      <td>1</td>\n",
       "      <td>6.300000</td>\n",
       "      <td>4447.0</td>\n",
       "      <td>3232.0</td>\n",
       "      <td>Unknown</td>\n",
       "      <td>23.0</td>\n",
       "    </tr>\n",
       "    <tr>\n",
       "      <th>5</th>\n",
       "      <td>10 IN THE SWEAR JAR</td>\n",
       "      <td>1</td>\n",
       "      <td>7.400000</td>\n",
       "      <td>7143.0</td>\n",
       "      <td>507.0</td>\n",
       "      <td>Unknown</td>\n",
       "      <td>9.0</td>\n",
       "    </tr>\n",
       "    <tr>\n",
       "      <th>6</th>\n",
       "      <td>11:11</td>\n",
       "      <td>1</td>\n",
       "      <td>4.900000</td>\n",
       "      <td>2505.0</td>\n",
       "      <td>120863.0</td>\n",
       "      <td>alternative metal/alternative rock/funk metal/...</td>\n",
       "      <td>54.0</td>\n",
       "    </tr>\n",
       "  </tbody>\n",
       "</table>\n",
       "</div>"
      ],
      "text/plain": [
       "                                         artist  count     score   index  \\\n",
       "2                                           +/-      3  6.366667  5699.0   \n",
       "3  ...AND YOU WILL KNOW US BY THE TRAIL OF DEAD      7  6.414286  2318.0   \n",
       "4                                         1,2,3      1  6.300000  4447.0   \n",
       "5                           10 IN THE SWEAR JAR      1  7.400000  7143.0   \n",
       "6                                         11:11      1  4.900000  2505.0   \n",
       "\n",
       "   followers                                              genre  popularity  \n",
       "2  1074520.0  classic funk rock/dance pop/funk/funk rock/qui...        74.0  \n",
       "3    23433.0  alternative rock/dance-punk/garage rock/indie ...        38.0  \n",
       "4     3232.0                                            Unknown        23.0  \n",
       "5      507.0                                            Unknown         9.0  \n",
       "6   120863.0  alternative metal/alternative rock/funk metal/...        54.0  "
      ]
     },
     "execution_count": 41,
     "metadata": {},
     "output_type": "execute_result"
    }
   ],
   "source": [
    "spotify_data = pd.read_sql_query(\"SELECT * FROM artist_spotify_data\", con)\n",
    "corr = album_table.merge(spotify_data, on = \"artist\", how = \"left\")\n",
    "corr = corr[~corr[\"followers\"].isnull()]\n",
    "corr = corr[corr[\"followers\"] != 0]\n",
    "corr.head()"
   ]
  },
  {
   "cell_type": "code",
   "execution_count": 42,
   "metadata": {
    "collapsed": false
   },
   "outputs": [
    {
     "name": "stdout",
     "output_type": "stream",
     "text": [
      "Corr. between log(followers) and popularity: 0.913392910891\n",
      "Corr. without log transformation: 0.440654051686\n"
     ]
    }
   ],
   "source": [
    "print (\"Corr. between log(followers) and popularity:\",\n",
    "       linregress(numpy.log(corr[\"followers\"]),\n",
    "                  corr[\"popularity\"])[2])\n",
    "\n",
    "print (\"Corr. without log transformation:\",\n",
    "       linregress(corr[\"followers\"],\n",
    "                  corr[\"popularity\"])[2])"
   ]
  },
  {
   "cell_type": "code",
   "execution_count": 43,
   "metadata": {
    "collapsed": false
   },
   "outputs": [
    {
     "name": "stdout",
     "output_type": "stream",
     "text": [
      "Corr. between log(followers) and score: -0.0205476765606\n",
      "Corr. without log transformation: -0.0496669683019\n"
     ]
    }
   ],
   "source": [
    "print (\"Corr. between log(followers) and score:\",\n",
    "       linregress(numpy.log(corr[\"followers\"]),\n",
    "                  corr[\"score\"])[2])\n",
    "\n",
    "print (\"Corr. without log transformation:\",\n",
    "       linregress(corr[\"followers\"],\n",
    "                  corr[\"score\"])[2])"
   ]
  },
  {
   "cell_type": "code",
   "execution_count": 44,
   "metadata": {
    "collapsed": false
   },
   "outputs": [
    {
     "name": "stdout",
     "output_type": "stream",
     "text": [
      "Corr. between popularity and score: -0.018317909697\n"
     ]
    }
   ],
   "source": [
    "print (\"Corr. between popularity and score:\",\n",
    "       linregress(corr[\"popularity\"],\n",
    "                  corr[\"score\"])[2])"
   ]
  },
  {
   "cell_type": "code",
   "execution_count": 45,
   "metadata": {
    "collapsed": false
   },
   "outputs": [
    {
     "name": "stdout",
     "output_type": "stream",
     "text": [
      "Corr. between count and score: 0.0240807388271\n"
     ]
    }
   ],
   "source": [
    "print (\"Corr. between count and score:\",\n",
    "       linregress(corr[\"count\"],\n",
    "                  corr[\"score\"])[2])"
   ]
  },
  {
   "cell_type": "code",
   "execution_count": 46,
   "metadata": {
    "collapsed": true
   },
   "outputs": [],
   "source": [
    "corr[\"log_followers\"] = numpy.log(corr[\"followers\"])\n",
    "con = sqlite3.connect(\"pitchfork-data.db\")\n",
    "#del fde[\"index\"]\n",
    "corr.to_sql(\"correlation_table\", con, if_exists = \"replace\")\n",
    "con.close()"
   ]
  },
  {
   "cell_type": "code",
   "execution_count": null,
   "metadata": {
    "collapsed": false
   },
   "outputs": [],
   "source": [
    "\n",
    "\n",
    "\n",
    "\n",
    "\n",
    "\n",
    "\n",
    "\n",
    "\n",
    "\n",
    "\n",
    "\n",
    "\n",
    "\n",
    "\n",
    "\n",
    "\n",
    "\n",
    "\n",
    "\n",
    "\n",
    "\n",
    "\n",
    "\n",
    "\n",
    "\n",
    "\n",
    "\n",
    "\n",
    "\n",
    "\n",
    "\n",
    "\n"
   ]
  },
  {
   "cell_type": "code",
   "execution_count": null,
   "metadata": {
    "collapsed": true
   },
   "outputs": [],
   "source": []
  }
 ],
 "metadata": {
  "anaconda-cloud": {},
  "kernelspec": {
   "display_name": "Python 3",
   "language": "python",
   "name": "python3"
  },
  "language_info": {
   "codemirror_mode": {
    "name": "ipython",
    "version": 3
   },
   "file_extension": ".py",
   "mimetype": "text/x-python",
   "name": "python",
   "nbconvert_exporter": "python",
   "pygments_lexer": "ipython3",
   "version": "3.6.0"
  },
  "widgets": {
   "state": {
    "0d366aeaab734b799d00ab717870a73a": {
     "views": [
      {
       "cell_index": 28
      }
     ]
    },
    "a82ae4d0d8004cd1980f3e0b70c34bd0": {
     "views": [
      {
       "cell_index": 15
      }
     ]
    },
    "adbbb88c7c894f52841d172ac73d6ae9": {
     "views": [
      {
       "cell_index": 9
      }
     ]
    },
    "bf69e263e32b4539a45f6b706ee8f91f": {
     "views": [
      {
       "cell_index": 21
      }
     ]
    },
    "d4880fade70741f783c5d904bf4dbde1": {
     "views": [
      {
       "cell_index": 23
      }
     ]
    },
    "e525ff1c88f948bbb5dc6b9e747de678": {
     "views": [
      {
       "cell_index": 13
      }
     ]
    }
   },
   "version": "1.2.0"
  }
 },
 "nbformat": 4,
 "nbformat_minor": 0
}
