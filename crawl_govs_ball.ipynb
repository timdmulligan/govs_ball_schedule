{
 "cells": [
  {
   "cell_type": "markdown",
   "metadata": {},
   "source": [
    "## Creating the Optimal Gov's Ball Scedule"
   ]
  },
  {
   "cell_type": "code",
   "execution_count": 3,
   "metadata": {
    "collapsed": true
   },
   "outputs": [],
   "source": [
    "#Bring in the neccessary libraries \n",
    "import pandas as pd\n",
    "from io import StringIO\n",
    "import urllib\n",
    "from bs4 import BeautifulSoup \n",
    "import sqlite3 \n",
    "import time\n",
    "import numpy \n",
    "import signal\n",
    "from urllib.request import Request, urlopen\n",
    "from IPython.display import clear_output\n",
    "import numpy as np\n",
    "from scipy.stats import linregress\n"
   ]
  },
  {
   "cell_type": "code",
   "execution_count": 4,
   "metadata": {
    "collapsed": false
   },
   "outputs": [
    {
     "name": "stdout",
     "output_type": "stream",
     "text": [
      "Progress Bar Loaded\n"
     ]
    }
   ],
   "source": [
    "# Load package for progress bar\n",
    "%run \"progress_bar.py\"\n",
    "print ('Progress Bar Loaded')"
   ]
  },
  {
   "cell_type": "markdown",
   "metadata": {},
   "source": [
    "### Get Gov's Ball Artist Info"
   ]
  },
  {
   "cell_type": "markdown",
   "metadata": {},
   "source": [
    "Could also look at Bonaroo and Lollapolloozas schedules"
   ]
  },
  {
   "cell_type": "code",
   "execution_count": 5,
   "metadata": {
    "collapsed": false
   },
   "outputs": [],
   "source": [
    "#Grab the artist info from the Gov's ball website\n",
    "with urllib.request.urlopen(\"https://www.governorsballmusicfestival.com/lineup/interactive-lineup/\") as url:\n",
    "    s = url.read()\n",
    "soup = BeautifulSoup(s, \"lxml\")\n"
   ]
  },
  {
   "cell_type": "code",
   "execution_count": 6,
   "metadata": {
    "collapsed": false
   },
   "outputs": [
    {
     "data": {
      "text/html": [
       "<div>\n",
       "<table border=\"1\" class=\"dataframe\">\n",
       "  <thead>\n",
       "    <tr style=\"text-align: right;\">\n",
       "      <th></th>\n",
       "      <th>artist</th>\n",
       "      <th>date</th>\n",
       "    </tr>\n",
       "  </thead>\n",
       "  <tbody>\n",
       "    <tr>\n",
       "      <th>0</th>\n",
       "      <td>Tool</td>\n",
       "      <td>[\"Sunday, June 4th\"]</td>\n",
       "    </tr>\n",
       "    <tr>\n",
       "      <th>1</th>\n",
       "      <td>Chance The Rapper</td>\n",
       "      <td>[\"Friday, June 2nd\"]</td>\n",
       "    </tr>\n",
       "    <tr>\n",
       "      <th>2</th>\n",
       "      <td>Phoenix</td>\n",
       "      <td>[\"Saturday, June 3rd\"]</td>\n",
       "    </tr>\n",
       "    <tr>\n",
       "      <th>3</th>\n",
       "      <td>Childish Gambino</td>\n",
       "      <td>[\"Saturday, June 3rd\"]</td>\n",
       "    </tr>\n",
       "    <tr>\n",
       "      <th>4</th>\n",
       "      <td>Lorde</td>\n",
       "      <td>[\"Friday, June 2nd\"]</td>\n",
       "    </tr>\n",
       "  </tbody>\n",
       "</table>\n",
       "</div>"
      ],
      "text/plain": [
       "              artist                    date\n",
       "0               Tool    [\"Sunday, June 4th\"]\n",
       "1  Chance The Rapper    [\"Friday, June 2nd\"]\n",
       "2            Phoenix  [\"Saturday, June 3rd\"]\n",
       "3   Childish Gambino  [\"Saturday, June 3rd\"]\n",
       "4              Lorde    [\"Friday, June 2nd\"]"
      ]
     },
     "execution_count": 6,
     "metadata": {},
     "output_type": "execute_result"
    }
   ],
   "source": [
    "info = soup.findAll('div', {\"class\":\"c-lineup__artist\"})\n",
    "#Put those names in a list, then a dataframe\n",
    "govs_ball_data = pd.DataFrame([])\n",
    "for i in info:\n",
    "    artist = i.attrs['data-title']\n",
    "    date = i.attrs[\"data-day-titles\"]\n",
    "    govs_ball_data = govs_ball_data.append(pd.DataFrame({'artist': artist, #Create the table\n",
    "                                                         'date'  : date},\n",
    "                                                  index=[0]),\n",
    "                                     ignore_index=True)\n",
    "govs_ball_data.head()"
   ]
  },
  {
   "cell_type": "code",
   "execution_count": 7,
   "metadata": {
    "collapsed": false
   },
   "outputs": [
    {
     "data": {
      "text/html": [
       "<div>\n",
       "<table border=\"1\" class=\"dataframe\">\n",
       "  <thead>\n",
       "    <tr style=\"text-align: right;\">\n",
       "      <th></th>\n",
       "      <th>artist</th>\n",
       "      <th>date</th>\n",
       "      <th>day</th>\n",
       "      <th>festival</th>\n",
       "    </tr>\n",
       "  </thead>\n",
       "  <tbody>\n",
       "    <tr>\n",
       "      <th>0</th>\n",
       "      <td>Tool</td>\n",
       "      <td>Sunday, June 4th</td>\n",
       "      <td>3</td>\n",
       "      <td>Governor's Ball</td>\n",
       "    </tr>\n",
       "    <tr>\n",
       "      <th>1</th>\n",
       "      <td>Chance The Rapper</td>\n",
       "      <td>Friday, June 2nd</td>\n",
       "      <td>1</td>\n",
       "      <td>Governor's Ball</td>\n",
       "    </tr>\n",
       "    <tr>\n",
       "      <th>2</th>\n",
       "      <td>Phoenix</td>\n",
       "      <td>Saturday, June 3rd</td>\n",
       "      <td>2</td>\n",
       "      <td>Governor's Ball</td>\n",
       "    </tr>\n",
       "    <tr>\n",
       "      <th>3</th>\n",
       "      <td>Childish Gambino</td>\n",
       "      <td>Saturday, June 3rd</td>\n",
       "      <td>2</td>\n",
       "      <td>Governor's Ball</td>\n",
       "    </tr>\n",
       "    <tr>\n",
       "      <th>4</th>\n",
       "      <td>Lorde</td>\n",
       "      <td>Friday, June 2nd</td>\n",
       "      <td>1</td>\n",
       "      <td>Governor's Ball</td>\n",
       "    </tr>\n",
       "  </tbody>\n",
       "</table>\n",
       "</div>"
      ],
      "text/plain": [
       "              artist                date day         festival\n",
       "0               Tool    Sunday, June 4th   3  Governor's Ball\n",
       "1  Chance The Rapper    Friday, June 2nd   1  Governor's Ball\n",
       "2            Phoenix  Saturday, June 3rd   2  Governor's Ball\n",
       "3   Childish Gambino  Saturday, June 3rd   2  Governor's Ball\n",
       "4              Lorde    Friday, June 2nd   1  Governor's Ball"
      ]
     },
     "execution_count": 7,
     "metadata": {},
     "output_type": "execute_result"
    }
   ],
   "source": [
    "govs_ball_data[\"day\"] = ((govs_ball_data[\"date\"].str.slice(-5, -4)).astype(int) -1).astype(str)\n",
    "govs_ball_data[\"date\"] = govs_ball_data[\"date\"].str.slice(2, -2)\n",
    "govs_ball_data[\"festival\"] = \"Governor's Ball\"\n",
    "govs_ball_data.head()"
   ]
  },
  {
   "cell_type": "markdown",
   "metadata": {},
   "source": [
    "### Get Schedule by Hour"
   ]
  },
  {
   "cell_type": "code",
   "execution_count": null,
   "metadata": {
    "collapsed": false
   },
   "outputs": [],
   "source": [
    "artist_time = pd.DataFrame([])\n",
    "\n",
    "for i in log_progress(govs_ball_data.artist, every=1):\n",
    "    artist = i.lower().replace(\" \", \"-\").replace(u'ü', 'u')\n",
    "    artist2 = i\n",
    "    link = ('https://www.governorsballmusicfestival.com/artist/' + artist + \"/\") #create the link\n",
    "    req = Request(link, headers={ 'User-Agent': 'Firefox/24.0' })\n",
    "    webpage = urlopen(req).read()\n",
    "    soup = BeautifulSoup(webpage, \"lxml\") #create the soup\n",
    "    info_time = soup.findAll('p', {\"class\":\"u-m0\"})\n",
    "    info_stage = soup.findAll('p', {\"class\":\"u-mt0\"})\n",
    "    for div in info_time:\n",
    "        text = div.text\n",
    "        time = text.replace(\" \", \"\").replace('\\n', '')[7:]\n",
    "    for div in info_stage:\n",
    "        stage = div.text \n",
    "    artist_time = artist_time.append(pd.DataFrame({'time': time,\n",
    "                                                   'artist' : artist2,\n",
    "                                                   'stage' : stage}, #Create the table\n",
    "                                     index=[0]))\n",
    "        \n",
    "govs_ball_data = govs_ball_data.merge(artist_time, on = \"artist\")"
   ]
  },
  {
   "cell_type": "code",
   "execution_count": 143,
   "metadata": {
    "collapsed": false
   },
   "outputs": [
    {
     "data": {
      "text/plain": [
       "'Gov Ball NYC'"
      ]
     },
     "execution_count": 143,
     "metadata": {},
     "output_type": "execute_result"
    }
   ],
   "source": [
    "text"
   ]
  },
  {
   "cell_type": "code",
   "execution_count": 101,
   "metadata": {
    "collapsed": false
   },
   "outputs": [
    {
     "data": {
      "text/html": [
       "<div>\n",
       "<table border=\"1\" class=\"dataframe\">\n",
       "  <thead>\n",
       "    <tr style=\"text-align: right;\">\n",
       "      <th></th>\n",
       "      <th>artist</th>\n",
       "      <th>date</th>\n",
       "      <th>day</th>\n",
       "      <th>festival</th>\n",
       "      <th>link</th>\n",
       "      <th>time</th>\n",
       "    </tr>\n",
       "  </thead>\n",
       "  <tbody>\n",
       "    <tr>\n",
       "      <th>0</th>\n",
       "      <td>Tool</td>\n",
       "      <td>Sunday, June 4th</td>\n",
       "      <td>3</td>\n",
       "      <td>Governor's Ball</td>\n",
       "      <td>9:15pm-11:00pm</td>\n",
       "      <td>9:15pm-11:00pm</td>\n",
       "    </tr>\n",
       "    <tr>\n",
       "      <th>1</th>\n",
       "      <td>Chance The Rapper</td>\n",
       "      <td>Friday, June 2nd</td>\n",
       "      <td>1</td>\n",
       "      <td>Governor's Ball</td>\n",
       "      <td>9:45pm-11:00pm</td>\n",
       "      <td>9:45pm-11:00pm</td>\n",
       "    </tr>\n",
       "    <tr>\n",
       "      <th>2</th>\n",
       "      <td>Phoenix</td>\n",
       "      <td>Saturday, June 3rd</td>\n",
       "      <td>2</td>\n",
       "      <td>Governor's Ball</td>\n",
       "      <td>9:15pm-11:00pm</td>\n",
       "      <td>9:15pm-11:00pm</td>\n",
       "    </tr>\n",
       "    <tr>\n",
       "      <th>3</th>\n",
       "      <td>Childish Gambino</td>\n",
       "      <td>Saturday, June 3rd</td>\n",
       "      <td>2</td>\n",
       "      <td>Governor's Ball</td>\n",
       "      <td>9:15pm-11:00pm</td>\n",
       "      <td>9:15pm-11:00pm</td>\n",
       "    </tr>\n",
       "    <tr>\n",
       "      <th>4</th>\n",
       "      <td>Lorde</td>\n",
       "      <td>Friday, June 2nd</td>\n",
       "      <td>1</td>\n",
       "      <td>Governor's Ball</td>\n",
       "      <td>7:30pm-8:45pm</td>\n",
       "      <td>7:30pm-8:45pm</td>\n",
       "    </tr>\n",
       "  </tbody>\n",
       "</table>\n",
       "</div>"
      ],
      "text/plain": [
       "              artist                date day         festival            link  \\\n",
       "0               Tool    Sunday, June 4th   3  Governor's Ball  9:15pm-11:00pm   \n",
       "1  Chance The Rapper    Friday, June 2nd   1  Governor's Ball  9:45pm-11:00pm   \n",
       "2            Phoenix  Saturday, June 3rd   2  Governor's Ball  9:15pm-11:00pm   \n",
       "3   Childish Gambino  Saturday, June 3rd   2  Governor's Ball  9:15pm-11:00pm   \n",
       "4              Lorde    Friday, June 2nd   1  Governor's Ball   7:30pm-8:45pm   \n",
       "\n",
       "             time  \n",
       "0  9:15pm-11:00pm  \n",
       "1  9:45pm-11:00pm  \n",
       "2  9:15pm-11:00pm  \n",
       "3  9:15pm-11:00pm  \n",
       "4   7:30pm-8:45pm  "
      ]
     },
     "execution_count": 101,
     "metadata": {},
     "output_type": "execute_result"
    }
   ],
   "source": [
    "govs_ball_data.head()"
   ]
  },
  {
   "cell_type": "markdown",
   "metadata": {},
   "source": [
    "### Repeat that process for Lolla and Bonnaroo"
   ]
  },
  {
   "cell_type": "code",
   "execution_count": 121,
   "metadata": {
    "collapsed": false
   },
   "outputs": [
    {
     "data": {
      "text/html": [
       "<div>\n",
       "<table border=\"1\" class=\"dataframe\">\n",
       "  <thead>\n",
       "    <tr style=\"text-align: right;\">\n",
       "      <th></th>\n",
       "      <th>artist</th>\n",
       "      <th>date</th>\n",
       "      <th>day</th>\n",
       "      <th>festival</th>\n",
       "    </tr>\n",
       "  </thead>\n",
       "  <tbody>\n",
       "    <tr>\n",
       "      <th>0</th>\n",
       "      <td>CHANCE THE RAPPER</td>\n",
       "      <td>Saturday, August 5th</td>\n",
       "      <td>3</td>\n",
       "      <td>Lollapalooza</td>\n",
       "    </tr>\n",
       "    <tr>\n",
       "      <th>1</th>\n",
       "      <td>The Killers</td>\n",
       "      <td>Friday, August 4th</td>\n",
       "      <td>2</td>\n",
       "      <td>Lollapalooza</td>\n",
       "    </tr>\n",
       "    <tr>\n",
       "      <th>2</th>\n",
       "      <td>MUSE</td>\n",
       "      <td>Thursday, August 3th</td>\n",
       "      <td>1</td>\n",
       "      <td>Lollapalooza</td>\n",
       "    </tr>\n",
       "    <tr>\n",
       "      <th>3</th>\n",
       "      <td>Arcade Fire</td>\n",
       "      <td>Sunday, August 6th</td>\n",
       "      <td>4</td>\n",
       "      <td>Lollapalooza</td>\n",
       "    </tr>\n",
       "    <tr>\n",
       "      <th>4</th>\n",
       "      <td>The xx</td>\n",
       "      <td>Saturday, August 5th</td>\n",
       "      <td>3</td>\n",
       "      <td>Lollapalooza</td>\n",
       "    </tr>\n",
       "  </tbody>\n",
       "</table>\n",
       "</div>"
      ],
      "text/plain": [
       "              artist                  date day      festival\n",
       "0  CHANCE THE RAPPER  Saturday, August 5th   3  Lollapalooza\n",
       "1        The Killers    Friday, August 4th   2  Lollapalooza\n",
       "2               MUSE  Thursday, August 3th   1  Lollapalooza\n",
       "3        Arcade Fire    Sunday, August 6th   4  Lollapalooza\n",
       "4             The xx  Saturday, August 5th   3  Lollapalooza"
      ]
     },
     "execution_count": 121,
     "metadata": {},
     "output_type": "execute_result"
    }
   ],
   "source": [
    "#Grab the artist info from the Lollapalooza website\n",
    "with urllib.request.urlopen(\"https://www.lollapalooza.com/lineup/interactive-lineup/\") as url:\n",
    "    s = url.read()\n",
    "soup = BeautifulSoup(s, \"lxml\")\n",
    "\n",
    "info = soup.findAll('div', {\"class\":\"c-lineup__artist\"})\n",
    "#Put those names in a list, then a dataframe\n",
    "lolla_data = pd.DataFrame([])\n",
    "for i in info:\n",
    "    artist = i.attrs['data-title']\n",
    "    date = i.attrs[\"data-day-titles\"]\n",
    "    lolla_data = lolla_data.append(pd.DataFrame({'artist': artist, #Create the table\n",
    "                                                         'date'  : date},\n",
    "                                                  index=[0]),\n",
    "                                     ignore_index=True)\n",
    "    \n",
    "#Clean up the date information\n",
    "lolla_data[\"day\"] = np.where(lolla_data[\"date\"].str.contains(\"Thursday\"), \"1\",\n",
    "                            np.where(lolla_data[\"date\"].str.contains(\"Friday\"), \"2\",\n",
    "                                    np.where(lolla_data[\"date\"].str.contains(\"Saturday\"), \"3\", \"4\")))\n",
    "\n",
    "lolla_data[\"date\"] = lolla_data[\"date\"].str.slice(2, -2)\n",
    "lolla_data[\"date\"] = lolla_data[\"date\"].str.replace(\"\\\\\", \"\")\n",
    "lolla_data[\"date\"] = lolla_data[\"date\"].str.replace(\"8/6\", \"August 6th\")\n",
    "lolla_data[\"date\"] = lolla_data[\"date\"].str.replace(\"8/5\", \"August 5th\")\n",
    "lolla_data[\"date\"] = lolla_data[\"date\"].str.replace(\"8/4\", \"August 4th\")\n",
    "lolla_data[\"date\"] = lolla_data[\"date\"].str.replace(\"8/3\", \"August 3th\")\n",
    "lolla_data[\"festival\"] = \"Lollapalooza\"\n",
    "lolla_data.head()"
   ]
  },
  {
   "cell_type": "code",
   "execution_count": 133,
   "metadata": {
    "collapsed": false
   },
   "outputs": [],
   "source": [
    "artist_time = pd.DataFrame([])\n",
    "\n",
    "for i in log_progress(lolla_data.artist, every=1):\n",
    "    artist = i.lower().replace(\" \", \"-\").replace(u'ü', 'u').replace(u'ī', 'i').replace(u'ī', 'i').replace(\"’\", '').replace(\"é\", 'e').replace(\"ä\", 'a')\n",
    "    if artist == \"$uicideboy$\":\n",
    "        artist = i.lower().replace(\" \", \"-\").replace(\"$\", \"s\")\n",
    "    if i in [\"JoJo & The Pinecones\", 'Lard Dog & The Band of Shy']:\n",
    "        artist = i.lower().replace(\" \", \"-\").replace(\"&\", \"and\")\n",
    "    artist2 = i\n",
    "    link = ('https://www.lollapalooza.com/artist/' + artist + \"/\") #create the link\n",
    "    req = Request(link, headers={ 'User-Agent': 'Firefox/24.0' })\n",
    "    webpage = urlopen(req).read()\n",
    "    soup = BeautifulSoup(webpage, \"lxml\") #create the soup\n",
    "    info_time = soup.findAll('p', {\"class\":\"u-m0\"})\n",
    "    info_stage = soup.findAll('p', {\"class\":\"u-mt0\"})\n",
    "    for div in info_time:\n",
    "        text = div.text\n",
    "        time = text.replace(\" \", \"\").replace('\\n', '')[7:]\n",
    "    for div in info_stage:\n",
    "        stage = div.text \n",
    "    artist_time = artist_time.append(pd.DataFrame({'time': time,\n",
    "                                                   'artist' : artist2,\n",
    "                                                   'stage' : stage}, #Create the table\n",
    "                                     index=[0]))\n",
    "    \n",
    "lolla_data = lolla_data.merge(artist_time, on = \"artist\")"
   ]
  },
  {
   "cell_type": "code",
   "execution_count": 134,
   "metadata": {
    "collapsed": false
   },
   "outputs": [
    {
     "data": {
      "text/html": [
       "<div>\n",
       "<table border=\"1\" class=\"dataframe\">\n",
       "  <thead>\n",
       "    <tr style=\"text-align: right;\">\n",
       "      <th></th>\n",
       "      <th>artist</th>\n",
       "      <th>date</th>\n",
       "      <th>day</th>\n",
       "      <th>festival</th>\n",
       "    </tr>\n",
       "  </thead>\n",
       "  <tbody>\n",
       "    <tr>\n",
       "      <th>0</th>\n",
       "      <td>U2</td>\n",
       "      <td>Friday, June 9th</td>\n",
       "      <td>1</td>\n",
       "      <td>Bonnaroo</td>\n",
       "    </tr>\n",
       "    <tr>\n",
       "      <th>1</th>\n",
       "      <td>Red Hot Chili Peppers</td>\n",
       "      <td>Saturday, June 10th</td>\n",
       "      <td>2</td>\n",
       "      <td>Bonnaroo</td>\n",
       "    </tr>\n",
       "    <tr>\n",
       "      <th>2</th>\n",
       "      <td>THE WEEKND</td>\n",
       "      <td>Sunday, June 11th</td>\n",
       "      <td>3</td>\n",
       "      <td>Bonnaroo</td>\n",
       "    </tr>\n",
       "    <tr>\n",
       "      <th>3</th>\n",
       "      <td>Chance The Rapper</td>\n",
       "      <td>Saturday, June 10th</td>\n",
       "      <td>2</td>\n",
       "      <td>Bonnaroo</td>\n",
       "    </tr>\n",
       "    <tr>\n",
       "      <th>4</th>\n",
       "      <td>Major Lazer</td>\n",
       "      <td>Saturday, June 10th</td>\n",
       "      <td>2</td>\n",
       "      <td>Bonnaroo</td>\n",
       "    </tr>\n",
       "  </tbody>\n",
       "</table>\n",
       "</div>"
      ],
      "text/plain": [
       "                  artist                 date day  festival\n",
       "0                     U2     Friday, June 9th   1  Bonnaroo\n",
       "1  Red Hot Chili Peppers  Saturday, June 10th   2  Bonnaroo\n",
       "2             THE WEEKND    Sunday, June 11th   3  Bonnaroo\n",
       "3      Chance The Rapper  Saturday, June 10th   2  Bonnaroo\n",
       "4            Major Lazer  Saturday, June 10th   2  Bonnaroo"
      ]
     },
     "execution_count": 134,
     "metadata": {},
     "output_type": "execute_result"
    }
   ],
   "source": [
    "#Grab the artist info from the  Bonnaroo website\n",
    "with urllib.request.urlopen(\"https://www.bonnaroo.com/lineup/interactive/\") as url:\n",
    "    s = url.read()\n",
    "soup = BeautifulSoup(s, \"lxml\")\n",
    "\n",
    "info = soup.findAll('div', {\"class\":\"c-lineup__artist\"})\n",
    "#Put those names in a list, then a dataframe\n",
    "bonnaroo_data = pd.DataFrame([])\n",
    "for i in info:\n",
    "    artist = i.attrs['data-title']\n",
    "    date = i.attrs[\"data-day-titles\"]\n",
    "    bonnaroo_data = bonnaroo_data.append(pd.DataFrame({'artist': artist, #Create the table\n",
    "                                                         'date'  : date},\n",
    "                                                  index=[0]),\n",
    "                                     ignore_index=True)\n",
    "    \n",
    "bonnaroo_data[\"day\"] = np.where(bonnaroo_data[\"date\"].str.contains(\"Friday\"), \"1\",\n",
    "                                np.where(bonnaroo_data[\"date\"].str.contains(\"Saturday\"), \"2\", \"3\"))\n",
    "bonnaroo_data[\"date\"] = bonnaroo_data[\"date\"].str.slice(2, -2)\n",
    "bonnaroo_data[\"date\"] = bonnaroo_data[\"date\"].str.replace(\"\\\\\", \"\")\n",
    "bonnaroo_data[\"date\"] = bonnaroo_data[\"date\"].str.replace(\"6/9\", \"June 9th\")\n",
    "bonnaroo_data[\"date\"] = bonnaroo_data[\"date\"].str.replace(\"6/10\", \"June 10th\")\n",
    "bonnaroo_data[\"date\"] = bonnaroo_data[\"date\"].str.replace(\"6/11\", \"June 11th\")\n",
    "bonnaroo_data[\"festival\"] = \"Bonnaroo\"\n",
    "bonnaroo_data.head()"
   ]
  },
  {
   "cell_type": "code",
   "execution_count": 139,
   "metadata": {
    "collapsed": false
   },
   "outputs": [
    {
     "ename": "HTTPError",
     "evalue": "HTTP Error 404: Not Found",
     "output_type": "error",
     "traceback": [
      "\u001b[0;31m------------------------------------------------------------------\u001b[0m",
      "\u001b[0;31mHTTPError\u001b[0m                        Traceback (most recent call last)",
      "\u001b[0;32m<ipython-input-139-026d92922a8d>\u001b[0m in \u001b[0;36m<module>\u001b[0;34m()\u001b[0m\n\u001b[1;32m     14\u001b[0m     \u001b[0mlink\u001b[0m \u001b[0;34m=\u001b[0m \u001b[0;34m(\u001b[0m\u001b[0;34m'https://www.bonnaroo.com/artist/'\u001b[0m \u001b[0;34m+\u001b[0m \u001b[0martist\u001b[0m \u001b[0;34m+\u001b[0m \u001b[0;34m\"/\"\u001b[0m\u001b[0;34m)\u001b[0m \u001b[0;31m#create the link\u001b[0m\u001b[0;34m\u001b[0m\u001b[0m\n\u001b[1;32m     15\u001b[0m     \u001b[0mreq\u001b[0m \u001b[0;34m=\u001b[0m \u001b[0mRequest\u001b[0m\u001b[0;34m(\u001b[0m\u001b[0mlink\u001b[0m\u001b[0;34m,\u001b[0m \u001b[0mheaders\u001b[0m\u001b[0;34m=\u001b[0m\u001b[0;34m{\u001b[0m \u001b[0;34m'User-Agent'\u001b[0m\u001b[0;34m:\u001b[0m \u001b[0;34m'Firefox/24.0'\u001b[0m \u001b[0;34m}\u001b[0m\u001b[0;34m)\u001b[0m\u001b[0;34m\u001b[0m\u001b[0m\n\u001b[0;32m---> 16\u001b[0;31m     \u001b[0mwebpage\u001b[0m \u001b[0;34m=\u001b[0m \u001b[0murlopen\u001b[0m\u001b[0;34m(\u001b[0m\u001b[0mreq\u001b[0m\u001b[0;34m)\u001b[0m\u001b[0;34m.\u001b[0m\u001b[0mread\u001b[0m\u001b[0;34m(\u001b[0m\u001b[0;34m)\u001b[0m\u001b[0;34m\u001b[0m\u001b[0m\n\u001b[0m\u001b[1;32m     17\u001b[0m     \u001b[0msoup\u001b[0m \u001b[0;34m=\u001b[0m \u001b[0mBeautifulSoup\u001b[0m\u001b[0;34m(\u001b[0m\u001b[0mwebpage\u001b[0m\u001b[0;34m,\u001b[0m \u001b[0;34m\"lxml\"\u001b[0m\u001b[0;34m)\u001b[0m \u001b[0;31m#create the soup\u001b[0m\u001b[0;34m\u001b[0m\u001b[0m\n\u001b[1;32m     18\u001b[0m     \u001b[0minfo\u001b[0m \u001b[0;34m=\u001b[0m \u001b[0msoup\u001b[0m\u001b[0;34m.\u001b[0m\u001b[0mfindAll\u001b[0m\u001b[0;34m(\u001b[0m\u001b[0;34m'p'\u001b[0m\u001b[0;34m,\u001b[0m \u001b[0;34m{\u001b[0m\u001b[0;34m\"class\"\u001b[0m\u001b[0;34m:\u001b[0m\u001b[0;34m\"u-m0\"\u001b[0m\u001b[0;34m}\u001b[0m\u001b[0;34m)\u001b[0m \u001b[0;31m#pull the album link\u001b[0m\u001b[0;34m\u001b[0m\u001b[0m\n",
      "\u001b[0;32m//anaconda/envs/py3k/lib/python3.6/urllib/request.py\u001b[0m in \u001b[0;36murlopen\u001b[0;34m(url, data, timeout, cafile, capath, cadefault, context)\u001b[0m\n\u001b[1;32m    221\u001b[0m     \u001b[0;32melse\u001b[0m\u001b[0;34m:\u001b[0m\u001b[0;34m\u001b[0m\u001b[0m\n\u001b[1;32m    222\u001b[0m         \u001b[0mopener\u001b[0m \u001b[0;34m=\u001b[0m \u001b[0m_opener\u001b[0m\u001b[0;34m\u001b[0m\u001b[0m\n\u001b[0;32m--> 223\u001b[0;31m     \u001b[0;32mreturn\u001b[0m \u001b[0mopener\u001b[0m\u001b[0;34m.\u001b[0m\u001b[0mopen\u001b[0m\u001b[0;34m(\u001b[0m\u001b[0murl\u001b[0m\u001b[0;34m,\u001b[0m \u001b[0mdata\u001b[0m\u001b[0;34m,\u001b[0m \u001b[0mtimeout\u001b[0m\u001b[0;34m)\u001b[0m\u001b[0;34m\u001b[0m\u001b[0m\n\u001b[0m\u001b[1;32m    224\u001b[0m \u001b[0;34m\u001b[0m\u001b[0m\n\u001b[1;32m    225\u001b[0m \u001b[0;32mdef\u001b[0m \u001b[0minstall_opener\u001b[0m\u001b[0;34m(\u001b[0m\u001b[0mopener\u001b[0m\u001b[0;34m)\u001b[0m\u001b[0;34m:\u001b[0m\u001b[0;34m\u001b[0m\u001b[0m\n",
      "\u001b[0;32m//anaconda/envs/py3k/lib/python3.6/urllib/request.py\u001b[0m in \u001b[0;36mopen\u001b[0;34m(self, fullurl, data, timeout)\u001b[0m\n\u001b[1;32m    530\u001b[0m         \u001b[0;32mfor\u001b[0m \u001b[0mprocessor\u001b[0m \u001b[0;32min\u001b[0m \u001b[0mself\u001b[0m\u001b[0;34m.\u001b[0m\u001b[0mprocess_response\u001b[0m\u001b[0;34m.\u001b[0m\u001b[0mget\u001b[0m\u001b[0;34m(\u001b[0m\u001b[0mprotocol\u001b[0m\u001b[0;34m,\u001b[0m \u001b[0;34m[\u001b[0m\u001b[0;34m]\u001b[0m\u001b[0;34m)\u001b[0m\u001b[0;34m:\u001b[0m\u001b[0;34m\u001b[0m\u001b[0m\n\u001b[1;32m    531\u001b[0m             \u001b[0mmeth\u001b[0m \u001b[0;34m=\u001b[0m \u001b[0mgetattr\u001b[0m\u001b[0;34m(\u001b[0m\u001b[0mprocessor\u001b[0m\u001b[0;34m,\u001b[0m \u001b[0mmeth_name\u001b[0m\u001b[0;34m)\u001b[0m\u001b[0;34m\u001b[0m\u001b[0m\n\u001b[0;32m--> 532\u001b[0;31m             \u001b[0mresponse\u001b[0m \u001b[0;34m=\u001b[0m \u001b[0mmeth\u001b[0m\u001b[0;34m(\u001b[0m\u001b[0mreq\u001b[0m\u001b[0;34m,\u001b[0m \u001b[0mresponse\u001b[0m\u001b[0;34m)\u001b[0m\u001b[0;34m\u001b[0m\u001b[0m\n\u001b[0m\u001b[1;32m    533\u001b[0m \u001b[0;34m\u001b[0m\u001b[0m\n\u001b[1;32m    534\u001b[0m         \u001b[0;32mreturn\u001b[0m \u001b[0mresponse\u001b[0m\u001b[0;34m\u001b[0m\u001b[0m\n",
      "\u001b[0;32m//anaconda/envs/py3k/lib/python3.6/urllib/request.py\u001b[0m in \u001b[0;36mhttp_response\u001b[0;34m(self, request, response)\u001b[0m\n\u001b[1;32m    640\u001b[0m         \u001b[0;32mif\u001b[0m \u001b[0;32mnot\u001b[0m \u001b[0;34m(\u001b[0m\u001b[0;36m200\u001b[0m \u001b[0;34m<=\u001b[0m \u001b[0mcode\u001b[0m \u001b[0;34m<\u001b[0m \u001b[0;36m300\u001b[0m\u001b[0;34m)\u001b[0m\u001b[0;34m:\u001b[0m\u001b[0;34m\u001b[0m\u001b[0m\n\u001b[1;32m    641\u001b[0m             response = self.parent.error(\n\u001b[0;32m--> 642\u001b[0;31m                 'http', request, response, code, msg, hdrs)\n\u001b[0m\u001b[1;32m    643\u001b[0m \u001b[0;34m\u001b[0m\u001b[0m\n\u001b[1;32m    644\u001b[0m         \u001b[0;32mreturn\u001b[0m \u001b[0mresponse\u001b[0m\u001b[0;34m\u001b[0m\u001b[0m\n",
      "\u001b[0;32m//anaconda/envs/py3k/lib/python3.6/urllib/request.py\u001b[0m in \u001b[0;36merror\u001b[0;34m(self, proto, *args)\u001b[0m\n\u001b[1;32m    568\u001b[0m         \u001b[0;32mif\u001b[0m \u001b[0mhttp_err\u001b[0m\u001b[0;34m:\u001b[0m\u001b[0;34m\u001b[0m\u001b[0m\n\u001b[1;32m    569\u001b[0m             \u001b[0margs\u001b[0m \u001b[0;34m=\u001b[0m \u001b[0;34m(\u001b[0m\u001b[0mdict\u001b[0m\u001b[0;34m,\u001b[0m \u001b[0;34m'default'\u001b[0m\u001b[0;34m,\u001b[0m \u001b[0;34m'http_error_default'\u001b[0m\u001b[0;34m)\u001b[0m \u001b[0;34m+\u001b[0m \u001b[0morig_args\u001b[0m\u001b[0;34m\u001b[0m\u001b[0m\n\u001b[0;32m--> 570\u001b[0;31m             \u001b[0;32mreturn\u001b[0m \u001b[0mself\u001b[0m\u001b[0;34m.\u001b[0m\u001b[0m_call_chain\u001b[0m\u001b[0;34m(\u001b[0m\u001b[0;34m*\u001b[0m\u001b[0margs\u001b[0m\u001b[0;34m)\u001b[0m\u001b[0;34m\u001b[0m\u001b[0m\n\u001b[0m\u001b[1;32m    571\u001b[0m \u001b[0;34m\u001b[0m\u001b[0m\n\u001b[1;32m    572\u001b[0m \u001b[0;31m# XXX probably also want an abstract factory that knows when it makes\u001b[0m\u001b[0;34m\u001b[0m\u001b[0;34m\u001b[0m\u001b[0m\n",
      "\u001b[0;32m//anaconda/envs/py3k/lib/python3.6/urllib/request.py\u001b[0m in \u001b[0;36m_call_chain\u001b[0;34m(self, chain, kind, meth_name, *args)\u001b[0m\n\u001b[1;32m    502\u001b[0m         \u001b[0;32mfor\u001b[0m \u001b[0mhandler\u001b[0m \u001b[0;32min\u001b[0m \u001b[0mhandlers\u001b[0m\u001b[0;34m:\u001b[0m\u001b[0;34m\u001b[0m\u001b[0m\n\u001b[1;32m    503\u001b[0m             \u001b[0mfunc\u001b[0m \u001b[0;34m=\u001b[0m \u001b[0mgetattr\u001b[0m\u001b[0;34m(\u001b[0m\u001b[0mhandler\u001b[0m\u001b[0;34m,\u001b[0m \u001b[0mmeth_name\u001b[0m\u001b[0;34m)\u001b[0m\u001b[0;34m\u001b[0m\u001b[0m\n\u001b[0;32m--> 504\u001b[0;31m             \u001b[0mresult\u001b[0m \u001b[0;34m=\u001b[0m \u001b[0mfunc\u001b[0m\u001b[0;34m(\u001b[0m\u001b[0;34m*\u001b[0m\u001b[0margs\u001b[0m\u001b[0;34m)\u001b[0m\u001b[0;34m\u001b[0m\u001b[0m\n\u001b[0m\u001b[1;32m    505\u001b[0m             \u001b[0;32mif\u001b[0m \u001b[0mresult\u001b[0m \u001b[0;32mis\u001b[0m \u001b[0;32mnot\u001b[0m \u001b[0;32mNone\u001b[0m\u001b[0;34m:\u001b[0m\u001b[0;34m\u001b[0m\u001b[0m\n\u001b[1;32m    506\u001b[0m                 \u001b[0;32mreturn\u001b[0m \u001b[0mresult\u001b[0m\u001b[0;34m\u001b[0m\u001b[0m\n",
      "\u001b[0;32m//anaconda/envs/py3k/lib/python3.6/urllib/request.py\u001b[0m in \u001b[0;36mhttp_error_default\u001b[0;34m(self, req, fp, code, msg, hdrs)\u001b[0m\n\u001b[1;32m    648\u001b[0m \u001b[0;32mclass\u001b[0m \u001b[0mHTTPDefaultErrorHandler\u001b[0m\u001b[0;34m(\u001b[0m\u001b[0mBaseHandler\u001b[0m\u001b[0;34m)\u001b[0m\u001b[0;34m:\u001b[0m\u001b[0;34m\u001b[0m\u001b[0m\n\u001b[1;32m    649\u001b[0m     \u001b[0;32mdef\u001b[0m \u001b[0mhttp_error_default\u001b[0m\u001b[0;34m(\u001b[0m\u001b[0mself\u001b[0m\u001b[0;34m,\u001b[0m \u001b[0mreq\u001b[0m\u001b[0;34m,\u001b[0m \u001b[0mfp\u001b[0m\u001b[0;34m,\u001b[0m \u001b[0mcode\u001b[0m\u001b[0;34m,\u001b[0m \u001b[0mmsg\u001b[0m\u001b[0;34m,\u001b[0m \u001b[0mhdrs\u001b[0m\u001b[0;34m)\u001b[0m\u001b[0;34m:\u001b[0m\u001b[0;34m\u001b[0m\u001b[0m\n\u001b[0;32m--> 650\u001b[0;31m         \u001b[0;32mraise\u001b[0m \u001b[0mHTTPError\u001b[0m\u001b[0;34m(\u001b[0m\u001b[0mreq\u001b[0m\u001b[0;34m.\u001b[0m\u001b[0mfull_url\u001b[0m\u001b[0;34m,\u001b[0m \u001b[0mcode\u001b[0m\u001b[0;34m,\u001b[0m \u001b[0mmsg\u001b[0m\u001b[0;34m,\u001b[0m \u001b[0mhdrs\u001b[0m\u001b[0;34m,\u001b[0m \u001b[0mfp\u001b[0m\u001b[0;34m)\u001b[0m\u001b[0;34m\u001b[0m\u001b[0m\n\u001b[0m\u001b[1;32m    651\u001b[0m \u001b[0;34m\u001b[0m\u001b[0m\n\u001b[1;32m    652\u001b[0m \u001b[0;32mclass\u001b[0m \u001b[0mHTTPRedirectHandler\u001b[0m\u001b[0;34m(\u001b[0m\u001b[0mBaseHandler\u001b[0m\u001b[0;34m)\u001b[0m\u001b[0;34m:\u001b[0m\u001b[0;34m\u001b[0m\u001b[0m\n",
      "\u001b[0;31mHTTPError\u001b[0m: HTTP Error 404: Not Found"
     ]
    }
   ],
   "source": [
    "artist_time = pd.DataFrame([])\n",
    "\n",
    "for i in log_progress(bonnaroo_data.artist, every=1):\n",
    "    artist = i.lower().replace(\" \", \"-\").replace(u'ü', 'u').replace(u'ī', 'i').replace(u'ī', 'i').replace(\"’\", '').replace(\"é\", 'e').replace(\"ä\", 'a')\n",
    "    if artist == \"$uicideboy$\":\n",
    "        artist = i.lower().replace(\" \", \"-\").replace(\"$\", \"s\")\n",
    "    if i == \"JoJo & The Pinecones\":\n",
    "        artist = i.lower().replace(\" \", \"-\").replace(\"&\", \"and\")\n",
    "    if i == 'Shpongle (Simon Posford Presents The Shpongletron)':\n",
    "        artist = \"shpongle\"\n",
    "    if i == \"Bluegrass Situation Roots Superjam Hosted By Ed Helms & Friends\":\n",
    "        artist = \"bluegrass-situation-superjam-hosted-by-ed-helms-friends\"\n",
    "    artist2 = i\n",
    "    link = ('https://www.bonnaroo.com/artist/' + artist + \"/\") #create the link\n",
    "    req = Request(link, headers={ 'User-Agent': 'Firefox/24.0' })\n",
    "    webpage = urlopen(req).read()\n",
    "    soup = BeautifulSoup(webpage, \"lxml\") #create the soup\n",
    "    info_time = soup.findAll('p', {\"class\":\"u-m0\"})\n",
    "    info_stage = soup.findAll('p', {\"class\":\"u-mt0\"})\n",
    "    for div in info_time:\n",
    "        text = div.text\n",
    "        time = text.replace(\" \", \"\").replace('\\n', '')[7:]\n",
    "    for div in info_stage:\n",
    "        stage = div.text \n",
    "    artist_time = artist_time.append(pd.DataFrame({'time': time,\n",
    "                                                   'artist' : artist2,\n",
    "                                                   'stage' : stage}, #Create the table\n",
    "                                     index=[0]))\n",
    "        \n",
    "bonnaroo_data = bonnaroo_data.merge(artist_time, on = \"artist\")"
   ]
  },
  {
   "cell_type": "code",
   "execution_count": 138,
   "metadata": {
    "collapsed": false
   },
   "outputs": [
    {
     "data": {
      "text/plain": [
       "'Bluegrass Situation Roots Superjam Hosted By Ed Helms & Friends'"
      ]
     },
     "execution_count": 138,
     "metadata": {},
     "output_type": "execute_result"
    }
   ],
   "source": [
    "artist2"
   ]
  },
  {
   "cell_type": "markdown",
   "metadata": {},
   "source": [
    "#### Add Names to a SQLite Database"
   ]
  },
  {
   "cell_type": "code",
   "execution_count": null,
   "metadata": {
    "collapsed": false
   },
   "outputs": [],
   "source": [
    "#Create Connection\n",
    "con = sqlite3.connect(\"pitchfork-data.db\")\n",
    "govs_ball_data.to_sql(\"govs_ball_data\", con,if_exists='replace')\n",
    "lolla_data.to_sql(\"lolla_data\", con,if_exists='replace')\n",
    "bonnaroo_data.to_sql(\"lolla_data\", con,if_exists='replace')\n",
    "all_festivals = govs_ball_data.append(lolla_data).append(bonnaroo_data)\n",
    "all_festivals.to_sql(\"all_festivals\", con,if_exists='replace')\n",
    "con.close() #close db connection"
   ]
  },
  {
   "cell_type": "markdown",
   "metadata": {
    "collapsed": true
   },
   "source": [
    "## Pitchfork Crawler"
   ]
  },
  {
   "cell_type": "markdown",
   "metadata": {
    "collapsed": true
   },
   "source": [
    "The crawling happens in two distinct stages. In Stage 1, the code loops throught the reviews page on pitchfork.com to find links to all the reviews. Stage 2 goes to each link and pull various bits of information. There's lots more to pull, but this is a solid starting place. "
   ]
  },
  {
   "cell_type": "markdown",
   "metadata": {},
   "source": [
    "### Stage 1: "
   ]
  },
  {
   "cell_type": "code",
   "execution_count": null,
   "metadata": {
    "collapsed": false,
    "scrolled": true
   },
   "outputs": [],
   "source": [
    "#Stage 1\n",
    "con = sqlite3.connect(\"pitchfork-data.db\") #connect to db\n",
    "\n",
    "for i in log_progress(range(0,13), every=1): \n",
    "    #Use the range function to decide how many pages you want to go through\n",
    "    #In this case, I'm going through the latest 100 reviews (12 per page)\n",
    "    page_no = str(i)\n",
    "    link = ('http://pitchfork.com/reviews/albums/?page=' + page_no) #create the link\n",
    "    t0 = time.time()\n",
    "    req = Request(link, headers={ 'User-Agent': 'Firefox/24.0' })\n",
    "    webpage = urlopen(req).read()\n",
    "    response_delay = time.time() - t0\n",
    "    time.sleep(10*response_delay)  # wait 10x longer than it took them to respond\n",
    "    soup = BeautifulSoup(webpage, \"lxml\") #create the soup\n",
    "    info = soup.findAll('a', {\"class\":\"album-link\"}) #pull the album link\n",
    "    for j in info:\n",
    "            link = pd.DataFrame({'link': j.attrs['href']}, #Create the table\n",
    "                         index=[0]).to_sql(\"link_table\",\n",
    "                                           con,\n",
    "                                           if_exists = \"append\")\n",
    "    clear_output() #clear ouput before rewriting progress\n",
    "    print (i)\n",
    "\n",
    "con.close() #close db connection"
   ]
  },
  {
   "cell_type": "markdown",
   "metadata": {},
   "source": [
    "### Stage 2:"
   ]
  },
  {
   "cell_type": "code",
   "execution_count": null,
   "metadata": {
    "collapsed": false
   },
   "outputs": [],
   "source": [
    "BASE_URL = 'http://www.pitchfork.com'\n",
    "con = sqlite3.connect(\"pitchfork-data.db\")\n",
    "links_table = pd.read_sql_query(\"SELECT DISTINCT * from link_table\", con)\n",
    "links = links_table[\"link\"]\n",
    "iterator = 0\n",
    "\n",
    "class Timeout(Exception):  # handles timeout errors (e.g., server request is taking too long)\n",
    "    pass\n",
    "\n",
    "for i in log_progress(links[-156:], every=1):\n",
    "    link = BASE_URL + i\n",
    "    t0 = time.time()\n",
    "    req = Request(link, headers={ 'User-Agent': 'Firefox/24.0' })\n",
    "    webpage = urlopen(req).read()\n",
    "    response_delay = time.time() - t0\n",
    "    time.sleep(4*response_delay)  # wait Nx longer than it took them to respond\n",
    "    soup = BeautifulSoup(webpage, \"lxml\") #same as above\n",
    "    artist_info = soup.findAll('ul', {\"class\":\"artist-links artist-list\"}) #Artist Name\n",
    "    album_info = soup.findAll('h1', {\"class\":\"review-title\"}) #Album Name\n",
    "    score_info = soup.findAll('div', {\"class\":\"score-circle\"}) #Score\n",
    "    pub_info = soup.findAll('span', {\"class\":\"pub-date\"}) # Publication Date\n",
    "    genre_info = soup.findAll('ul', {\"class\":\"genre-list before\"}) #Genre\n",
    "    for j in artist_info:\n",
    "        artist = j.text\n",
    "    for k in album_info:\n",
    "        album = k.text\n",
    "    for l in score_info:\n",
    "        score = l.text\n",
    "    for m in pub_info:\n",
    "        pub_date = m.text\n",
    "    for n in genre_info:\n",
    "        genre = n.text\n",
    "    clear_output()\n",
    "    print (artist, \", \", album, response_delay, iterator)\n",
    "    pd.DataFrame({'artist': artist, #Create the table\n",
    "                  'album'  : album,\n",
    "                  'score' : score,\n",
    "                  'pub_date' : pub_date,\n",
    "                  'genre' : genre,\n",
    "                  'link' : link},\n",
    "                 index=[0]).to_sql(\"album_table\",\n",
    "                                   con,\n",
    "                                   if_exists = \"append\")\n",
    "    iterator= iterator +1\n",
    "\n",
    "con.close() "
   ]
  },
  {
   "cell_type": "markdown",
   "metadata": {
    "collapsed": true
   },
   "source": [
    "# Data Management"
   ]
  },
  {
   "cell_type": "code",
   "execution_count": 53,
   "metadata": {
    "collapsed": false
   },
   "outputs": [],
   "source": [
    "con = sqlite3.connect(\"pitchfork-data.db\")\n",
    "#Pull the table we just wrote back it\n",
    "album_table = pd.read_sql_query(\"SELECT * from album_table\", con)\n",
    "#Drop any duplicates that may have happened\n",
    "album_table = album_table.drop_duplicates()\n",
    "#Delete the index\n",
    "del album_table[\"index\"]\n",
    "#reupload as album_table_clean\n",
    "album_table.to_sql(\"album_table_clean\", con, if_exists = \"replace\")"
   ]
  },
  {
   "cell_type": "markdown",
   "metadata": {},
   "source": [
    "## Spotify API"
   ]
  },
  {
   "cell_type": "code",
   "execution_count": 40,
   "metadata": {
    "collapsed": false
   },
   "outputs": [],
   "source": [
    "import spotipy\n",
    "import sys\n",
    "import json\n",
    "#Feed the Gov's Ball Artists into Spotify\n",
    "spotify = spotipy.Spotify()#Create spotify object from spotipy \n",
    "spotify_data = pd.read_sql_query(\"SELECT DISTINCT artist from album_table_clean\", con)"
   ]
  },
  {
   "cell_type": "code",
   "execution_count": 78,
   "metadata": {
    "collapsed": false
   },
   "outputs": [],
   "source": [
    "count = 0\n",
    "for name in log_progress(artist_list[\"artist\"][7342:], every = 1):\n",
    "    try:\n",
    "        search = spotify.search(q='artist:' + name, type='artist') #Search and grab the first result\n",
    "        spot_name = pd.read_json(json.dumps(search[\"artists\"]))[\"items\"][0][\"name\"] #Name for reference\n",
    "        popularity = pd.read_json(json.dumps(search[\"artists\"]))[\"items\"][0][\"popularity\"] #Popularity Metric\n",
    "        genre = pd.read_json(json.dumps(search[\"artists\"]))[\"items\"][0][\"genres\"] #Genre list\n",
    "        followers = pd.read_json(json.dumps(search[\"artists\"]))[\"items\"][0][\"followers\"][\"total\"] #Social Followers\n",
    "        if len(genre) > 0:\n",
    "            genre = \"/\".join(genre)\n",
    "        else:\n",
    "            genre = \"Unknown\"\n",
    "        #Add that dat to the gov's ball table\n",
    "        spotify_data.loc[spotify_data['artist'] == name, 'followers'] = followers\n",
    "        spotify_data.loc[spotify_data['artist'] == name, 'genre'] = genre\n",
    "        spotify_data.loc[spotify_data['artist'] == name, 'popularity'] = popularity\n",
    "        count = count+1\n",
    "    except Exception:\n",
    "        pass"
   ]
  },
  {
   "cell_type": "code",
   "execution_count": 110,
   "metadata": {
    "collapsed": false
   },
   "outputs": [
    {
     "data": {
      "text/html": [
       "<div>\n",
       "<table border=\"1\" class=\"dataframe\">\n",
       "  <thead>\n",
       "    <tr style=\"text-align: right;\">\n",
       "      <th></th>\n",
       "      <th>artist</th>\n",
       "      <th>followers</th>\n",
       "      <th>genre</th>\n",
       "      <th>popularity</th>\n",
       "    </tr>\n",
       "  </thead>\n",
       "  <tbody>\n",
       "    <tr>\n",
       "      <th>0</th>\n",
       "      <td>GRANDADDY</td>\n",
       "      <td>41891.0</td>\n",
       "      <td>alternative rock/anti-folk/britpop/chamber pop...</td>\n",
       "      <td>53.0</td>\n",
       "    </tr>\n",
       "    <tr>\n",
       "      <th>1</th>\n",
       "      <td>IMMOLATION</td>\n",
       "      <td>16597.0</td>\n",
       "      <td>avantgarde metal/black metal/black thrash/brut...</td>\n",
       "      <td>37.0</td>\n",
       "    </tr>\n",
       "    <tr>\n",
       "      <th>2</th>\n",
       "      <td>ELLIOTT SMITH</td>\n",
       "      <td>268151.0</td>\n",
       "      <td>alternative rock/anti-folk/chamber pop/folk-po...</td>\n",
       "      <td>62.0</td>\n",
       "    </tr>\n",
       "    <tr>\n",
       "      <th>3</th>\n",
       "      <td>WHY?</td>\n",
       "      <td>41171.0</td>\n",
       "      <td>abstract hip hop/anti-folk/bay area indie/cham...</td>\n",
       "      <td>49.0</td>\n",
       "    </tr>\n",
       "    <tr>\n",
       "      <th>4</th>\n",
       "      <td>ERASMO CARLOS</td>\n",
       "      <td>23114.0</td>\n",
       "      <td>bossa nova/brazilian indie/brega/forro/mpb/roc...</td>\n",
       "      <td>45.0</td>\n",
       "    </tr>\n",
       "  </tbody>\n",
       "</table>\n",
       "</div>"
      ],
      "text/plain": [
       "          artist  followers  \\\n",
       "0      GRANDADDY    41891.0   \n",
       "1     IMMOLATION    16597.0   \n",
       "2  ELLIOTT SMITH   268151.0   \n",
       "3           WHY?    41171.0   \n",
       "4  ERASMO CARLOS    23114.0   \n",
       "\n",
       "                                               genre  popularity  \n",
       "0  alternative rock/anti-folk/britpop/chamber pop...        53.0  \n",
       "1  avantgarde metal/black metal/black thrash/brut...        37.0  \n",
       "2  alternative rock/anti-folk/chamber pop/folk-po...        62.0  \n",
       "3  abstract hip hop/anti-folk/bay area indie/cham...        49.0  \n",
       "4  bossa nova/brazilian indie/brega/forro/mpb/roc...        45.0  "
      ]
     },
     "execution_count": 110,
     "metadata": {},
     "output_type": "execute_result"
    }
   ],
   "source": [
    "spotify_data = spotify_data[~spotify_data.followers.isnull()]\n",
    "spotify_data[\"artist\"] = spotify_data[\"artist\"].str.upper()\n",
    "spotify_data.head()"
   ]
  },
  {
   "cell_type": "code",
   "execution_count": 111,
   "metadata": {
    "collapsed": true
   },
   "outputs": [],
   "source": [
    "#reupload as artist_spotify_data\n",
    "con = sqlite3.connect(\"pitchfork-data.db\")\n",
    "spotify_data.to_sql(\"artist_spotify_data\", con, if_exists = \"replace\")"
   ]
  },
  {
   "cell_type": "markdown",
   "metadata": {},
   "source": [
    "#### Cleaning Some Data"
   ]
  },
  {
   "cell_type": "code",
   "execution_count": 168,
   "metadata": {
    "collapsed": false
   },
   "outputs": [],
   "source": [
    "con = sqlite3.connect(\"pitchfork-data.db\")\n",
    "album_table = pd.read_sql_query(\"SELECT * from album_table_clean\", con)\n",
    "album_table[\"artist\"] = album_table[\"artist\"].str.upper()"
   ]
  },
  {
   "cell_type": "code",
   "execution_count": 169,
   "metadata": {
    "collapsed": false
   },
   "outputs": [],
   "source": [
    "artists = album_table[\"artist\"].drop_duplicates()"
   ]
  },
  {
   "cell_type": "code",
   "execution_count": 170,
   "metadata": {
    "collapsed": false
   },
   "outputs": [
    {
     "data": {
      "text/html": [
       "<div>\n",
       "<table border=\"1\" class=\"dataframe\">\n",
       "  <thead>\n",
       "    <tr style=\"text-align: right;\">\n",
       "      <th></th>\n",
       "      <th>artist</th>\n",
       "      <th>day</th>\n",
       "      <th>date</th>\n",
       "      <th>festival</th>\n",
       "    </tr>\n",
       "  </thead>\n",
       "  <tbody>\n",
       "    <tr>\n",
       "      <th>0</th>\n",
       "      <td>TOOL</td>\n",
       "      <td>3</td>\n",
       "      <td>Sunday, June 4th</td>\n",
       "      <td>Governor's Ball</td>\n",
       "    </tr>\n",
       "    <tr>\n",
       "      <th>1</th>\n",
       "      <td>CHANCE THE RAPPER</td>\n",
       "      <td>1</td>\n",
       "      <td>Friday, June 2nd</td>\n",
       "      <td>Governor's Ball</td>\n",
       "    </tr>\n",
       "    <tr>\n",
       "      <th>2</th>\n",
       "      <td>PHOENIX</td>\n",
       "      <td>2</td>\n",
       "      <td>Saturday, June 3rd</td>\n",
       "      <td>Governor's Ball</td>\n",
       "    </tr>\n",
       "    <tr>\n",
       "      <th>3</th>\n",
       "      <td>CHILDISH GAMBINO</td>\n",
       "      <td>2</td>\n",
       "      <td>Saturday, June 3rd</td>\n",
       "      <td>Governor's Ball</td>\n",
       "    </tr>\n",
       "    <tr>\n",
       "      <th>4</th>\n",
       "      <td>LORDE</td>\n",
       "      <td>1</td>\n",
       "      <td>Friday, June 2nd</td>\n",
       "      <td>Governor's Ball</td>\n",
       "    </tr>\n",
       "  </tbody>\n",
       "</table>\n",
       "</div>"
      ],
      "text/plain": [
       "              artist day                date         festival\n",
       "0               TOOL   3    Sunday, June 4th  Governor's Ball\n",
       "1  CHANCE THE RAPPER   1    Friday, June 2nd  Governor's Ball\n",
       "2            PHOENIX   2  Saturday, June 3rd  Governor's Ball\n",
       "3   CHILDISH GAMBINO   2  Saturday, June 3rd  Governor's Ball\n",
       "4              LORDE   1    Friday, June 2nd  Governor's Ball"
      ]
     },
     "execution_count": 170,
     "metadata": {},
     "output_type": "execute_result"
    }
   ],
   "source": [
    "fest_data = pd.read_sql_query(\"\"\"SELECT UPPER(artist) AS \"artist\", day, date, festival from all_festivals\"\"\", con)\n",
    "fest_data.head()\n"
   ]
  },
  {
   "cell_type": "code",
   "execution_count": 171,
   "metadata": {
    "collapsed": false
   },
   "outputs": [],
   "source": [
    "fest_data[\"artist\"] = np.where(fest_data[\"artist\"] == \"CHARLES BRADLEY & HIS EXTRAORDINAIRES\",\n",
    "                            \"CHARLES BRADLEY\",\n",
    "                            fest_data[\"artist\"])\n",
    "fest_data[\"artist\"] = np.where(fest_data[\"artist\"] == \"MARK RONSON VS KEVIN PARKER\",\n",
    "                            \"MARK RONSON\",\n",
    "                            fest_data[\"artist\"])\n",
    "#x number of artists missing"
   ]
  },
  {
   "cell_type": "code",
   "execution_count": 172,
   "metadata": {
    "collapsed": false
   },
   "outputs": [
    {
     "name": "stdout",
     "output_type": "stream",
     "text": [
      "271 artists without pitchfork data\n"
     ]
    }
   ],
   "source": [
    "print (fest_data[~(fest_data.artist.isin(artists))].shape[0], \"artists without pitchfork data\")"
   ]
  },
  {
   "cell_type": "code",
   "execution_count": 174,
   "metadata": {
    "collapsed": false
   },
   "outputs": [],
   "source": [
    "#reupload as govs_ball_enriched\n",
    "#del fest_data[\"index\"]\n",
    "con = sqlite3.connect(\"pitchfork-data.db\")\n",
    "fest_data.to_sql(\"fest_data\", con, if_exists = \"replace\")"
   ]
  },
  {
   "cell_type": "markdown",
   "metadata": {},
   "source": [
    "### Merge in Pitchfork Reviews With Fest Data"
   ]
  },
  {
   "cell_type": "code",
   "execution_count": 175,
   "metadata": {
    "collapsed": false
   },
   "outputs": [],
   "source": [
    "query_pitchfork = \"\"\"\n",
    "        SELECT DISTINCT f.artist, f.festival,\n",
    "               p.album, p.score, p.genre \n",
    "        FROM fest_data f \n",
    "        INNER JOIN album_table_clean p \n",
    "        ON (upper(p.artist) = f.artist)\n",
    "        \"\"\""
   ]
  },
  {
   "cell_type": "code",
   "execution_count": 176,
   "metadata": {
    "collapsed": false
   },
   "outputs": [
    {
     "data": {
      "text/html": [
       "<div>\n",
       "<table border=\"1\" class=\"dataframe\">\n",
       "  <thead>\n",
       "    <tr style=\"text-align: right;\">\n",
       "      <th></th>\n",
       "      <th>artist</th>\n",
       "      <th>festival</th>\n",
       "      <th>album</th>\n",
       "      <th>score</th>\n",
       "      <th>genre</th>\n",
       "    </tr>\n",
       "  </thead>\n",
       "  <tbody>\n",
       "    <tr>\n",
       "      <th>0</th>\n",
       "      <td>STORMZY</td>\n",
       "      <td>Governor's Ball</td>\n",
       "      <td>Gang Signs &amp; Prayer</td>\n",
       "      <td>7.6</td>\n",
       "      <td>Rap</td>\n",
       "    </tr>\n",
       "  </tbody>\n",
       "</table>\n",
       "</div>"
      ],
      "text/plain": [
       "    artist         festival                album  score genre\n",
       "0  STORMZY  Governor's Ball  Gang Signs & Prayer    7.6   Rap"
      ]
     },
     "execution_count": 176,
     "metadata": {},
     "output_type": "execute_result"
    }
   ],
   "source": [
    "con = sqlite3.connect(\"pitchfork-data.db\")\n",
    "pitch_gov = pd.read_sql_query(query_pitchfork, con)\n",
    "pitch_gov[\"score\"] = pitch_gov[\"score\"].astype(float)\n",
    "pitch_gov.head(1)"
   ]
  },
  {
   "cell_type": "code",
   "execution_count": 177,
   "metadata": {
    "collapsed": false
   },
   "outputs": [
    {
     "data": {
      "text/html": [
       "<div>\n",
       "<table border=\"1\" class=\"dataframe\">\n",
       "  <thead>\n",
       "    <tr style=\"text-align: right;\">\n",
       "      <th></th>\n",
       "      <th>artist</th>\n",
       "      <th>genre</th>\n",
       "      <th>festival</th>\n",
       "      <th>mean</th>\n",
       "      <th>max</th>\n",
       "      <th>min</th>\n",
       "      <th>count</th>\n",
       "    </tr>\n",
       "  </thead>\n",
       "  <tbody>\n",
       "    <tr>\n",
       "      <th>0</th>\n",
       "      <td>A$AP FERG</td>\n",
       "      <td>Rap</td>\n",
       "      <td>Governor's Ball</td>\n",
       "      <td>7.066667</td>\n",
       "      <td>7.5</td>\n",
       "      <td>6.4</td>\n",
       "      <td>3</td>\n",
       "    </tr>\n",
       "  </tbody>\n",
       "</table>\n",
       "</div>"
      ],
      "text/plain": [
       "      artist genre         festival      mean  max  min  count\n",
       "0  A$AP FERG   Rap  Governor's Ball  7.066667  7.5  6.4      3"
      ]
     },
     "execution_count": 177,
     "metadata": {},
     "output_type": "execute_result"
    }
   ],
   "source": [
    "score_metrics = pitch_gov.groupby([\"artist\",\n",
    "                                   \"genre\",\n",
    "                                   \"festival\"])[\"score\"].agg(['mean',\n",
    "                                                              \"max\",\n",
    "                                                              \"min\",\n",
    "                                                              'count' ]).reset_index()\n",
    "score_metrics.head(1)"
   ]
  },
  {
   "cell_type": "code",
   "execution_count": 178,
   "metadata": {
    "collapsed": false
   },
   "outputs": [
    {
     "data": {
      "text/plain": [
       "(135, 7)"
      ]
     },
     "execution_count": 178,
     "metadata": {},
     "output_type": "execute_result"
    }
   ],
   "source": [
    "score_metrics.columns = [[\"artist\",\n",
    "                          \"pf_genre\",\n",
    "                          \"festival\",\n",
    "                          \"pf_mean\", \n",
    "                          \"pf_max\", \n",
    "                          \"pf_min\",\n",
    "                          \"pf_count\"]]\n",
    "\n",
    "score_metrics = round(score_metrics,1)\n",
    "score_metrics.shape"
   ]
  },
  {
   "cell_type": "code",
   "execution_count": 179,
   "metadata": {
    "collapsed": false
   },
   "outputs": [],
   "source": [
    "con = sqlite3.connect(\"pitchfork-data.db\")\n",
    "fd = pd.read_sql_query(\"SELECT * FROM artist_spotify_data\", con)\n",
    "fde = score_metrics.merge(fd, on = \"artist\", how = \"left\")\n",
    "fde[\"genre\"] = np.where(fde[\"pf_genre\"].isnull(), fde[\"genre\"], fde[\"pf_genre\"])\n",
    "del fde[\"pf_genre\"]\n",
    "#Clean up Genre Row\n",
    "fde[\"genre\"] = np.where(fde[\"genre\"].isin([\"Rap\", \"Pop/R&B\", \"Rock\", \"Electronic\", \"Metal\"]),\n",
    "                  fde[\"genre\"],\n",
    "                  np.where(fde[\"genre\"].str.contains(\"hip hop\"),\n",
    "                     \"Rap\",\n",
    "                     np.where(fde[\"genre\"].str.contains(\"RockElectronic\"),\n",
    "                        \"Rock\",\n",
    "                        np.where(fde[\"genre\"].str.contains(\"rock\"),\n",
    "                           \"Rock\",\n",
    "                           np.where(fde[\"genre\"].str.contains(\"pop\"),\n",
    "                              \"Pop/R&B\",\n",
    "                              np.where(fde[\"genre\"].str.contains(\"electronic\"),\n",
    "                                 \"Electronic\",\n",
    "                                 np.where(fde[\"genre\"].str.contains(\"electronic\"),\n",
    "                                    \"Electronic\",\n",
    "                                          np.where(fde[\"genre\"].str.contains(\"comedy\"),\n",
    "                                                \"Comedy\",\n",
    "                                    \"Rock\"))))))))\n",
    "\n",
    "fde[\"genre\"] = np.where(fde[\"genre\"].isin([\"Rock\"]),\n",
    "                        \"Rock/Indie\",\n",
    "                        fde[\"genre\"])\n",
    "con.close()"
   ]
  },
  {
   "cell_type": "code",
   "execution_count": 180,
   "metadata": {
    "collapsed": false
   },
   "outputs": [],
   "source": [
    "fde[\"popularity_rank_fest\"] = fde.groupby([\"festival\"])[\"popularity\"].rank(ascending = False)\n",
    "fde[\"fan_base_rank_fest\"] = fde.groupby([\"festival\"])[\"followers\"].rank(ascending = False)\n",
    "fde[\"critical_metric\"] = fde[\"pf_mean\"]+fde[\"pf_count\"] #Bump up artisits who have been reviewed several times\n",
    "fde[\"critical_rank_fest\"] = fde.groupby([\"festival\"])[\"critical_metric\"].rank(ascending = False, )\n",
    "fde[\"critical_rank_fest\"] = np.where(fde[\"critical_rank_fest\"].isnull(),\n",
    "                                    fde[\"critical_rank_fest\"].mean(),\n",
    "                                    fde[\"critical_rank_fest\"])"
   ]
  },
  {
   "cell_type": "code",
   "execution_count": 181,
   "metadata": {
    "collapsed": false
   },
   "outputs": [
    {
     "data": {
      "text/html": [
       "<div>\n",
       "<table border=\"1\" class=\"dataframe\">\n",
       "  <thead>\n",
       "    <tr style=\"text-align: right;\">\n",
       "      <th></th>\n",
       "      <th>artist</th>\n",
       "      <th>festival</th>\n",
       "      <th>pf_mean</th>\n",
       "      <th>pf_max</th>\n",
       "      <th>pf_min</th>\n",
       "      <th>pf_count</th>\n",
       "      <th>index</th>\n",
       "      <th>followers</th>\n",
       "      <th>genre</th>\n",
       "      <th>popularity</th>\n",
       "      <th>popularity_rank_fest</th>\n",
       "      <th>fan_base_rank_fest</th>\n",
       "      <th>critical_metric</th>\n",
       "      <th>critical_rank_fest</th>\n",
       "      <th>total_ranking_score_fest</th>\n",
       "      <th>total_rank_fest</th>\n",
       "    </tr>\n",
       "  </thead>\n",
       "  <tbody>\n",
       "    <tr>\n",
       "      <th>132</th>\n",
       "      <td>WIZ KHALIFA</td>\n",
       "      <td>Lollapalooza</td>\n",
       "      <td>6.0</td>\n",
       "      <td>7.2</td>\n",
       "      <td>4.8</td>\n",
       "      <td>6</td>\n",
       "      <td>1226</td>\n",
       "      <td>4389509.0</td>\n",
       "      <td>Rap</td>\n",
       "      <td>87.0</td>\n",
       "      <td>3.0</td>\n",
       "      <td>1.0</td>\n",
       "      <td>12.0</td>\n",
       "      <td>9.0</td>\n",
       "      <td>22.0</td>\n",
       "      <td>1.0</td>\n",
       "    </tr>\n",
       "    <tr>\n",
       "      <th>116</th>\n",
       "      <td>THE WEEKND</td>\n",
       "      <td>Bonnaroo</td>\n",
       "      <td>7.6</td>\n",
       "      <td>8.5</td>\n",
       "      <td>6.2</td>\n",
       "      <td>7</td>\n",
       "      <td>292</td>\n",
       "      <td>5689483.0</td>\n",
       "      <td>Pop/R&amp;B</td>\n",
       "      <td>93.0</td>\n",
       "      <td>1.0</td>\n",
       "      <td>1.0</td>\n",
       "      <td>14.6</td>\n",
       "      <td>2.0</td>\n",
       "      <td>17.6</td>\n",
       "      <td>1.0</td>\n",
       "    </tr>\n",
       "    <tr>\n",
       "      <th>131</th>\n",
       "      <td>WIZ KHALIFA</td>\n",
       "      <td>Governor's Ball</td>\n",
       "      <td>6.0</td>\n",
       "      <td>7.2</td>\n",
       "      <td>4.8</td>\n",
       "      <td>6</td>\n",
       "      <td>1226</td>\n",
       "      <td>4389509.0</td>\n",
       "      <td>Rap</td>\n",
       "      <td>87.0</td>\n",
       "      <td>1.0</td>\n",
       "      <td>1.0</td>\n",
       "      <td>12.0</td>\n",
       "      <td>6.0</td>\n",
       "      <td>19.0</td>\n",
       "      <td>1.0</td>\n",
       "    </tr>\n",
       "    <tr>\n",
       "      <th>117</th>\n",
       "      <td>THE XX</td>\n",
       "      <td>Bonnaroo</td>\n",
       "      <td>8.2</td>\n",
       "      <td>8.7</td>\n",
       "      <td>7.5</td>\n",
       "      <td>3</td>\n",
       "      <td>194</td>\n",
       "      <td>2418828.0</td>\n",
       "      <td>Rock/Indie</td>\n",
       "      <td>76.0</td>\n",
       "      <td>12.0</td>\n",
       "      <td>3.0</td>\n",
       "      <td>11.2</td>\n",
       "      <td>6.0</td>\n",
       "      <td>20.2</td>\n",
       "      <td>2.0</td>\n",
       "    </tr>\n",
       "    <tr>\n",
       "      <th>118</th>\n",
       "      <td>THE XX</td>\n",
       "      <td>Lollapalooza</td>\n",
       "      <td>8.2</td>\n",
       "      <td>8.7</td>\n",
       "      <td>7.5</td>\n",
       "      <td>3</td>\n",
       "      <td>194</td>\n",
       "      <td>2418828.0</td>\n",
       "      <td>Rock/Indie</td>\n",
       "      <td>76.0</td>\n",
       "      <td>14.5</td>\n",
       "      <td>3.0</td>\n",
       "      <td>11.2</td>\n",
       "      <td>14.0</td>\n",
       "      <td>28.2</td>\n",
       "      <td>2.0</td>\n",
       "    </tr>\n",
       "  </tbody>\n",
       "</table>\n",
       "</div>"
      ],
      "text/plain": [
       "          artist         festival  pf_mean  pf_max  pf_min  pf_count  index  \\\n",
       "132  WIZ KHALIFA     Lollapalooza      6.0     7.2     4.8         6   1226   \n",
       "116   THE WEEKND         Bonnaroo      7.6     8.5     6.2         7    292   \n",
       "131  WIZ KHALIFA  Governor's Ball      6.0     7.2     4.8         6   1226   \n",
       "117       THE XX         Bonnaroo      8.2     8.7     7.5         3    194   \n",
       "118       THE XX     Lollapalooza      8.2     8.7     7.5         3    194   \n",
       "\n",
       "     followers       genre  popularity  popularity_rank_fest  \\\n",
       "132  4389509.0         Rap        87.0                   3.0   \n",
       "116  5689483.0     Pop/R&B        93.0                   1.0   \n",
       "131  4389509.0         Rap        87.0                   1.0   \n",
       "117  2418828.0  Rock/Indie        76.0                  12.0   \n",
       "118  2418828.0  Rock/Indie        76.0                  14.5   \n",
       "\n",
       "     fan_base_rank_fest  critical_metric  critical_rank_fest  \\\n",
       "132                 1.0             12.0                 9.0   \n",
       "116                 1.0             14.6                 2.0   \n",
       "131                 1.0             12.0                 6.0   \n",
       "117                 3.0             11.2                 6.0   \n",
       "118                 3.0             11.2                14.0   \n",
       "\n",
       "     total_ranking_score_fest  total_rank_fest  \n",
       "132                      22.0              1.0  \n",
       "116                      17.6              1.0  \n",
       "131                      19.0              1.0  \n",
       "117                      20.2              2.0  \n",
       "118                      28.2              2.0  "
      ]
     },
     "execution_count": 181,
     "metadata": {},
     "output_type": "execute_result"
    }
   ],
   "source": [
    "fde[\"total_ranking_score_fest\"] = fde.iloc[:,-3:].sum(axis = 1)\n",
    "fde[\"total_rank_fest\"] = fde.groupby([\"festival\"])[\"total_ranking_score_fest\"].rank(ascending = True)\n",
    "fde.sort_values(\"total_rank_fest\").head()"
   ]
  },
  {
   "cell_type": "code",
   "execution_count": 182,
   "metadata": {
    "collapsed": false
   },
   "outputs": [],
   "source": [
    "con = sqlite3.connect(\"pitchfork-data.db\")\n",
    "#del fde[\"index\"]\n",
    "fde.to_sql(\"fest_data_enriched\", con, if_exists = \"replace\")\n",
    "con.close()"
   ]
  },
  {
   "cell_type": "markdown",
   "metadata": {},
   "source": [
    "## Ad Hoc Questions"
   ]
  },
  {
   "cell_type": "code",
   "execution_count": 201,
   "metadata": {
    "collapsed": false
   },
   "outputs": [
    {
     "data": {
      "text/html": [
       "<div>\n",
       "<table border=\"1\" class=\"dataframe\">\n",
       "  <thead>\n",
       "    <tr style=\"text-align: right;\">\n",
       "      <th></th>\n",
       "      <th>artist</th>\n",
       "      <th>count</th>\n",
       "      <th>score</th>\n",
       "    </tr>\n",
       "  </thead>\n",
       "  <tbody>\n",
       "    <tr>\n",
       "      <th>0</th>\n",
       "      <td>!!!</td>\n",
       "      <td>5</td>\n",
       "      <td>6.920000</td>\n",
       "    </tr>\n",
       "    <tr>\n",
       "      <th>1</th>\n",
       "      <td>+/-</td>\n",
       "      <td>3</td>\n",
       "      <td>6.366667</td>\n",
       "    </tr>\n",
       "    <tr>\n",
       "      <th>2</th>\n",
       "      <td>...AND YOU WILL KNOW US BY THE TRAIL OF DEAD</td>\n",
       "      <td>7</td>\n",
       "      <td>6.414286</td>\n",
       "    </tr>\n",
       "    <tr>\n",
       "      <th>3</th>\n",
       "      <td>1,2,3</td>\n",
       "      <td>1</td>\n",
       "      <td>6.300000</td>\n",
       "    </tr>\n",
       "    <tr>\n",
       "      <th>4</th>\n",
       "      <td>10 IN THE SWEAR JAR</td>\n",
       "      <td>1</td>\n",
       "      <td>7.400000</td>\n",
       "    </tr>\n",
       "  </tbody>\n",
       "</table>\n",
       "</div>"
      ],
      "text/plain": [
       "                                         artist  count     score\n",
       "0                                           !!!      5  6.920000\n",
       "1                                           +/-      3  6.366667\n",
       "2  ...AND YOU WILL KNOW US BY THE TRAIL OF DEAD      7  6.414286\n",
       "3                                         1,2,3      1  6.300000\n",
       "4                           10 IN THE SWEAR JAR      1  7.400000"
      ]
     },
     "execution_count": 201,
     "metadata": {},
     "output_type": "execute_result"
    }
   ],
   "source": [
    "con = sqlite3.connect(\"pitchfork-data.db\")\n",
    "\n",
    "album_table = pd.read_sql_query(\"\"\"SELECT upper(artist) as artist,\n",
    "                                          count(album) as count, \n",
    "                                          avg(score) as score\n",
    "                                    FROM album_table_clean\n",
    "                                    GROUP BY artist\"\"\", con)\n",
    "album_table[\"score\"] = album_table[\"score\"].astype(float)\n",
    "album_table.head()"
   ]
  },
  {
   "cell_type": "code",
   "execution_count": 224,
   "metadata": {
    "collapsed": false
   },
   "outputs": [
    {
     "data": {
      "text/html": [
       "<div>\n",
       "<table border=\"1\" class=\"dataframe\">\n",
       "  <thead>\n",
       "    <tr style=\"text-align: right;\">\n",
       "      <th></th>\n",
       "      <th>artist</th>\n",
       "      <th>count</th>\n",
       "      <th>score</th>\n",
       "      <th>index</th>\n",
       "      <th>followers</th>\n",
       "      <th>genre</th>\n",
       "      <th>popularity</th>\n",
       "    </tr>\n",
       "  </thead>\n",
       "  <tbody>\n",
       "    <tr>\n",
       "      <th>1</th>\n",
       "      <td>+/-</td>\n",
       "      <td>3</td>\n",
       "      <td>6.366667</td>\n",
       "      <td>5699.0</td>\n",
       "      <td>1074520.0</td>\n",
       "      <td>classic funk rock/dance pop/funk/funk rock/qui...</td>\n",
       "      <td>74.0</td>\n",
       "    </tr>\n",
       "    <tr>\n",
       "      <th>2</th>\n",
       "      <td>...AND YOU WILL KNOW US BY THE TRAIL OF DEAD</td>\n",
       "      <td>7</td>\n",
       "      <td>6.414286</td>\n",
       "      <td>2318.0</td>\n",
       "      <td>23433.0</td>\n",
       "      <td>alternative rock/dance-punk/garage rock/indie ...</td>\n",
       "      <td>38.0</td>\n",
       "    </tr>\n",
       "    <tr>\n",
       "      <th>3</th>\n",
       "      <td>1,2,3</td>\n",
       "      <td>1</td>\n",
       "      <td>6.300000</td>\n",
       "      <td>4447.0</td>\n",
       "      <td>3232.0</td>\n",
       "      <td>Unknown</td>\n",
       "      <td>23.0</td>\n",
       "    </tr>\n",
       "    <tr>\n",
       "      <th>4</th>\n",
       "      <td>10 IN THE SWEAR JAR</td>\n",
       "      <td>1</td>\n",
       "      <td>7.400000</td>\n",
       "      <td>7143.0</td>\n",
       "      <td>507.0</td>\n",
       "      <td>Unknown</td>\n",
       "      <td>9.0</td>\n",
       "    </tr>\n",
       "    <tr>\n",
       "      <th>5</th>\n",
       "      <td>11:11</td>\n",
       "      <td>1</td>\n",
       "      <td>4.900000</td>\n",
       "      <td>2505.0</td>\n",
       "      <td>120863.0</td>\n",
       "      <td>alternative metal/alternative rock/funk metal/...</td>\n",
       "      <td>54.0</td>\n",
       "    </tr>\n",
       "  </tbody>\n",
       "</table>\n",
       "</div>"
      ],
      "text/plain": [
       "                                         artist  count     score   index  \\\n",
       "1                                           +/-      3  6.366667  5699.0   \n",
       "2  ...AND YOU WILL KNOW US BY THE TRAIL OF DEAD      7  6.414286  2318.0   \n",
       "3                                         1,2,3      1  6.300000  4447.0   \n",
       "4                           10 IN THE SWEAR JAR      1  7.400000  7143.0   \n",
       "5                                         11:11      1  4.900000  2505.0   \n",
       "\n",
       "   followers                                              genre  popularity  \n",
       "1  1074520.0  classic funk rock/dance pop/funk/funk rock/qui...        74.0  \n",
       "2    23433.0  alternative rock/dance-punk/garage rock/indie ...        38.0  \n",
       "3     3232.0                                            Unknown        23.0  \n",
       "4      507.0                                            Unknown         9.0  \n",
       "5   120863.0  alternative metal/alternative rock/funk metal/...        54.0  "
      ]
     },
     "execution_count": 224,
     "metadata": {},
     "output_type": "execute_result"
    }
   ],
   "source": [
    "spotify_data = pd.read_sql_query(\"SELECT * FROM artist_spotify_data\", con)\n",
    "corr = album_table.merge(spotify_data, on = \"artist\", how = \"left\")\n",
    "corr = corr[~corr[\"followers\"].isnull()]\n",
    "corr = corr[corr[\"followers\"] != 0]\n",
    "corr.head()"
   ]
  },
  {
   "cell_type": "code",
   "execution_count": 231,
   "metadata": {
    "collapsed": false
   },
   "outputs": [
    {
     "name": "stdout",
     "output_type": "stream",
     "text": [
      "Corr. between log(followers) and popularity: 0.913392910891\n",
      "Corr. without log transformation: 0.440654051686\n"
     ]
    }
   ],
   "source": [
    "print (\"Corr. between log(followers) and popularity:\",\n",
    "       linregress(numpy.log(corr[\"followers\"]),\n",
    "                  corr[\"popularity\"])[2])\n",
    "\n",
    "print (\"Corr. without log transformation:\",\n",
    "       linregress(corr[\"followers\"],\n",
    "                  corr[\"popularity\"])[2])"
   ]
  },
  {
   "cell_type": "code",
   "execution_count": 232,
   "metadata": {
    "collapsed": false
   },
   "outputs": [
    {
     "name": "stdout",
     "output_type": "stream",
     "text": [
      "Corr. between log(followers) and popularity: -0.0215706802719\n",
      "Corr. without log transformation: -0.0505064934547\n"
     ]
    }
   ],
   "source": [
    "print (\"Corr. between log(followers) and score:\",\n",
    "       linregress(numpy.log(corr[\"followers\"]),\n",
    "                  corr[\"score\"])[2])\n",
    "\n",
    "print (\"Corr. without log transformation:\",\n",
    "       linregress(corr[\"followers\"],\n",
    "                  corr[\"score\"])[2])"
   ]
  },
  {
   "cell_type": "code",
   "execution_count": 233,
   "metadata": {
    "collapsed": false
   },
   "outputs": [
    {
     "name": "stdout",
     "output_type": "stream",
     "text": [
      "Corr. between popularity and score: -0.0193207783818\n"
     ]
    }
   ],
   "source": [
    "print (\"Corr. between popularity and score:\",\n",
    "       linregress(corr[\"popularity\"],\n",
    "                  corr[\"score\"])[2])"
   ]
  },
  {
   "cell_type": "code",
   "execution_count": 237,
   "metadata": {
    "collapsed": false
   },
   "outputs": [
    {
     "name": "stdout",
     "output_type": "stream",
     "text": [
      "Corr. between count and score: 0.0237439763623\n"
     ]
    }
   ],
   "source": [
    "print (\"Corr. between count and score:\",\n",
    "       linregress(corr[\"count\"],\n",
    "                  corr[\"score\"])[2])"
   ]
  },
  {
   "cell_type": "code",
   "execution_count": 238,
   "metadata": {
    "collapsed": true
   },
   "outputs": [],
   "source": [
    "corr[\"log_followers\"] = numpy.log(corr[\"followers\"])\n",
    "con = sqlite3.connect(\"pitchfork-data.db\")\n",
    "#del fde[\"index\"]\n",
    "corr.to_sql(\"correlation_table\", con, if_exists = \"replace\")\n",
    "con.close()"
   ]
  },
  {
   "cell_type": "code",
   "execution_count": null,
   "metadata": {
    "collapsed": false
   },
   "outputs": [],
   "source": [
    "\n",
    "\n",
    "\n",
    "\n",
    "\n",
    "\n",
    "\n",
    "\n",
    "\n",
    "\n",
    "\n",
    "\n",
    "\n",
    "\n",
    "\n",
    "\n",
    "\n",
    "\n",
    "\n",
    "\n",
    "\n",
    "\n",
    "\n",
    "\n",
    "\n",
    "\n",
    "\n",
    "\n",
    "\n",
    "\n",
    "\n",
    "\n",
    "\n"
   ]
  },
  {
   "cell_type": "code",
   "execution_count": null,
   "metadata": {
    "collapsed": true
   },
   "outputs": [],
   "source": []
  }
 ],
 "metadata": {
  "anaconda-cloud": {},
  "kernelspec": {
   "display_name": "Python 3",
   "language": "python",
   "name": "python3"
  },
  "language_info": {
   "codemirror_mode": {
    "name": "ipython",
    "version": 3
   },
   "file_extension": ".py",
   "mimetype": "text/x-python",
   "name": "python",
   "nbconvert_exporter": "python",
   "pygments_lexer": "ipython3",
   "version": "3.6.0"
  },
  "widgets": {
   "state": {
    "55402aaf5fca409fb06e17262178273a": {
     "views": [
      {
       "cell_index": 15
      }
     ]
    },
    "5fecb077cbbe4237b98c65d837e05950": {
     "views": [
      {
       "cell_index": 13
      }
     ]
    },
    "adbbb88c7c894f52841d172ac73d6ae9": {
     "views": [
      {
       "cell_index": 9
      }
     ]
    }
   },
   "version": "1.2.0"
  }
 },
 "nbformat": 4,
 "nbformat_minor": 0
}
