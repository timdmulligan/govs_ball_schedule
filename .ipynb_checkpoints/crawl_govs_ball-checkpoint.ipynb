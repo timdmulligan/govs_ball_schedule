{
 "cells": [
  {
   "cell_type": "markdown",
   "metadata": {},
   "source": [
    "## Creating the Optimal Gov's Ball Scedule"
   ]
  },
  {
   "cell_type": "code",
   "execution_count": 2,
   "metadata": {
    "collapsed": true
   },
   "outputs": [],
   "source": [
    "#Bring in the neccessary libraries \n",
    "import pandas as pd\n",
    "from io import StringIO\n",
    "import urllib\n",
    "from bs4 import BeautifulSoup \n",
    "import sqlite3 \n",
    "import time\n",
    "import numpy \n",
    "import signal\n",
    "from urllib.request import Request, urlopen\n",
    "from IPython.display import clear_output\n",
    "import numpy as np"
   ]
  },
  {
   "cell_type": "code",
   "execution_count": 3,
   "metadata": {
    "collapsed": false
   },
   "outputs": [
    {
     "name": "stdout",
     "output_type": "stream",
     "text": [
      "Progress Bar Loaded\n"
     ]
    }
   ],
   "source": [
    "# Load package for progress bar\n",
    "%run \"progress_bar.py\"\n",
    "print ('Progress Bar Loaded')"
   ]
  },
  {
   "cell_type": "markdown",
   "metadata": {},
   "source": [
    "### Get Gov's Ball Artist Info"
   ]
  },
  {
   "cell_type": "markdown",
   "metadata": {},
   "source": [
    "Could also look at Bonaroo and Lollapolloozas schedules"
   ]
  },
  {
   "cell_type": "code",
   "execution_count": null,
   "metadata": {
    "collapsed": false
   },
   "outputs": [],
   "source": [
    "#Grab the artist info from the Gov's ball website\n",
    "with urllib.request.urlopen(\"https://www.governorsballmusicfestival.com/lineup/interactive-lineup/\") as url:\n",
    "    s = url.read()\n",
    "soup = BeautifulSoup(s, \"lxml\")\n"
   ]
  },
  {
   "cell_type": "code",
   "execution_count": null,
   "metadata": {
    "collapsed": false
   },
   "outputs": [],
   "source": [
    "info = soup.findAll('div', {\"class\":\"c-lineup__artist\"})\n",
    "#Put those names in a list, then a dataframe\n",
    "govs_ball_data = pd.DataFrame([])\n",
    "for i in info:\n",
    "    artist = i.attrs['data-title']\n",
    "    date = i.attrs[\"data-day-titles\"]\n",
    "    govs_ball_data = govs_ball_data.append(pd.DataFrame({'artist': artist, #Create the table\n",
    "                                                         'date'  : date},\n",
    "                                                  index=[0]),\n",
    "                                     ignore_index=True)\n",
    "govs_ball_data.head()"
   ]
  },
  {
   "cell_type": "code",
   "execution_count": null,
   "metadata": {
    "collapsed": false
   },
   "outputs": [],
   "source": [
    "govs_ball_data[\"day\"] = ((govs_ball_data[\"date\"].str.slice(-5, -4)).astype(int) -1).astype(str)\n",
    "govs_ball_data[\"date\"] = govs_ball_data[\"date\"].str.slice(2, -2)\n",
    "govs_ball_data[\"festival\"] = \"Governor's Ball\"\n",
    "govs_ball_data.head()"
   ]
  },
  {
   "cell_type": "markdown",
   "metadata": {},
   "source": [
    "### Repeat that process for Lolla and Bonnaroo"
   ]
  },
  {
   "cell_type": "code",
   "execution_count": null,
   "metadata": {
    "collapsed": false
   },
   "outputs": [],
   "source": [
    "#Grab the artist info from the Lollapalooza website\n",
    "with urllib.request.urlopen(\"https://www.lollapalooza.com/lineup/interactive-lineup/\") as url:\n",
    "    s = url.read()\n",
    "soup = BeautifulSoup(s, \"lxml\")\n",
    "\n",
    "info = soup.findAll('div', {\"class\":\"c-lineup__artist\"})\n",
    "#Put those names in a list, then a dataframe\n",
    "lolla_data = pd.DataFrame([])\n",
    "for i in info:\n",
    "    artist = i.attrs['data-title']\n",
    "    date = i.attrs[\"data-day-titles\"]\n",
    "    lolla_data = lolla_data.append(pd.DataFrame({'artist': artist, #Create the table\n",
    "                                                         'date'  : date},\n",
    "                                                  index=[0]),\n",
    "                                     ignore_index=True)\n",
    "    \n",
    "#Clean up the date information\n",
    "lolla_data[\"day\"] = np.where(lolla_data[\"date\"].str.contains(\"Thursday\"), \"1\",\n",
    "                            np.where(lolla_data[\"date\"].str.contains(\"Friday\"), \"2\",\n",
    "                                    np.where(lolla_data[\"date\"].str.contains(\"Saturday\"), \"3\", \"4\")))\n",
    "lolla_data[\"date\"] = lolla_data[\"date\"].str.slice(2, -2)\n",
    "lolla_data[\"date\"] = lolla_data[\"date\"].str.replace(\"\\\\\", \"\")\n",
    "lolla_data[\"date\"] = lolla_data[\"date\"].str.replace(\"8/6\", \"August 6th\")\n",
    "lolla_data[\"date\"] = lolla_data[\"date\"].str.replace(\"8/5\", \"August 5th\")\n",
    "lolla_data[\"date\"] = lolla_data[\"date\"].str.replace(\"8/4\", \"August 4th\")\n",
    "lolla_data[\"date\"] = lolla_data[\"date\"].str.replace(\"8/3\", \"August 3th\")\n",
    "lolla_data[\"festival\"] = \"Lollapalooza\"\n",
    "lolla_data.head()"
   ]
  },
  {
   "cell_type": "code",
   "execution_count": null,
   "metadata": {
    "collapsed": false
   },
   "outputs": [],
   "source": [
    "#Grab the artist info from the  Bonnaroo website\n",
    "with urllib.request.urlopen(\"https://www.bonnaroo.com/lineup/interactive/\") as url:\n",
    "    s = url.read()\n",
    "soup = BeautifulSoup(s, \"lxml\")\n",
    "\n",
    "info = soup.findAll('div', {\"class\":\"c-lineup__artist\"})\n",
    "#Put those names in a list, then a dataframe\n",
    "bonnaroo_data = pd.DataFrame([])\n",
    "for i in info:\n",
    "    artist = i.attrs['data-title']\n",
    "    date = i.attrs[\"data-day-titles\"]\n",
    "    bonnaroo_data = bonnaroo_data.append(pd.DataFrame({'artist': artist, #Create the table\n",
    "                                                         'date'  : date},\n",
    "                                                  index=[0]),\n",
    "                                     ignore_index=True)\n",
    "    \n",
    "bonnaroo_data[\"day\"] = np.where(bonnaroo_data[\"date\"].str.contains(\"Friday\"), \"1\",\n",
    "                                np.where(bonnaroo_data[\"date\"].str.contains(\"Saturday\"), \"2\", \"3\"))\n",
    "bonnaroo_data[\"date\"] = bonnaroo_data[\"date\"].str.slice(2, -2)\n",
    "bonnaroo_data[\"date\"] = bonnaroo_data[\"date\"].str.replace(\"\\\\\", \"\")\n",
    "bonnaroo_data[\"date\"] = bonnaroo_data[\"date\"].str.replace(\"6/9\", \"June 9th\")\n",
    "bonnaroo_data[\"date\"] = bonnaroo_data[\"date\"].str.replace(\"6/10\", \"June 10th\")\n",
    "bonnaroo_data[\"date\"] = bonnaroo_data[\"date\"].str.replace(\"6/11\", \"June 11th\")\n",
    "bonnaroo_data[\"festival\"] = \"Bonnaroo\"\n",
    "bonnaroo_data.head()"
   ]
  },
  {
   "cell_type": "markdown",
   "metadata": {},
   "source": [
    "#### Add Names to a SQLite Database"
   ]
  },
  {
   "cell_type": "code",
   "execution_count": null,
   "metadata": {
    "collapsed": false
   },
   "outputs": [],
   "source": [
    "#Create Connection\n",
    "con = sqlite3.connect(\"pitchfork-data.db\")\n",
    "govs_ball_data.to_sql(\"govs_ball_data\", con,if_exists='replace')\n",
    "lolla_data.to_sql(\"lolla_data\", con,if_exists='replace')\n",
    "bonnaroo_data.to_sql(\"lolla_data\", con,if_exists='replace')\n",
    "all_festivals = govs_ball_data.append(lolla_data).append(bonnaroo_data)\n",
    "all_festivals.to_sql(\"all_festivals\", con,if_exists='replace')\n",
    "con.close() #close db connection"
   ]
  },
  {
   "cell_type": "markdown",
   "metadata": {
    "collapsed": true
   },
   "source": [
    "## Pitchfork Crawler"
   ]
  },
  {
   "cell_type": "markdown",
   "metadata": {
    "collapsed": true
   },
   "source": [
    "The crawling happens in two distinct stages. In Stage 1, the code loops throught the reviews page on pitchfork.com to find links to all the reviews. Stage 2 goes to each link and pull various bits of information. There's lots more to pull, but this is a solid starting place. "
   ]
  },
  {
   "cell_type": "markdown",
   "metadata": {},
   "source": [
    "### Stage 1: "
   ]
  },
  {
   "cell_type": "code",
   "execution_count": null,
   "metadata": {
    "collapsed": false,
    "scrolled": true
   },
   "outputs": [],
   "source": [
    "#Stage 1\n",
    "con = sqlite3.connect(\"pitchfork-data.db\") #connect to db\n",
    "\n",
    "for i in log_progress(range(0,13), every=1): \n",
    "    #Use the range function to decide how many pages you want to go through\n",
    "    #In this case, I'm going through the latest 100 reviews (12 per page)\n",
    "    page_no = str(i)\n",
    "    link = ('http://pitchfork.com/reviews/albums/?page=' + page_no) #create the link\n",
    "    t0 = time.time()\n",
    "    req = Request(link, headers={ 'User-Agent': 'Firefox/24.0' })\n",
    "    webpage = urlopen(req).read()\n",
    "    response_delay = time.time() - t0\n",
    "    time.sleep(10*response_delay)  # wait 10x longer than it took them to respond\n",
    "    soup = BeautifulSoup(webpage, \"lxml\") #create the soup\n",
    "    info = soup.findAll('a', {\"class\":\"album-link\"}) #pull the album link\n",
    "    for j in info:\n",
    "            link = pd.DataFrame({'link': j.attrs['href']}, #Create the table\n",
    "                         index=[0]).to_sql(\"link_table\",\n",
    "                                           con,\n",
    "                                           if_exists = \"append\")\n",
    "    clear_output() #clear ouput before rewriting progress\n",
    "    print (i)\n",
    "\n",
    "con.close() #close db connection"
   ]
  },
  {
   "cell_type": "markdown",
   "metadata": {},
   "source": [
    "### Stage 2:"
   ]
  },
  {
   "cell_type": "code",
   "execution_count": null,
   "metadata": {
    "collapsed": false
   },
   "outputs": [],
   "source": [
    "BASE_URL = 'http://www.pitchfork.com'\n",
    "con = sqlite3.connect(\"pitchfork-data.db\")\n",
    "links_table = pd.read_sql_query(\"SELECT DISTINCT * from link_table\", con)\n",
    "links = links_table[\"link\"]\n",
    "iterator = 0\n",
    "\n",
    "class Timeout(Exception):  # handles timeout errors (e.g., server request is taking too long)\n",
    "    pass\n",
    "\n",
    "for i in log_progress(links[-156:], every=1):\n",
    "    link = BASE_URL + i\n",
    "    t0 = time.time()\n",
    "    req = Request(link, headers={ 'User-Agent': 'Firefox/24.0' })\n",
    "    webpage = urlopen(req).read()\n",
    "    response_delay = time.time() - t0\n",
    "    time.sleep(4*response_delay)  # wait Nx longer than it took them to respond\n",
    "    soup = BeautifulSoup(webpage, \"lxml\") #same as above\n",
    "    artist_info = soup.findAll('ul', {\"class\":\"artist-links artist-list\"}) #Artist Name\n",
    "    album_info = soup.findAll('h1', {\"class\":\"review-title\"}) #Album Name\n",
    "    score_info = soup.findAll('div', {\"class\":\"score-circle\"}) #Score\n",
    "    pub_info = soup.findAll('span', {\"class\":\"pub-date\"}) # Publication Date\n",
    "    genre_info = soup.findAll('ul', {\"class\":\"genre-list before\"}) #Genre\n",
    "    for j in artist_info:\n",
    "        artist = j.text\n",
    "    for k in album_info:\n",
    "        album = k.text\n",
    "    for l in score_info:\n",
    "        score = l.text\n",
    "    for m in pub_info:\n",
    "        pub_date = m.text\n",
    "    for n in genre_info:\n",
    "        genre = n.text\n",
    "    clear_output()\n",
    "    print (artist, \", \", album, response_delay, iterator)\n",
    "    pd.DataFrame({'artist': artist, #Create the table\n",
    "                  'album'  : album,\n",
    "                  'score' : score,\n",
    "                  'pub_date' : pub_date,\n",
    "                  'genre' : genre,\n",
    "                  'link' : link},\n",
    "                 index=[0]).to_sql(\"album_table\",\n",
    "                                   con,\n",
    "                                   if_exists = \"append\")\n",
    "    iterator= iterator +1\n",
    "\n",
    "con.close() "
   ]
  },
  {
   "cell_type": "markdown",
   "metadata": {
    "collapsed": true
   },
   "source": [
    "## Data Management"
   ]
  },
  {
   "cell_type": "code",
   "execution_count": 4,
   "metadata": {
    "collapsed": false
   },
   "outputs": [],
   "source": [
    "con = sqlite3.connect(\"pitchfork-data.db\")\n",
    "#Pull the table we just wrote back it\n",
    "album_table = pd.read_sql_query(\"SELECT * from album_table\", con)\n",
    "#Drop any duplicates that may have happened\n",
    "album_table = album_table.drop_duplicates()\n",
    "#Delete the index\n",
    "del album_table[\"index\"]\n",
    "#reupload as album_table_clean\n",
    "album_table.to_sql(\"album_table_clean\", con, if_exists = \"replace\")"
   ]
  },
  {
   "cell_type": "markdown",
   "metadata": {},
   "source": [
    "#### Cleaning Some Data"
   ]
  },
  {
   "cell_type": "code",
   "execution_count": 5,
   "metadata": {
    "collapsed": false
   },
   "outputs": [],
   "source": [
    "album_table = pd.read_sql_query(\"SELECT * from album_table_clean\", con)\n",
    "album_table[\"artist\"] = album_table[\"artist\"].str.upper()"
   ]
  },
  {
   "cell_type": "code",
   "execution_count": 6,
   "metadata": {
    "collapsed": false
   },
   "outputs": [],
   "source": [
    "artists = album_table[\"artist\"].drop_duplicates()"
   ]
  },
  {
   "cell_type": "code",
   "execution_count": 7,
   "metadata": {
    "collapsed": false
   },
   "outputs": [
    {
     "data": {
      "text/html": [
       "<div>\n",
       "<table border=\"1\" class=\"dataframe\">\n",
       "  <thead>\n",
       "    <tr style=\"text-align: right;\">\n",
       "      <th></th>\n",
       "      <th>artist</th>\n",
       "      <th>day</th>\n",
       "      <th>date</th>\n",
       "      <th>festival</th>\n",
       "    </tr>\n",
       "  </thead>\n",
       "  <tbody>\n",
       "    <tr>\n",
       "      <th>0</th>\n",
       "      <td>TOOL</td>\n",
       "      <td>3</td>\n",
       "      <td>Sunday, June 4th</td>\n",
       "      <td>Governor's Ball</td>\n",
       "    </tr>\n",
       "    <tr>\n",
       "      <th>1</th>\n",
       "      <td>CHANCE THE RAPPER</td>\n",
       "      <td>1</td>\n",
       "      <td>Friday, June 2nd</td>\n",
       "      <td>Governor's Ball</td>\n",
       "    </tr>\n",
       "    <tr>\n",
       "      <th>2</th>\n",
       "      <td>PHOENIX</td>\n",
       "      <td>2</td>\n",
       "      <td>Saturday, June 3rd</td>\n",
       "      <td>Governor's Ball</td>\n",
       "    </tr>\n",
       "    <tr>\n",
       "      <th>3</th>\n",
       "      <td>CHILDISH GAMBINO</td>\n",
       "      <td>2</td>\n",
       "      <td>Saturday, June 3rd</td>\n",
       "      <td>Governor's Ball</td>\n",
       "    </tr>\n",
       "    <tr>\n",
       "      <th>4</th>\n",
       "      <td>LORDE</td>\n",
       "      <td>1</td>\n",
       "      <td>Friday, June 2nd</td>\n",
       "      <td>Governor's Ball</td>\n",
       "    </tr>\n",
       "  </tbody>\n",
       "</table>\n",
       "</div>"
      ],
      "text/plain": [
       "              artist day                date         festival\n",
       "0               TOOL   3    Sunday, June 4th  Governor's Ball\n",
       "1  CHANCE THE RAPPER   1    Friday, June 2nd  Governor's Ball\n",
       "2            PHOENIX   2  Saturday, June 3rd  Governor's Ball\n",
       "3   CHILDISH GAMBINO   2  Saturday, June 3rd  Governor's Ball\n",
       "4              LORDE   1    Friday, June 2nd  Governor's Ball"
      ]
     },
     "execution_count": 7,
     "metadata": {},
     "output_type": "execute_result"
    }
   ],
   "source": [
    "fest_data = pd.read_sql_query(\"\"\"SELECT UPPER(artist) AS \"artist\", day, date, festival from all_festivals\"\"\", con)\n",
    "fest_data.head()\n"
   ]
  },
  {
   "cell_type": "code",
   "execution_count": 8,
   "metadata": {
    "collapsed": false
   },
   "outputs": [],
   "source": [
    "fest_data[\"artist\"] = np.where(fest_data[\"artist\"] == \"CHARLES BRADLEY & HIS EXTRAORDINAIRES\",\n",
    "                            \"CHARLES BRADLEY\",\n",
    "                            fest_data[\"artist\"])\n",
    "fest_data[\"artist\"] = np.where(fest_data[\"artist\"] == \"MARK RONSON VS KEVIN PARKER\",\n",
    "                            \"MARK RONSON\",\n",
    "                            fest_data[\"artist\"])\n",
    "#x number of artists missing"
   ]
  },
  {
   "cell_type": "code",
   "execution_count": 9,
   "metadata": {
    "collapsed": false
   },
   "outputs": [
    {
     "name": "stdout",
     "output_type": "stream",
     "text": [
      "271 artists without pitchfork data\n"
     ]
    }
   ],
   "source": [
    "print (fest_data[~(fest_data.artist.isin(artists))].shape[0], \"artists without pitchfork data\")"
   ]
  },
  {
   "cell_type": "markdown",
   "metadata": {},
   "source": [
    "## Spotify API"
   ]
  },
  {
   "cell_type": "code",
   "execution_count": 10,
   "metadata": {
    "collapsed": false
   },
   "outputs": [],
   "source": [
    "import spotipy\n",
    "import sys\n",
    "import json"
   ]
  },
  {
   "cell_type": "code",
   "execution_count": 11,
   "metadata": {
    "collapsed": false
   },
   "outputs": [],
   "source": [
    "#Feed the Gov's Ball Artists into Spotify\n",
    "spotify = spotipy.Spotify()#Create spotify object from spotipy \n",
    "\n",
    "count = 0\n",
    "for name in log_progress(fest_data[\"artist\"], every = 1):\n",
    "    try:\n",
    "        search = spotify.search(q='artist:' + name, type='artist') #Search and grab the first result\n",
    "        spot_name = pd.read_json(json.dumps(search[\"artists\"]))[\"items\"][0][\"name\"] #Name for reference\n",
    "        popularity = pd.read_json(json.dumps(search[\"artists\"]))[\"items\"][0][\"popularity\"] #Popularity Metric\n",
    "        genre = pd.read_json(json.dumps(search[\"artists\"]))[\"items\"][0][\"genres\"] #Genre list\n",
    "        followers = pd.read_json(json.dumps(search[\"artists\"]))[\"items\"][0][\"followers\"][\"total\"] #Social Followers\n",
    "        if len(genre) > 0:\n",
    "            genre = \"/\".join(genre)\n",
    "        else:\n",
    "            genre = \"Unknown\"\n",
    "        #Add that dat to the gov's ball table\n",
    "        fest_data.loc[fest_data['artist'] == name, 'followers'] = followers\n",
    "        fest_data.loc[fest_data['artist'] == name, 'genre'] = genre\n",
    "        fest_data.loc[fest_data['artist'] == name, 'popularity'] = popularity\n",
    "        count = count+1\n",
    "    except Exception:\n",
    "        pass\n"
   ]
  },
  {
   "cell_type": "code",
   "execution_count": 33,
   "metadata": {
    "collapsed": false
   },
   "outputs": [],
   "source": [
    "#reupload as govs_ball_enriched\n",
    "#del fest_data[\"index\"]\n",
    "con = sqlite3.connect(\"pitchfork-data.db\")\n",
    "fest_data = fest_data[~fest_data[\"followers\"].isnull()]\n",
    "fest_data.to_sql(\"fest_data_enriched\", con, if_exists = \"replace\")"
   ]
  },
  {
   "cell_type": "markdown",
   "metadata": {},
   "source": [
    "## Metacritic API?"
   ]
  },
  {
   "cell_type": "markdown",
   "metadata": {},
   "source": [
    "### Merge in Pitchfork Reviews"
   ]
  },
  {
   "cell_type": "code",
   "execution_count": 34,
   "metadata": {
    "collapsed": false
   },
   "outputs": [],
   "source": [
    "query = \"\"\"\n",
    "        SELECT g.artist,\n",
    "               p.album, p.score, p.genre \n",
    "        FROM fest_data_enriched g \n",
    "        INNER JOIN album_table_clean p \n",
    "        ON (upper(p.artist) = g.artist)\n",
    "        \"\"\"\n"
   ]
  },
  {
   "cell_type": "code",
   "execution_count": 35,
   "metadata": {
    "collapsed": false
   },
   "outputs": [],
   "source": [
    "pitch_gov = pd.read_sql_query(query, con)\n",
    "pitch_gov[\"score\"] = pitch_gov[\"score\"].astype(float)"
   ]
  },
  {
   "cell_type": "code",
   "execution_count": 36,
   "metadata": {
    "collapsed": false
   },
   "outputs": [
    {
     "data": {
      "text/html": [
       "<div>\n",
       "<table border=\"1\" class=\"dataframe\">\n",
       "  <thead>\n",
       "    <tr style=\"text-align: right;\">\n",
       "      <th></th>\n",
       "      <th>artist</th>\n",
       "      <th>pf_genre</th>\n",
       "      <th>pf_mean</th>\n",
       "      <th>pf_max</th>\n",
       "      <th>pf_min</th>\n",
       "      <th>pf_count</th>\n",
       "    </tr>\n",
       "  </thead>\n",
       "  <tbody>\n",
       "    <tr>\n",
       "      <th>0</th>\n",
       "      <td>A$AP FERG</td>\n",
       "      <td>Rap</td>\n",
       "      <td>7.1</td>\n",
       "      <td>7.5</td>\n",
       "      <td>6.4</td>\n",
       "      <td>3</td>\n",
       "    </tr>\n",
       "    <tr>\n",
       "      <th>1</th>\n",
       "      <td>A-TRAK</td>\n",
       "      <td>RapElectronic</td>\n",
       "      <td>7.2</td>\n",
       "      <td>7.9</td>\n",
       "      <td>6.4</td>\n",
       "      <td>6</td>\n",
       "    </tr>\n",
       "    <tr>\n",
       "      <th>2</th>\n",
       "      <td>AIR</td>\n",
       "      <td>Electronic</td>\n",
       "      <td>5.9</td>\n",
       "      <td>7.8</td>\n",
       "      <td>4.0</td>\n",
       "      <td>6</td>\n",
       "    </tr>\n",
       "    <tr>\n",
       "      <th>3</th>\n",
       "      <td>ALT-J</td>\n",
       "      <td>Rock</td>\n",
       "      <td>4.4</td>\n",
       "      <td>4.8</td>\n",
       "      <td>4.0</td>\n",
       "      <td>2</td>\n",
       "    </tr>\n",
       "    <tr>\n",
       "      <th>4</th>\n",
       "      <td>ALVVAYS</td>\n",
       "      <td>Rock</td>\n",
       "      <td>7.6</td>\n",
       "      <td>7.6</td>\n",
       "      <td>7.6</td>\n",
       "      <td>1</td>\n",
       "    </tr>\n",
       "  </tbody>\n",
       "</table>\n",
       "</div>"
      ],
      "text/plain": [
       "      artist       pf_genre  pf_mean  pf_max  pf_min  pf_count\n",
       "0  A$AP FERG            Rap      7.1     7.5     6.4         3\n",
       "1     A-TRAK  RapElectronic      7.2     7.9     6.4         6\n",
       "2        AIR     Electronic      5.9     7.8     4.0         6\n",
       "3      ALT-J           Rock      4.4     4.8     4.0         2\n",
       "4    ALVVAYS           Rock      7.6     7.6     7.6         1"
      ]
     },
     "execution_count": 36,
     "metadata": {},
     "output_type": "execute_result"
    }
   ],
   "source": [
    "score_metrics = pitch_gov.groupby([\"artist\", \"genre\"])[\"score\"].agg(['mean', \"max\",\"min\", 'count' ]).reset_index()\n",
    "score_metrics.columns = [[\"artist\", \"pf_genre\", \"pf_mean\", \"pf_max\", \"pf_min\", \"pf_count\"]]\n",
    "score_metrics = round(score_metrics,1)\n",
    "score_metrics.head()"
   ]
  },
  {
   "cell_type": "code",
   "execution_count": 51,
   "metadata": {
    "collapsed": true
   },
   "outputs": [],
   "source": [
    "#write back to the data\n",
    "con = sqlite3.connect(\"pitchfork-data.db\")\n",
    "fd = pd.read_sql_query(\"SELECT * FROM fest_data_enriched\", con)\n",
    "fde = fd.merge(score_metrics, on = \"artist\", how = \"left\")\n",
    "fde[\"genre\"] = np.where(fde[\"pf_genre\"].isnull(), fde[\"genre\"], fde[\"pf_genre\"])\n",
    "del fde[\"pf_genre\"]\n",
    "#Clean up Genre Row\n",
    "fde[\"genre\"] = np.where(fde[\"genre\"].isin([\"Rap\", \"Pop/R&B\", \"Rock\", \"Electronic\", \"Metal\"]),\n",
    "                  fde[\"genre\"],\n",
    "                  np.where(fde[\"genre\"].str.contains(\"hip hop\"),\n",
    "                     \"Rap\",\n",
    "                     np.where(fde[\"genre\"].str.contains(\"RockElectronic\"),\n",
    "                        \"Rock\",\n",
    "                        np.where(fde[\"genre\"].str.contains(\"rock\"),\n",
    "                           \"Rock\",\n",
    "                           np.where(fde[\"genre\"].str.contains(\"pop\"),\n",
    "                              \"Pop/R&B\",\n",
    "                              np.where(fde[\"genre\"].str.contains(\"electronic\"),\n",
    "                                 \"Electronic\",\n",
    "                                 np.where(fde[\"genre\"].str.contains(\"electronic\"),\n",
    "                                    \"Electronic\",\n",
    "                                          np.where(fde[\"genre\"].str.contains(\"comedy\"),\n",
    "                                                \"Comedy\",\n",
    "                                    \"Rock\"))))))))\n",
    "\n",
    "fde[\"genre\"] = np.where(fde[\"genre\"].isin([\"Rock\"]),\n",
    "                        \"Rock/Indie\",\n",
    "                        fde[\"genre\"])\n",
    "con.close()"
   ]
  },
  {
   "cell_type": "code",
   "execution_count": 52,
   "metadata": {
    "collapsed": false
   },
   "outputs": [
    {
     "data": {
      "text/html": [
       "<div>\n",
       "<table border=\"1\" class=\"dataframe\">\n",
       "  <thead>\n",
       "    <tr style=\"text-align: right;\">\n",
       "      <th></th>\n",
       "      <th>index</th>\n",
       "      <th>artist</th>\n",
       "      <th>day</th>\n",
       "      <th>date</th>\n",
       "      <th>festival</th>\n",
       "      <th>followers</th>\n",
       "      <th>genre</th>\n",
       "      <th>popularity</th>\n",
       "      <th>pf_mean</th>\n",
       "      <th>pf_max</th>\n",
       "      <th>pf_min</th>\n",
       "      <th>pf_count</th>\n",
       "    </tr>\n",
       "  </thead>\n",
       "  <tbody>\n",
       "    <tr>\n",
       "      <th>0</th>\n",
       "      <td>0</td>\n",
       "      <td>TOOL</td>\n",
       "      <td>3</td>\n",
       "      <td>Sunday, June 4th</td>\n",
       "      <td>Governor's Ball</td>\n",
       "      <td>83016.0</td>\n",
       "      <td>Metal</td>\n",
       "      <td>29.0</td>\n",
       "      <td>5.9</td>\n",
       "      <td>5.9</td>\n",
       "      <td>5.9</td>\n",
       "      <td>1.0</td>\n",
       "    </tr>\n",
       "    <tr>\n",
       "      <th>1</th>\n",
       "      <td>1</td>\n",
       "      <td>CHANCE THE RAPPER</td>\n",
       "      <td>1</td>\n",
       "      <td>Friday, June 2nd</td>\n",
       "      <td>Governor's Ball</td>\n",
       "      <td>1380576.0</td>\n",
       "      <td>Rap</td>\n",
       "      <td>84.0</td>\n",
       "      <td>8.7</td>\n",
       "      <td>9.1</td>\n",
       "      <td>8.4</td>\n",
       "      <td>6.0</td>\n",
       "    </tr>\n",
       "    <tr>\n",
       "      <th>2</th>\n",
       "      <td>2</td>\n",
       "      <td>PHOENIX</td>\n",
       "      <td>2</td>\n",
       "      <td>Saturday, June 3rd</td>\n",
       "      <td>Governor's Ball</td>\n",
       "      <td>1061056.0</td>\n",
       "      <td>Rock/Indie</td>\n",
       "      <td>66.0</td>\n",
       "      <td>7.2</td>\n",
       "      <td>8.5</td>\n",
       "      <td>6.0</td>\n",
       "      <td>6.0</td>\n",
       "    </tr>\n",
       "    <tr>\n",
       "      <th>3</th>\n",
       "      <td>3</td>\n",
       "      <td>CHILDISH GAMBINO</td>\n",
       "      <td>2</td>\n",
       "      <td>Saturday, June 3rd</td>\n",
       "      <td>Governor's Ball</td>\n",
       "      <td>1790554.0</td>\n",
       "      <td>Rap</td>\n",
       "      <td>80.0</td>\n",
       "      <td>4.9</td>\n",
       "      <td>7.2</td>\n",
       "      <td>1.6</td>\n",
       "      <td>3.0</td>\n",
       "    </tr>\n",
       "    <tr>\n",
       "      <th>4</th>\n",
       "      <td>4</td>\n",
       "      <td>LORDE</td>\n",
       "      <td>1</td>\n",
       "      <td>Friday, June 2nd</td>\n",
       "      <td>Governor's Ball</td>\n",
       "      <td>2085599.0</td>\n",
       "      <td>Pop/R&amp;B</td>\n",
       "      <td>82.0</td>\n",
       "      <td>7.3</td>\n",
       "      <td>7.3</td>\n",
       "      <td>7.3</td>\n",
       "      <td>3.0</td>\n",
       "    </tr>\n",
       "  </tbody>\n",
       "</table>\n",
       "</div>"
      ],
      "text/plain": [
       "   index             artist day                date         festival  \\\n",
       "0      0               TOOL   3    Sunday, June 4th  Governor's Ball   \n",
       "1      1  CHANCE THE RAPPER   1    Friday, June 2nd  Governor's Ball   \n",
       "2      2            PHOENIX   2  Saturday, June 3rd  Governor's Ball   \n",
       "3      3   CHILDISH GAMBINO   2  Saturday, June 3rd  Governor's Ball   \n",
       "4      4              LORDE   1    Friday, June 2nd  Governor's Ball   \n",
       "\n",
       "   followers       genre  popularity  pf_mean  pf_max  pf_min  pf_count  \n",
       "0    83016.0       Metal        29.0      5.9     5.9     5.9       1.0  \n",
       "1  1380576.0         Rap        84.0      8.7     9.1     8.4       6.0  \n",
       "2  1061056.0  Rock/Indie        66.0      7.2     8.5     6.0       6.0  \n",
       "3  1790554.0         Rap        80.0      4.9     7.2     1.6       3.0  \n",
       "4  2085599.0     Pop/R&B        82.0      7.3     7.3     7.3       3.0  "
      ]
     },
     "execution_count": 52,
     "metadata": {},
     "output_type": "execute_result"
    }
   ],
   "source": [
    "fde.head()"
   ]
  },
  {
   "cell_type": "code",
   "execution_count": 53,
   "metadata": {
    "collapsed": false
   },
   "outputs": [],
   "source": [
    "fde[\"popularity_rank_fest\"] = fde.groupby([\"festival\"])[\"popularity\"].rank(ascending = False)\n",
    "fde[\"fan_base_rank_fest\"] = fde.groupby([\"festival\"])[\"followers\"].rank(ascending = False)\n",
    "fde[\"critical_metric\"] = fde[\"pf_mean\"]+fde[\"pf_count\"] #Bump up artisits who have been reviewed several times\n",
    "fde[\"critical_rank_fest\"] = fde.groupby([\"festival\"])[\"critical_metric\"].rank(ascending = False)\n",
    "fde[\"critical_rank_fest\"] = np.where(fde[\"critical_rank_fest\"].isnull(),\n",
    "                                    fde[\"critical_rank_fest\"].mean(),\n",
    "                                    fde[\"critical_rank_fest\"])"
   ]
  },
  {
   "cell_type": "code",
   "execution_count": 56,
   "metadata": {
    "collapsed": false
   },
   "outputs": [
    {
     "data": {
      "text/html": [
       "<div>\n",
       "<table border=\"1\" class=\"dataframe\">\n",
       "  <thead>\n",
       "    <tr style=\"text-align: right;\">\n",
       "      <th></th>\n",
       "      <th>index</th>\n",
       "      <th>artist</th>\n",
       "      <th>day</th>\n",
       "      <th>date</th>\n",
       "      <th>festival</th>\n",
       "      <th>followers</th>\n",
       "      <th>genre</th>\n",
       "      <th>popularity</th>\n",
       "      <th>pf_mean</th>\n",
       "      <th>pf_max</th>\n",
       "      <th>pf_min</th>\n",
       "      <th>pf_count</th>\n",
       "      <th>popularity_rank_fest</th>\n",
       "      <th>fan_base_rank_fest</th>\n",
       "      <th>critical_metric</th>\n",
       "      <th>critical_rank_fest</th>\n",
       "      <th>total_ranking_score_fest</th>\n",
       "      <th>total_rank_fest</th>\n",
       "    </tr>\n",
       "  </thead>\n",
       "  <tbody>\n",
       "    <tr>\n",
       "      <th>79</th>\n",
       "      <td>79</td>\n",
       "      <td>WIZ KHALIFA</td>\n",
       "      <td>1</td>\n",
       "      <td>Thursday, August 3th</td>\n",
       "      <td>Lollapalooza</td>\n",
       "      <td>4366292.0</td>\n",
       "      <td>Rap</td>\n",
       "      <td>86.0</td>\n",
       "      <td>6.0</td>\n",
       "      <td>7.2</td>\n",
       "      <td>4.8</td>\n",
       "      <td>12.0</td>\n",
       "      <td>5.0</td>\n",
       "      <td>1.0</td>\n",
       "      <td>18.0</td>\n",
       "      <td>1.0</td>\n",
       "      <td>41.0</td>\n",
       "      <td>1.0</td>\n",
       "    </tr>\n",
       "    <tr>\n",
       "      <th>7</th>\n",
       "      <td>7</td>\n",
       "      <td>WIZ KHALIFA</td>\n",
       "      <td>3</td>\n",
       "      <td>Sunday, June 4th</td>\n",
       "      <td>Governor's Ball</td>\n",
       "      <td>4366292.0</td>\n",
       "      <td>Rap</td>\n",
       "      <td>86.0</td>\n",
       "      <td>6.0</td>\n",
       "      <td>7.2</td>\n",
       "      <td>4.8</td>\n",
       "      <td>12.0</td>\n",
       "      <td>1.0</td>\n",
       "      <td>1.0</td>\n",
       "      <td>18.0</td>\n",
       "      <td>1.0</td>\n",
       "      <td>41.0</td>\n",
       "      <td>1.0</td>\n",
       "    </tr>\n",
       "    <tr>\n",
       "      <th>240</th>\n",
       "      <td>243</td>\n",
       "      <td>U2</td>\n",
       "      <td>1</td>\n",
       "      <td>Friday, June 9th</td>\n",
       "      <td>Bonnaroo</td>\n",
       "      <td>1677140.0</td>\n",
       "      <td>Rock/Indie</td>\n",
       "      <td>79.0</td>\n",
       "      <td>7.6</td>\n",
       "      <td>9.5</td>\n",
       "      <td>4.2</td>\n",
       "      <td>9.0</td>\n",
       "      <td>11.5</td>\n",
       "      <td>6.0</td>\n",
       "      <td>16.6</td>\n",
       "      <td>1.0</td>\n",
       "      <td>44.2</td>\n",
       "      <td>1.0</td>\n",
       "    </tr>\n",
       "    <tr>\n",
       "      <th>1</th>\n",
       "      <td>1</td>\n",
       "      <td>CHANCE THE RAPPER</td>\n",
       "      <td>1</td>\n",
       "      <td>Friday, June 2nd</td>\n",
       "      <td>Governor's Ball</td>\n",
       "      <td>1380576.0</td>\n",
       "      <td>Rap</td>\n",
       "      <td>84.0</td>\n",
       "      <td>8.7</td>\n",
       "      <td>9.1</td>\n",
       "      <td>8.4</td>\n",
       "      <td>6.0</td>\n",
       "      <td>3.0</td>\n",
       "      <td>5.0</td>\n",
       "      <td>14.7</td>\n",
       "      <td>5.0</td>\n",
       "      <td>51.4</td>\n",
       "      <td>2.0</td>\n",
       "    </tr>\n",
       "    <tr>\n",
       "      <th>242</th>\n",
       "      <td>245</td>\n",
       "      <td>THE WEEKND</td>\n",
       "      <td>3</td>\n",
       "      <td>Sunday, June 11th</td>\n",
       "      <td>Bonnaroo</td>\n",
       "      <td>5653031.0</td>\n",
       "      <td>Pop/R&amp;B</td>\n",
       "      <td>92.0</td>\n",
       "      <td>7.6</td>\n",
       "      <td>8.5</td>\n",
       "      <td>6.2</td>\n",
       "      <td>7.0</td>\n",
       "      <td>1.0</td>\n",
       "      <td>1.0</td>\n",
       "      <td>14.6</td>\n",
       "      <td>5.0</td>\n",
       "      <td>46.2</td>\n",
       "      <td>2.0</td>\n",
       "    </tr>\n",
       "  </tbody>\n",
       "</table>\n",
       "</div>"
      ],
      "text/plain": [
       "     index             artist day                  date         festival  \\\n",
       "79      79        WIZ KHALIFA   1  Thursday, August 3th     Lollapalooza   \n",
       "7        7        WIZ KHALIFA   3      Sunday, June 4th  Governor's Ball   \n",
       "240    243                 U2   1      Friday, June 9th         Bonnaroo   \n",
       "1        1  CHANCE THE RAPPER   1      Friday, June 2nd  Governor's Ball   \n",
       "242    245         THE WEEKND   3     Sunday, June 11th         Bonnaroo   \n",
       "\n",
       "     followers       genre  popularity  pf_mean  pf_max  pf_min  pf_count  \\\n",
       "79   4366292.0         Rap        86.0      6.0     7.2     4.8      12.0   \n",
       "7    4366292.0         Rap        86.0      6.0     7.2     4.8      12.0   \n",
       "240  1677140.0  Rock/Indie        79.0      7.6     9.5     4.2       9.0   \n",
       "1    1380576.0         Rap        84.0      8.7     9.1     8.4       6.0   \n",
       "242  5653031.0     Pop/R&B        92.0      7.6     8.5     6.2       7.0   \n",
       "\n",
       "     popularity_rank_fest  fan_base_rank_fest  critical_metric  \\\n",
       "79                    5.0                 1.0             18.0   \n",
       "7                     1.0                 1.0             18.0   \n",
       "240                  11.5                 6.0             16.6   \n",
       "1                     3.0                 5.0             14.7   \n",
       "242                   1.0                 1.0             14.6   \n",
       "\n",
       "     critical_rank_fest  total_ranking_score_fest  total_rank_fest  \n",
       "79                  1.0                      41.0              1.0  \n",
       "7                   1.0                      41.0              1.0  \n",
       "240                 1.0                      44.2              1.0  \n",
       "1                   5.0                      51.4              2.0  \n",
       "242                 5.0                      46.2              2.0  "
      ]
     },
     "execution_count": 56,
     "metadata": {},
     "output_type": "execute_result"
    }
   ],
   "source": [
    "fde[\"total_ranking_score_fest\"] = fde.iloc[:,-3:].sum(axis = 1)\n",
    "fde[\"total_rank_fest\"] = fde.groupby([\"festival\"])[\"total_ranking_score_fest\"].rank(ascending = True)\n",
    "fde.sort_values(\"total_rank_fest\").head()"
   ]
  },
  {
   "cell_type": "code",
   "execution_count": 28,
   "metadata": {
    "collapsed": false
   },
   "outputs": [],
   "source": [
    "con = sqlite3.connect(\"pitchfork-data.db\")\n",
    "#del fde[\"index\"]\n",
    "fde.to_sql(\"fest_data_enriched\", con, if_exists = \"replace\")\n",
    "con.close()"
   ]
  },
  {
   "cell_type": "code",
   "execution_count": null,
   "metadata": {
    "collapsed": false
   },
   "outputs": [],
   "source": [
    "\n",
    "\n",
    "\n",
    "\n",
    "\n",
    "\n",
    "\n",
    "\n",
    "\n",
    "\n",
    "\n",
    "\n",
    "\n",
    "\n",
    "\n",
    "\n",
    "\n",
    "\n",
    "\n",
    "\n",
    "\n",
    "\n",
    "\n",
    "\n",
    "\n",
    "\n",
    "\n",
    "\n",
    "\n",
    "\n",
    "\n",
    "\n",
    "\n"
   ]
  },
  {
   "cell_type": "code",
   "execution_count": null,
   "metadata": {
    "collapsed": true
   },
   "outputs": [],
   "source": []
  }
 ],
 "metadata": {
  "anaconda-cloud": {},
  "kernelspec": {
   "display_name": "Python 3",
   "language": "python",
   "name": "python3"
  },
  "language_info": {
   "codemirror_mode": {
    "name": "ipython",
    "version": 3
   },
   "file_extension": ".py",
   "mimetype": "text/x-python",
   "name": "python",
   "nbconvert_exporter": "python",
   "pygments_lexer": "ipython3",
   "version": "3.6.0"
  },
  "widgets": {
   "state": {
    "1522ec8fc1e84e04b69047a1037896c9": {
     "views": [
      {
       "cell_index": 29
      }
     ]
    }
   },
   "version": "1.2.0"
  }
 },
 "nbformat": 4,
 "nbformat_minor": 0
}
